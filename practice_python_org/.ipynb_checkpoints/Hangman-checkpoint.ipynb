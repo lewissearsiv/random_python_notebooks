{
 "cells": [
  {
   "cell_type": "markdown",
   "metadata": {},
   "source": [
    "### Building Hangman!\n",
    "\n",
    "We will build an interactive hangman game for the enjoyment of the simpletons. This is from Practice Python exercises 30, 31, and 32! Like the Tic-Tact-Toe exercise, we create an object for the game and then a front end that interacts with the object."
   ]
  },
  {
   "cell_type": "code",
   "execution_count": 1,
   "metadata": {},
   "outputs": [],
   "source": [
    "import random\n",
    "def random_word():\n",
    "    '''This is the random word generator.'''\n",
    "    with open('sowpods.txt', 'r') as file:\n",
    "        data = file.read().replace('\\n', ' ')\n",
    "    words = data.split()\n",
    "    return random.choice(words)"
   ]
  },
  {
   "cell_type": "code",
   "execution_count": 191,
   "metadata": {},
   "outputs": [],
   "source": [
    "class hangman_object(object):\n",
    "    '''This will be the object that contains the game of hangman!\n",
    "    \n",
    "    **Functions**\n",
    "    -------------\n",
    "    \n",
    "     __init__: Initializes the word and creates the initial board.\n",
    "        guess: Updates the board and graveyard based on the letter guessed\n",
    "    game_over: Evaluates if the game is over\n",
    "    '''\n",
    "    \n",
    "    def __init__(self):\n",
    "        '''Initializes the hidden word.'''\n",
    "        \n",
    "        self.secret_word = random_word().lower()\n",
    "        self.tokens = [self.secret_word[i] for i in range(len(self.secret_word))]\n",
    "        self.board = \" _\" * len(self.secret_word)+ \" \"\n",
    "        self.wrong_guesses = []\n",
    "        \n",
    "    def guess(self, letter):\n",
    "        '''Evaluate a guessed letter.''' \n",
    "        \n",
    "        #Get the correct indices and the number correct\n",
    "        correct_indices = [i for i, val in enumerate(self.tokens) if val == letter.lower()]\n",
    "        self.number_correct = len(correct_indices)\n",
    "        \n",
    "        #Keep a tally of wrong letters:\n",
    "        if self.number_correct == 0:\n",
    "            self.wrong_guesses.append(letter)\n",
    "        \n",
    "        #Reshape the board\n",
    "        format_correct_letters = [2*i + 1 for i in correct_indices]\n",
    "        update = \"\"\n",
    "        for i in range(len(self.board)):\n",
    "            if i in format_correct_letters:\n",
    "                update += letter\n",
    "            else:\n",
    "                update += self.board[i]\n",
    "        self.board = update\n",
    "        \n",
    "        #Format the graveyard\n",
    "        if len(self.wrong_guesses) == 0:\n",
    "            self.graveyard = \"****No Wrong Letters yet!****\"\n",
    "        else:\n",
    "            self.wrong_guesses.sort()\n",
    "            graveyard_string = \"*\"+\"-\"*13 + \"*\" +\"\\n|Wrong Letters|\\n\"+\"*\"+\"-\"*13+\"*\"+'\\n'\n",
    "            for index, letter in enumerate(self.wrong_guesses):\n",
    "                if index != len(self.wrong_guesses) - 1:\n",
    "                    graveyard_string += letter + \" - \"\n",
    "                else:\n",
    "                    graveyard_string += letter\n",
    "\n",
    "\n",
    "            self.graveyard = graveyard_string\n",
    "            \n",
    "    \n",
    "    def is_game_over(self):\n",
    "        '''This is a boolean indicator of whether the game is over.'''\n",
    "        return '_' not in game.board"
   ]
  },
  {
   "cell_type": "code",
   "execution_count": 198,
   "metadata": {},
   "outputs": [],
   "source": [
    "import time\n",
    "def lets_play_hangman():\n",
    "    '''This is the front-end gameplay that incorporates the board object above.'''\n",
    "    \n",
    "    ##############Just a little introduction##############\n",
    "    stars = \"***********************************\\n\"\n",
    "    welcome_note = \"* Welcome to the game of Hangman! *\\n\"\n",
    "    print(stars + welcome_note + stars)\n",
    "    time.sleep(2)\n",
    "    while True:\n",
    "        intro_input = input(\"Do you want to play a game of hangman?\\nType 'Yes' to play or 'No' to exit.\")\n",
    "        if intro_input.lower() == 'no':\n",
    "            print(\"\\nThat's too bad.\\n\")\n",
    "            return '8==========D~~~~'\n",
    "        elif intro_input.lower() == 'yes':\n",
    "            print(\"\\nAlright. I'm going to think of a good word!\\nAt any point if you're bored, just type 'Exit'.\")\n",
    "            time.sleep(0.5)\n",
    "            game = hangman_object()\n",
    "            print(\"\\nOkay. I'm all set.\\n\")\n",
    "            time.sleep(0.5)\n",
    "            break\n",
    "        else:\n",
    "            time.sleep(0.5)\n",
    "            print(\"You're going to have to be a little more clear. Work with me!\")\n",
    "        \n",
    "    \n",
    "    ##############This is the gameplay##############\n",
    "    while game.is_game_over() == False:\n",
    "        \n",
    "        print(game.board)\n",
    "        time.sleep(0.5)\n",
    "        user_guess = input('\\nGuess a letter!           ')\n",
    "        time.sleep(0.5)\n",
    "        \n",
    "        #Exit command\n",
    "        if user_guess.lower() == 'exit':\n",
    "            return \"See you next time.\"\n",
    "        \n",
    "        \n",
    "        #Check if the letter has been guessed\n",
    "        if user_guess in game.wrong_guesses:\n",
    "            print(\"\\nYou've already guessed this letter!\")\n",
    "        elif user_guess in game.board:\n",
    "            print(\"\\nYou've already guessed this letter!\")\n",
    "        elif len(user_guess) >1:\n",
    "            print(\"\\nPlease just enter one letter.\")\n",
    "        else:\n",
    "            #Evaluate a new guess\n",
    "            game.guess(user_guess)\n",
    "            if game.number_correct == 0:\n",
    "                print(\"\\nGuess again! Not in my purview.\")\n",
    "            elif game.number_correct == 1:\n",
    "                print(\"\\nYou got one!\")\n",
    "            elif game.number_correct > 1:\n",
    "                print(\"\\nYou got {} letters. Nice!\\n\".format(game.number_correct))\n",
    "            #Give wrong letters\n",
    "            print('\\n'+ game.graveyard + '\\n')\n",
    "\n",
    "    \n",
    "    print(\"Congrats! You got the word: {}\".format(game.secret_word.lower()))      "
   ]
  },
  {
   "cell_type": "code",
   "execution_count": 199,
   "metadata": {},
   "outputs": [
    {
     "name": "stdout",
     "output_type": "stream",
     "text": [
      "***********************************\n",
      "* Welcome to the game of Hangman! *\n",
      "***********************************\n",
      "\n",
      "Do you want to play a game of hangman?\n",
      "Type 'Yes' to play or 'No' to exit.yes\n",
      "\n",
      "Alright. I'm going to think of a good word!\n",
      "At any point if you're bored, just type 'Exit'.\n",
      "\n",
      "Okay. I'm all set.\n",
      "\n",
      " _ _ _ _ _ _ _ _ _ _ _ _ _ \n",
      "\n",
      "Guess a letter!           a\n",
      "\n",
      "Guess again! Not in my purview.\n",
      "\n",
      "*-------------*\n",
      "|Wrong Letters|\n",
      "*-------------*\n",
      "a\n",
      "\n",
      " _ _ _ _ _ _ _ _ _ _ _ _ _ \n",
      "\n",
      "Guess a letter!           e\n",
      "\n",
      "You got 2 letters. Nice!\n",
      "\n",
      "\n",
      "*-------------*\n",
      "|Wrong Letters|\n",
      "*-------------*\n",
      "a\n",
      "\n",
      " _ e _ _ _ _ _ _ _ _ _ e _ \n",
      "\n",
      "Guess a letter!           s\n",
      "\n",
      "You got 2 letters. Nice!\n",
      "\n",
      "\n",
      "*-------------*\n",
      "|Wrong Letters|\n",
      "*-------------*\n",
      "a\n",
      "\n",
      " _ e _ _ _ _ _ s _ _ _ e s \n",
      "\n",
      "Guess a letter!           t\n",
      "\n",
      "You got one!\n",
      "\n",
      "*-------------*\n",
      "|Wrong Letters|\n",
      "*-------------*\n",
      "a\n",
      "\n",
      " _ e _ _ _ _ _ s _ t _ e s \n",
      "\n",
      "Guess a letter!           p\n",
      "\n",
      "Guess again! Not in my purview.\n",
      "\n",
      "*-------------*\n",
      "|Wrong Letters|\n",
      "*-------------*\n",
      "a - p\n",
      "\n",
      " _ e _ _ _ _ _ s _ t _ e s \n",
      "\n",
      "Guess a letter!           b\n",
      "\n",
      "Guess again! Not in my purview.\n",
      "\n",
      "*-------------*\n",
      "|Wrong Letters|\n",
      "*-------------*\n",
      "a - b - p\n",
      "\n",
      " _ e _ _ _ _ _ s _ t _ e s \n",
      "\n",
      "Guess a letter!           r\n",
      "\n",
      "You got one!\n",
      "\n",
      "*-------------*\n",
      "|Wrong Letters|\n",
      "*-------------*\n",
      "a - b - p\n",
      "\n",
      " r e _ _ _ _ _ s _ t _ e s \n",
      "\n",
      "Guess a letter!           u\n",
      "\n",
      "Guess again! Not in my purview.\n",
      "\n",
      "*-------------*\n",
      "|Wrong Letters|\n",
      "*-------------*\n",
      "a - b - p - u\n",
      "\n",
      " r e _ _ _ _ _ s _ t _ e s \n",
      "\n",
      "Guess a letter!           i\n",
      "\n",
      "You got 4 letters. Nice!\n",
      "\n",
      "\n",
      "*-------------*\n",
      "|Wrong Letters|\n",
      "*-------------*\n",
      "a - b - p - u\n",
      "\n",
      " r e _ i _ i _ s i t i e s \n",
      "\n",
      "Guess a letter!           c\n",
      "\n",
      "Guess again! Not in my purview.\n",
      "\n",
      "*-------------*\n",
      "|Wrong Letters|\n",
      "*-------------*\n",
      "a - b - c - p - u\n",
      "\n",
      " r e _ i _ i _ s i t i e s \n",
      "\n",
      "Guess a letter!           n\n",
      "\n",
      "Guess again! Not in my purview.\n",
      "\n",
      "*-------------*\n",
      "|Wrong Letters|\n",
      "*-------------*\n",
      "a - b - c - n - p - u\n",
      "\n",
      " r e _ i _ i _ s i t i e s \n",
      "\n",
      "Guess a letter!           m\n",
      "\n",
      "Guess again! Not in my purview.\n",
      "\n",
      "*-------------*\n",
      "|Wrong Letters|\n",
      "*-------------*\n",
      "a - b - c - m - n - p - u\n",
      "\n",
      " r e _ i _ i _ s i t i e s \n",
      "\n",
      "Guess a letter!           l\n",
      "\n",
      "You got one!\n",
      "\n",
      "*-------------*\n",
      "|Wrong Letters|\n",
      "*-------------*\n",
      "a - b - c - m - n - p - u\n",
      "\n",
      " r e l i _ i _ s i t i e s \n",
      "\n",
      "Guess a letter!           z\n",
      "\n",
      "Guess again! Not in my purview.\n",
      "\n",
      "*-------------*\n",
      "|Wrong Letters|\n",
      "*-------------*\n",
      "a - b - c - m - n - p - u - z\n",
      "\n",
      " r e l i _ i _ s i t i e s \n",
      "\n",
      "Guess a letter!           k\n",
      "\n",
      "Guess again! Not in my purview.\n",
      "\n",
      "*-------------*\n",
      "|Wrong Letters|\n",
      "*-------------*\n",
      "a - b - c - k - m - n - p - u - z\n",
      "\n",
      " r e l i _ i _ s i t i e s \n",
      "\n",
      "Guess a letter!           d\n",
      "\n",
      "Guess again! Not in my purview.\n",
      "\n",
      "*-------------*\n",
      "|Wrong Letters|\n",
      "*-------------*\n",
      "a - b - c - d - k - m - n - p - u - z\n",
      "\n",
      " r e l i _ i _ s i t i e s \n",
      "\n",
      "Guess a letter!           g\n",
      "\n",
      "You got one!\n",
      "\n",
      "*-------------*\n",
      "|Wrong Letters|\n",
      "*-------------*\n",
      "a - b - c - d - k - m - n - p - u - z\n",
      "\n",
      " r e l i g i _ s i t i e s \n",
      "\n",
      "Guess a letter!           o\n",
      "\n",
      "You got one!\n",
      "\n",
      "*-------------*\n",
      "|Wrong Letters|\n",
      "*-------------*\n",
      "a - b - c - d - k - m - n - p - u - z\n",
      "\n",
      " r e l i g i o s i t i e s \n"
     ]
    },
    {
     "ename": "KeyboardInterrupt",
     "evalue": "Interrupted by user",
     "output_type": "error",
     "traceback": [
      "\u001b[0;31m---------------------------------------------------------------------------\u001b[0m",
      "\u001b[0;31mKeyboardInterrupt\u001b[0m                         Traceback (most recent call last)",
      "\u001b[0;32m<ipython-input-199-5ee8c0f77534>\u001b[0m in \u001b[0;36m<module>\u001b[0;34m\u001b[0m\n\u001b[0;32m----> 1\u001b[0;31m \u001b[0mlets_play_hangman\u001b[0m\u001b[0;34m(\u001b[0m\u001b[0;34m)\u001b[0m\u001b[0;34m\u001b[0m\u001b[0;34m\u001b[0m\u001b[0m\n\u001b[0m",
      "\u001b[0;32m<ipython-input-198-83a62c11fa12>\u001b[0m in \u001b[0;36mlets_play_hangman\u001b[0;34m()\u001b[0m\n\u001b[1;32m     30\u001b[0m         \u001b[0mprint\u001b[0m\u001b[0;34m(\u001b[0m\u001b[0mgame\u001b[0m\u001b[0;34m.\u001b[0m\u001b[0mboard\u001b[0m\u001b[0;34m)\u001b[0m\u001b[0;34m\u001b[0m\u001b[0;34m\u001b[0m\u001b[0m\n\u001b[1;32m     31\u001b[0m         \u001b[0mtime\u001b[0m\u001b[0;34m.\u001b[0m\u001b[0msleep\u001b[0m\u001b[0;34m(\u001b[0m\u001b[0;36m0.5\u001b[0m\u001b[0;34m)\u001b[0m\u001b[0;34m\u001b[0m\u001b[0;34m\u001b[0m\u001b[0m\n\u001b[0;32m---> 32\u001b[0;31m         \u001b[0muser_guess\u001b[0m \u001b[0;34m=\u001b[0m \u001b[0minput\u001b[0m\u001b[0;34m(\u001b[0m\u001b[0;34m'\\nGuess a letter!           '\u001b[0m\u001b[0;34m)\u001b[0m\u001b[0;34m\u001b[0m\u001b[0;34m\u001b[0m\u001b[0m\n\u001b[0m\u001b[1;32m     33\u001b[0m         \u001b[0mtime\u001b[0m\u001b[0;34m.\u001b[0m\u001b[0msleep\u001b[0m\u001b[0;34m(\u001b[0m\u001b[0;36m0.5\u001b[0m\u001b[0;34m)\u001b[0m\u001b[0;34m\u001b[0m\u001b[0;34m\u001b[0m\u001b[0m\n\u001b[1;32m     34\u001b[0m \u001b[0;34m\u001b[0m\u001b[0m\n",
      "\u001b[0;32m~/opt/anaconda3/lib/python3.7/site-packages/ipykernel/kernelbase.py\u001b[0m in \u001b[0;36mraw_input\u001b[0;34m(self, prompt)\u001b[0m\n\u001b[1;32m    861\u001b[0m             \u001b[0mself\u001b[0m\u001b[0;34m.\u001b[0m\u001b[0m_parent_ident\u001b[0m\u001b[0;34m,\u001b[0m\u001b[0;34m\u001b[0m\u001b[0;34m\u001b[0m\u001b[0m\n\u001b[1;32m    862\u001b[0m             \u001b[0mself\u001b[0m\u001b[0;34m.\u001b[0m\u001b[0m_parent_header\u001b[0m\u001b[0;34m,\u001b[0m\u001b[0;34m\u001b[0m\u001b[0;34m\u001b[0m\u001b[0m\n\u001b[0;32m--> 863\u001b[0;31m             \u001b[0mpassword\u001b[0m\u001b[0;34m=\u001b[0m\u001b[0;32mFalse\u001b[0m\u001b[0;34m,\u001b[0m\u001b[0;34m\u001b[0m\u001b[0;34m\u001b[0m\u001b[0m\n\u001b[0m\u001b[1;32m    864\u001b[0m         )\n\u001b[1;32m    865\u001b[0m \u001b[0;34m\u001b[0m\u001b[0m\n",
      "\u001b[0;32m~/opt/anaconda3/lib/python3.7/site-packages/ipykernel/kernelbase.py\u001b[0m in \u001b[0;36m_input_request\u001b[0;34m(self, prompt, ident, parent, password)\u001b[0m\n\u001b[1;32m    902\u001b[0m             \u001b[0;32mexcept\u001b[0m \u001b[0mKeyboardInterrupt\u001b[0m\u001b[0;34m:\u001b[0m\u001b[0;34m\u001b[0m\u001b[0;34m\u001b[0m\u001b[0m\n\u001b[1;32m    903\u001b[0m                 \u001b[0;31m# re-raise KeyboardInterrupt, to truncate traceback\u001b[0m\u001b[0;34m\u001b[0m\u001b[0;34m\u001b[0m\u001b[0;34m\u001b[0m\u001b[0m\n\u001b[0;32m--> 904\u001b[0;31m                 \u001b[0;32mraise\u001b[0m \u001b[0mKeyboardInterrupt\u001b[0m\u001b[0;34m(\u001b[0m\u001b[0;34m\"Interrupted by user\"\u001b[0m\u001b[0;34m)\u001b[0m \u001b[0;32mfrom\u001b[0m \u001b[0;32mNone\u001b[0m\u001b[0;34m\u001b[0m\u001b[0;34m\u001b[0m\u001b[0m\n\u001b[0m\u001b[1;32m    905\u001b[0m             \u001b[0;32mexcept\u001b[0m \u001b[0mException\u001b[0m \u001b[0;32mas\u001b[0m \u001b[0me\u001b[0m\u001b[0;34m:\u001b[0m\u001b[0;34m\u001b[0m\u001b[0;34m\u001b[0m\u001b[0m\n\u001b[1;32m    906\u001b[0m                 \u001b[0mself\u001b[0m\u001b[0;34m.\u001b[0m\u001b[0mlog\u001b[0m\u001b[0;34m.\u001b[0m\u001b[0mwarning\u001b[0m\u001b[0;34m(\u001b[0m\u001b[0;34m\"Invalid Message:\"\u001b[0m\u001b[0;34m,\u001b[0m \u001b[0mexc_info\u001b[0m\u001b[0;34m=\u001b[0m\u001b[0;32mTrue\u001b[0m\u001b[0;34m)\u001b[0m\u001b[0;34m\u001b[0m\u001b[0;34m\u001b[0m\u001b[0m\n",
      "\u001b[0;31mKeyboardInterrupt\u001b[0m: Interrupted by user"
     ]
    },
    {
     "name": "stdout",
     "output_type": "stream",
     "text": [
      "\n",
      "Guess a letter!           l\n"
     ]
    }
   ],
   "source": [
    "lets_play_hangman()"
   ]
  },
  {
   "cell_type": "code",
   "execution_count": 200,
   "metadata": {},
   "outputs": [
    {
     "data": {
      "text/plain": [
       "'mellific'"
      ]
     },
     "execution_count": 200,
     "metadata": {},
     "output_type": "execute_result"
    }
   ],
   "source": [
    "game = hangman_object()\n",
    "game.secret_word"
   ]
  },
  {
   "cell_type": "code",
   "execution_count": 211,
   "metadata": {},
   "outputs": [],
   "source": [
    "game.guess('c')"
   ]
  },
  {
   "cell_type": "code",
   "execution_count": 214,
   "metadata": {},
   "outputs": [
    {
     "data": {
      "text/plain": [
       "True"
      ]
     },
     "execution_count": 214,
     "metadata": {},
     "output_type": "execute_result"
    }
   ],
   "source": [
    "game.is_game_over()"
   ]
  },
  {
   "cell_type": "code",
   "execution_count": 157,
   "metadata": {},
   "outputs": [
    {
     "name": "stdout",
     "output_type": "stream",
     "text": [
      "*-------------*\n",
      "|Wrong Letters|\n",
      "*-------------*\n",
      "y - z\n"
     ]
    }
   ],
   "source": [
    "print(game.graveyard)"
   ]
  },
  {
   "cell_type": "code",
   "execution_count": 106,
   "metadata": {},
   "outputs": [
    {
     "data": {
      "text/plain": [
       "['l']"
      ]
     },
     "execution_count": 106,
     "metadata": {},
     "output_type": "execute_result"
    }
   ],
   "source": [
    "game.wrong_guesses"
   ]
  },
  {
   "cell_type": "code",
   "execution_count": 91,
   "metadata": {},
   "outputs": [
    {
     "data": {
      "text/plain": [
       "['a', 'b', 'c', 'x']"
      ]
     },
     "execution_count": 91,
     "metadata": {},
     "output_type": "execute_result"
    }
   ],
   "source": [
    "x = ['x', 'a', 'b', 'c']\n",
    "x.sort()\n",
    "x"
   ]
  },
  {
   "cell_type": "code",
   "execution_count": 42,
   "metadata": {},
   "outputs": [
    {
     "data": {
      "text/plain": [
       "' _ _ _ _ _ '"
      ]
     },
     "execution_count": 42,
     "metadata": {},
     "output_type": "execute_result"
    }
   ],
   "source": [
    "a = \"canal\"\n",
    "line = \" _\" * len(a)+ \" \"\n",
    "line"
   ]
  },
  {
   "cell_type": "code",
   "execution_count": 43,
   "metadata": {},
   "outputs": [],
   "source": [
    "x = [a[i] for i in range(len(a))]"
   ]
  },
  {
   "cell_type": "code",
   "execution_count": 44,
   "metadata": {},
   "outputs": [
    {
     "data": {
      "text/plain": [
       "['c', 'a', 'n', 'a', 'l']"
      ]
     },
     "execution_count": 44,
     "metadata": {},
     "output_type": "execute_result"
    }
   ],
   "source": [
    "x"
   ]
  },
  {
   "cell_type": "code",
   "execution_count": 49,
   "metadata": {},
   "outputs": [
    {
     "data": {
      "text/plain": [
       "[1, 3]"
      ]
     },
     "execution_count": 49,
     "metadata": {},
     "output_type": "execute_result"
    }
   ],
   "source": [
    "correct = [i for i, val in enumerate(x) if val == 'a']\n",
    "correct"
   ]
  },
  {
   "cell_type": "code",
   "execution_count": 50,
   "metadata": {},
   "outputs": [
    {
     "data": {
      "text/plain": [
       "[3, 7]"
      ]
     },
     "execution_count": 50,
     "metadata": {},
     "output_type": "execute_result"
    }
   ],
   "source": [
    "line_correct = [2*i + 1 for i in correct]\n",
    "line_correct"
   ]
  },
  {
   "cell_type": "code",
   "execution_count": 51,
   "metadata": {},
   "outputs": [],
   "source": [
    "s = \"\"\n",
    "for i in range(len(line)):\n",
    "    if i in line_correct:\n",
    "        s += 'a'\n",
    "    else:\n",
    "        s += line[i]"
   ]
  },
  {
   "cell_type": "code",
   "execution_count": 52,
   "metadata": {},
   "outputs": [
    {
     "data": {
      "text/plain": [
       "' _ a _ a _ '"
      ]
     },
     "execution_count": 52,
     "metadata": {},
     "output_type": "execute_result"
    }
   ],
   "source": [
    "s"
   ]
  },
  {
   "cell_type": "code",
   "execution_count": 22,
   "metadata": {},
   "outputs": [
    {
     "data": {
      "text/plain": [
       "'_'"
      ]
     },
     "execution_count": 22,
     "metadata": {},
     "output_type": "execute_result"
    }
   ],
   "source": [
    "line[1]"
   ]
  },
  {
   "cell_type": "code",
   "execution_count": null,
   "metadata": {},
   "outputs": [],
   "source": []
  }
 ],
 "metadata": {
  "kernelspec": {
   "display_name": "Python 3",
   "language": "python",
   "name": "python3"
  },
  "language_info": {
   "codemirror_mode": {
    "name": "ipython",
    "version": 3
   },
   "file_extension": ".py",
   "mimetype": "text/x-python",
   "name": "python",
   "nbconvert_exporter": "python",
   "pygments_lexer": "ipython3",
   "version": "3.7.7"
  }
 },
 "nbformat": 4,
 "nbformat_minor": 4
}
