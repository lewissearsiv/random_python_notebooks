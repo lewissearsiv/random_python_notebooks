{
 "cells": [
  {
   "cell_type": "markdown",
   "metadata": {},
   "source": [
    "### Practice Python Questions\n",
    "Taken from the website [Practice Python](https://www.practicepython.org)."
   ]
  },
  {
   "cell_type": "markdown",
   "metadata": {},
   "source": [
    "**Exercise 1:** Create a program that asks the user to enter their name and their age. Print out a message addressed to them that tells them the year that they will turn 100 years old. "
   ]
  },
  {
   "cell_type": "code",
   "execution_count": 21,
   "metadata": {},
   "outputs": [],
   "source": [
    "def what_year_will_you_turn_100():\n",
    "    name = input(\"What is your name?\")\n",
    "    birthday = input(\"When is your Birthday (DD/MM/YYYY)\")\n",
    "    turn_100 = int(birthday[-4:])+100\n",
    "    new_date = birthday[:-4]+str(turn_100)\n",
    "    turn_100 = \"{} will turn 100 on {}.\".format(name, new_date)\n",
    "    return turn_100"
   ]
  },
  {
   "cell_type": "code",
   "execution_count": 22,
   "metadata": {},
   "outputs": [
    {
     "name": "stdout",
     "output_type": "stream",
     "text": [
      "What is your name?Lewis\n",
      "When is your Birthday (DD/MM/YYYY)02/07/1994\n"
     ]
    },
    {
     "data": {
      "text/plain": [
       "'Lewis will turn 100 on 02/07/2094.'"
      ]
     },
     "execution_count": 22,
     "metadata": {},
     "output_type": "execute_result"
    }
   ],
   "source": [
    "what_year_will_you_turn_100()"
   ]
  },
  {
   "cell_type": "markdown",
   "metadata": {},
   "source": [
    "**Exercise 2:** Ask the user for a number. Depending on whether the number is even or odd, print out an appropriate message to the user. Hint: how does an even / odd number react differently when divided by 2?"
   ]
  },
  {
   "cell_type": "code",
   "execution_count": 23,
   "metadata": {},
   "outputs": [],
   "source": [
    "def even_or_odd():\n",
    "    num = input(\"Give me a number: \")\n",
    "    if num == 0:\n",
    "        return \"By rule, 0 is not even or odd.\"\n",
    "    if int(num) % 2 == 0:\n",
    "        parity = 'even'\n",
    "    if int(num) % 2 == 1:\n",
    "        parity = 'odd'\n",
    "    result = \"Your number, {}, is {}.\".format(num, parity)\n",
    "    return result"
   ]
  },
  {
   "cell_type": "code",
   "execution_count": 24,
   "metadata": {},
   "outputs": [
    {
     "name": "stdout",
     "output_type": "stream",
     "text": [
      "Give me a number: 4\n"
     ]
    },
    {
     "data": {
      "text/plain": [
       "'Your number, 4, is even.'"
      ]
     },
     "execution_count": 24,
     "metadata": {},
     "output_type": "execute_result"
    }
   ],
   "source": [
    "even_or_odd()"
   ]
  },
  {
   "cell_type": "markdown",
   "metadata": {},
   "source": [
    "**Exercise 3:** Write a program that prints out all the elements of the list that are less than 5."
   ]
  },
  {
   "cell_type": "code",
   "execution_count": 27,
   "metadata": {},
   "outputs": [],
   "source": [
    "def list_elements_less_than(some_list):\n",
    "    limit = input(\"Give me the upper bound for the elements of the list: \")\n",
    "    return [x for x in some_list if x < int(limit)]"
   ]
  },
  {
   "cell_type": "code",
   "execution_count": 28,
   "metadata": {},
   "outputs": [
    {
     "name": "stdout",
     "output_type": "stream",
     "text": [
      "Give me the upper bound for the elements of the list: 5\n"
     ]
    },
    {
     "data": {
      "text/plain": [
       "[1, 3, 2]"
      ]
     },
     "execution_count": 28,
     "metadata": {},
     "output_type": "execute_result"
    }
   ],
   "source": [
    "list_elements_less_than_5([1,3,6,8,2])"
   ]
  },
  {
   "cell_type": "markdown",
   "metadata": {},
   "source": [
    "**Exercise 4:** Create a program that asks the user for a number and then prints out a list of all the divisors of that number. (If you don’t know what a divisor is, it is a number that divides evenly into another number. For example, 13 is a divisor of 26 because 26 / 13 has no remainder.)"
   ]
  },
  {
   "cell_type": "code",
   "execution_count": 45,
   "metadata": {},
   "outputs": [],
   "source": [
    "import math\n",
    "def divisors():\n",
    "    num = int(input(\"Input a positive integer to get the divisors: \"))\n",
    "    divisors = []\n",
    "    for i in range(1, num+1):\n",
    "        if num % i == 0:\n",
    "            divisors.append(i)\n",
    "    return print(\"\\nThe divisors of {} are:\\n{}\".format(num,divisors))    "
   ]
  },
  {
   "cell_type": "code",
   "execution_count": 46,
   "metadata": {},
   "outputs": [
    {
     "name": "stdout",
     "output_type": "stream",
     "text": [
      "Input a positive integer to get the divisors: 15\n",
      "\n",
      "The divisors of 15 are:\n",
      "[1, 3, 5, 15]\n"
     ]
    }
   ],
   "source": [
    "divisors()"
   ]
  },
  {
   "cell_type": "markdown",
   "metadata": {},
   "source": [
    "**Exercise 5:** Write a program that returns a list that contains only the elements that are common between the lists (without duplicates). Make sure your program works on two lists of different sizes."
   ]
  },
  {
   "cell_type": "code",
   "execution_count": 58,
   "metadata": {},
   "outputs": [],
   "source": [
    "def list_common_elements(list1,list2):\n",
    "    union = list(set(list1).intersection(set(list2)))\n",
    "    return union    "
   ]
  },
  {
   "cell_type": "code",
   "execution_count": 59,
   "metadata": {},
   "outputs": [
    {
     "data": {
      "text/plain": [
       "[1, 2, 3]"
      ]
     },
     "execution_count": 59,
     "metadata": {},
     "output_type": "execute_result"
    }
   ],
   "source": [
    "a = [1,2,2,3,4,5,6]\n",
    "b = [1,2,3]\n",
    "list_common_elements(a,b)"
   ]
  },
  {
   "cell_type": "markdown",
   "metadata": {},
   "source": [
    "**Exercise 6:** Ask the user for a string and print out whether this string is a palindrome or not. (A palindrome is a string that reads the same forwards and backwards.)"
   ]
  },
  {
   "cell_type": "code",
   "execution_count": 75,
   "metadata": {},
   "outputs": [],
   "source": [
    "def is_palindrome():\n",
    "    user_input = input(\"Give me any word and I'll tell you if it's a palindrome: \")\n",
    "    string = user_input.replace(\" \", \"\").lower()\n",
    "    for i in range(len(string)-1):\n",
    "        if string[i] != string[-1-i]:\n",
    "            return \"{} is not a palindrome.\".format(user_input)\n",
    "    return \"{} is a palindrome.\".format(user_input)"
   ]
  },
  {
   "cell_type": "code",
   "execution_count": 77,
   "metadata": {},
   "outputs": [
    {
     "name": "stdout",
     "output_type": "stream",
     "text": [
      "Give me any word and I'll tell you if it's a palindrome: canal\n"
     ]
    },
    {
     "data": {
      "text/plain": [
       "'canal is not a palindrome.'"
      ]
     },
     "execution_count": 77,
     "metadata": {},
     "output_type": "execute_result"
    }
   ],
   "source": [
    "is_palindrome()"
   ]
  },
  {
   "cell_type": "code",
   "execution_count": 78,
   "metadata": {},
   "outputs": [
    {
     "name": "stdout",
     "output_type": "stream",
     "text": [
      "Give me any word and I'll tell you if it's a palindrome: A man a plan a canal Panama\n"
     ]
    },
    {
     "data": {
      "text/plain": [
       "'A man a plan a canal Panama is a palindrome.'"
      ]
     },
     "execution_count": 78,
     "metadata": {},
     "output_type": "execute_result"
    }
   ],
   "source": [
    "is_palindrome()"
   ]
  },
  {
   "cell_type": "markdown",
   "metadata": {},
   "source": [
    "**Exercise 7:** Write one line of Python that takes a list and makes a new list that has only the even elements of this list in it."
   ]
  },
  {
   "cell_type": "code",
   "execution_count": 86,
   "metadata": {},
   "outputs": [],
   "source": [
    "def even_list(list1):\n",
    "    return [x for x in list1 if x % 2 == 0]"
   ]
  },
  {
   "cell_type": "code",
   "execution_count": 87,
   "metadata": {},
   "outputs": [
    {
     "data": {
      "text/plain": [
       "[2, 4, 6, 8]"
      ]
     },
     "execution_count": 87,
     "metadata": {},
     "output_type": "execute_result"
    }
   ],
   "source": [
    "even_list(list(range(1,10)))"
   ]
  },
  {
   "cell_type": "markdown",
   "metadata": {},
   "source": [
    "**Exercise 8:** Rock, Paper, Scissors"
   ]
  },
  {
   "cell_type": "code",
   "execution_count": 104,
   "metadata": {},
   "outputs": [],
   "source": [
    "import random\n",
    "def RPS_shoot():\n",
    "    choices = [\"rock\", \"paper\", \"scissors\"]\n",
    "    user_input = input(\"Rock, Paper, or Scissors?: \").lower()\n",
    "    while user_input not in choices:\n",
    "        user_input = input(\"Not a valid Entry:\\nRock, Paper, or Scissors?: \").lower()\n",
    "    comp_choice = random.choice(choices)\n",
    "    if user_input == comp_choice:\n",
    "        return \"I picked {}. Let's go again!\".format(comp_choice)\n",
    "    elif user_input == 'rock':\n",
    "        if comp_choice == \"scissors\":\n",
    "            return \"I picked scissors. You win!\"\n",
    "        else:\n",
    "            return \"I picked paper. You lose!\"\n",
    "    elif user_input == 'scissors':\n",
    "        if comp_choice == \"paper\":\n",
    "            return \"I picked paper. You win!\"\n",
    "        else:\n",
    "            return \"I picked rock. You lose!\"        \n",
    "    elif user_input == 'paper':\n",
    "        if comp_choice == \"rock\":\n",
    "            return \"I picked scissors. You win!\"\n",
    "        else:\n",
    "            return \"I picked scissors. You lose!\""
   ]
  },
  {
   "cell_type": "code",
   "execution_count": 107,
   "metadata": {},
   "outputs": [
    {
     "name": "stdout",
     "output_type": "stream",
     "text": [
      "Rock, Paper, or Scissors?: scissors\n"
     ]
    },
    {
     "data": {
      "text/plain": [
       "'I picked paper. You win!'"
      ]
     },
     "execution_count": 107,
     "metadata": {},
     "output_type": "execute_result"
    }
   ],
   "source": [
    "RPS_shoot()"
   ]
  },
  {
   "cell_type": "markdown",
   "metadata": {},
   "source": [
    "**Exercise 9:** Generate a random number between 1 and 9 (including 1 and 9). Ask the user to guess the number, then tell them whether they guessed too low, too high, or exactly right. (Hint: remember to use the user input lessons from the very first exercise)"
   ]
  },
  {
   "cell_type": "code",
   "execution_count": 115,
   "metadata": {},
   "outputs": [],
   "source": [
    "import random\n",
    "def guessing_game_1_to_9():\n",
    "    my_number = random.choice([x for x in range(1,10)])\n",
    "    guess = input(\"Guess a number you schmuck! \")\n",
    "    count = 1\n",
    "    \n",
    "    while True:\n",
    "        if guess.lower() == \"exit\":\n",
    "            return \"I can't believe you would give up!\"\n",
    "        if int(guess) == my_number:\n",
    "            if count == 1:\n",
    "                return \"Damn, you got my number, {}, and it only took {} try!\".format(my_number, count)\n",
    "            return \"You got my number, {}, and it took {} tries!\".format(my_number, count)\n",
    "        if int(guess) < my_number:\n",
    "            guess = input(\"Too low you loser! Try again. \")\n",
    "        if int(guess) > my_number:\n",
    "            guess = input(\"Too high you loser! Try again. \")\n",
    "        count += 1"
   ]
  },
  {
   "cell_type": "code",
   "execution_count": 116,
   "metadata": {},
   "outputs": [
    {
     "name": "stdout",
     "output_type": "stream",
     "text": [
      "Guess a number you schmuck! 4\n",
      "Too low you loser! Try again. 5\n"
     ]
    },
    {
     "data": {
      "text/plain": [
       "'You got my number, 5, and it took 2 tries!'"
      ]
     },
     "execution_count": 116,
     "metadata": {},
     "output_type": "execute_result"
    }
   ],
   "source": [
    "guessing_game_1_to_9()"
   ]
  },
  {
   "cell_type": "markdown",
   "metadata": {},
   "source": [
    "**Exercise 10:** Write a program that returns a list that contains only the elements that are common between the lists (without duplicates). Make sure your program works on two lists of different sizes. Same as 5 but use list comprehensions."
   ]
  },
  {
   "cell_type": "code",
   "execution_count": 131,
   "metadata": {},
   "outputs": [],
   "source": [
    "def exercise_5_again(list1, list2):\n",
    "    return list(set([x for x in list1 if x in list2]))"
   ]
  },
  {
   "cell_type": "code",
   "execution_count": 132,
   "metadata": {},
   "outputs": [
    {
     "data": {
      "text/plain": [
       "[1, 2, 3]"
      ]
     },
     "execution_count": 132,
     "metadata": {},
     "output_type": "execute_result"
    }
   ],
   "source": [
    "a = [1,2,2,3,4,5,6]\n",
    "b = [1,2,3,7]\n",
    "exercise_5_again(a,b)"
   ]
  },
  {
   "cell_type": "markdown",
   "metadata": {},
   "source": [
    "**Exercise 11:** Ask the user for a number and determine whether the number is prime or not."
   ]
  },
  {
   "cell_type": "code",
   "execution_count": 135,
   "metadata": {},
   "outputs": [],
   "source": [
    "import math\n",
    "def is_prime():\n",
    "    number = int(input(\"Give me a number: \"))\n",
    "    for i in range(2, math.floor(number/2)):\n",
    "        if number % i == 0:\n",
    "            return \"{} is not prime.\".format(number)\n",
    "    return \"{} is prime.\".format(number)"
   ]
  },
  {
   "cell_type": "code",
   "execution_count": 138,
   "metadata": {},
   "outputs": [
    {
     "name": "stdout",
     "output_type": "stream",
     "text": [
      "Give me a number: 6\n"
     ]
    },
    {
     "data": {
      "text/plain": [
       "'6 is not prime.'"
      ]
     },
     "execution_count": 138,
     "metadata": {},
     "output_type": "execute_result"
    }
   ],
   "source": [
    "is_prime()"
   ]
  },
  {
   "cell_type": "code",
   "execution_count": 139,
   "metadata": {},
   "outputs": [
    {
     "name": "stdout",
     "output_type": "stream",
     "text": [
      "Give me a number: 23\n"
     ]
    },
    {
     "data": {
      "text/plain": [
       "'23 is prime.'"
      ]
     },
     "execution_count": 139,
     "metadata": {},
     "output_type": "execute_result"
    }
   ],
   "source": [
    "is_prime()"
   ]
  },
  {
   "cell_type": "markdown",
   "metadata": {},
   "source": [
    "**Exercise 12:** Write a program that takes a list of numbers and makes a new list of only the first and last elements of the given list."
   ]
  },
  {
   "cell_type": "code",
   "execution_count": 140,
   "metadata": {},
   "outputs": [],
   "source": [
    "def first_and_last(list1):\n",
    "    return [list1[0], list1[-1]]"
   ]
  },
  {
   "cell_type": "code",
   "execution_count": 142,
   "metadata": {},
   "outputs": [
    {
     "data": {
      "text/plain": [
       "[1, 2]"
      ]
     },
     "execution_count": 142,
     "metadata": {},
     "output_type": "execute_result"
    }
   ],
   "source": [
    "first_and_last([1,3,5,4,2])"
   ]
  },
  {
   "cell_type": "markdown",
   "metadata": {},
   "source": [
    "**Exercise 13:** Write a program that asks the user how many Fibonnaci numbers to generate and then generates them. Take this opportunity to think about how you can use functions. Make sure to ask the user to enter the number of numbers in the sequence to generate."
   ]
  },
  {
   "cell_type": "code",
   "execution_count": 154,
   "metadata": {},
   "outputs": [],
   "source": [
    "def fibonnaci(num):\n",
    "    if num == 1:\n",
    "        return [1]\n",
    "    if num == 2:\n",
    "        return [1,1]\n",
    "    fib_seq = [1,1]\n",
    "    for i in range(num-2):\n",
    "        fib_seq.append(fib_seq[-1]+fib_seq[-2])\n",
    "    return fib_seq\n",
    "\n",
    "def user_fibonnaci():\n",
    "    num = int(input(\"Give me a number and I'll generate a fibonacci sequence that long: \"))\n",
    "    return fibonnaci(num)\n",
    "    \n",
    "    \n",
    "    \n",
    "    \n",
    "    \n",
    "    \n",
    "    "
   ]
  },
  {
   "cell_type": "code",
   "execution_count": 156,
   "metadata": {},
   "outputs": [
    {
     "name": "stdout",
     "output_type": "stream",
     "text": [
      "Give me a number and I'll generate a fibonacci sequence that long: 15\n"
     ]
    },
    {
     "data": {
      "text/plain": [
       "[1, 1, 2, 3, 5, 8, 13, 21, 34, 55, 89, 144, 233, 377, 610]"
      ]
     },
     "execution_count": 156,
     "metadata": {},
     "output_type": "execute_result"
    }
   ],
   "source": [
    "user_fibonnaci()"
   ]
  },
  {
   "cell_type": "markdown",
   "metadata": {},
   "source": [
    "**Exercise 14:** Write a program that takes a list and returns a new list that contains all the elements of the first list minus all the duplicates."
   ]
  },
  {
   "cell_type": "code",
   "execution_count": 159,
   "metadata": {},
   "outputs": [],
   "source": [
    "#With for loop\n",
    "def list_unique_for_loop(some_list):\n",
    "    new_list = []\n",
    "    for element in some_list:\n",
    "        if element not in new_list:\n",
    "            new_list.append(element)\n",
    "    return new_list\n",
    "\n",
    "#Use Sets\n",
    "def list_unique_set(some_list):\n",
    "    return list(set(some_list))"
   ]
  },
  {
   "cell_type": "code",
   "execution_count": 160,
   "metadata": {},
   "outputs": [
    {
     "data": {
      "text/plain": [
       "[1, 3, 5, 4]"
      ]
     },
     "execution_count": 160,
     "metadata": {},
     "output_type": "execute_result"
    }
   ],
   "source": [
    "list_unique_for_loop([1,3,5,1,3,5,1,4,5])"
   ]
  },
  {
   "cell_type": "code",
   "execution_count": 161,
   "metadata": {},
   "outputs": [
    {
     "data": {
      "text/plain": [
       "[1, 3, 4, 5]"
      ]
     },
     "execution_count": 161,
     "metadata": {},
     "output_type": "execute_result"
    }
   ],
   "source": [
    "list_unique_set([1,3,5,1,3,5,1,4,5])"
   ]
  },
  {
   "cell_type": "markdown",
   "metadata": {},
   "source": [
    "**Exercise 15:** Write a program that asks the user for a long string containing multiple words. Print back to the user the same string, except with the words in backwards order."
   ]
  },
  {
   "cell_type": "code",
   "execution_count": 178,
   "metadata": {},
   "outputs": [],
   "source": [
    "def reverse_word_order():\n",
    "    string = input(\"Give me a string to reverse: \")\n",
    "    word_list = string.split()\n",
    "    output = \"\"\n",
    "    for i in range(1,len(word_list)+1):\n",
    "        output += word_list[-i]+ \" \"\n",
    "    return output[:-1]"
   ]
  },
  {
   "cell_type": "code",
   "execution_count": 180,
   "metadata": {},
   "outputs": [
    {
     "name": "stdout",
     "output_type": "stream",
     "text": [
      "Give me a string to reverse: this is a test\n"
     ]
    },
    {
     "data": {
      "text/plain": [
       "'test a is this'"
      ]
     },
     "execution_count": 180,
     "metadata": {},
     "output_type": "execute_result"
    }
   ],
   "source": [
    "reverse_word_order()"
   ]
  },
  {
   "cell_type": "markdown",
   "metadata": {},
   "source": [
    "**Exercise 16:** Write a password generator in Python. Be creative with how you generate passwords - strong passwords have a mix of lowercase letters, uppercase letters, numbers, and symbols. The passwords should be random, generating a new password every time the user asks for a new password. Include your run-time code in a main method."
   ]
  },
  {
   "cell_type": "code",
   "execution_count": 182,
   "metadata": {},
   "outputs": [],
   "source": [
    "import string\n",
    "import random\n",
    "def password_generator():\n",
    "    characters = list(string.printable)\n",
    "    length = random.choice([i for i in range(10, 20)])\n",
    "    password = \"\"\n",
    "    for i in range(length):\n",
    "        password += random.choice(characters)\n",
    "    return password"
   ]
  },
  {
   "cell_type": "code",
   "execution_count": 184,
   "metadata": {},
   "outputs": [
    {
     "data": {
      "text/plain": [
       "'ao.yKE\\nIXR_!'"
      ]
     },
     "execution_count": 184,
     "metadata": {},
     "output_type": "execute_result"
    }
   ],
   "source": [
    "password_generator()"
   ]
  },
  {
   "cell_type": "markdown",
   "metadata": {},
   "source": [
    "**Exercise 17:** Use the BeautifulSoup and requests Python packages to print out a list of all the article titles on the New York Times homepage."
   ]
  },
  {
   "cell_type": "code",
   "execution_count": 23,
   "metadata": {},
   "outputs": [],
   "source": [
    "def get_nyt_headlines():  \n",
    "    '''Gets the headlines from the website of the NYT'''\n",
    "    \n",
    "    from bs4 import BeautifulSoup as souper\n",
    "    import requests\n",
    "    import pandas as pd\n",
    "    url = 'https://www.nytimes.com'\n",
    "    response = requests.get(url)\n",
    "    soup = souper(response.text, \"lxml\")\n",
    "    headlines = []\n",
    "    articles = soup.find_all('h3')\n",
    "    for article in articles:\n",
    "        headlines.append(article.text)\n",
    "    return pd.DataFrame({\"Today's Headlines\": headlines})"
   ]
  },
  {
   "cell_type": "code",
   "execution_count": 24,
   "metadata": {},
   "outputs": [
    {
     "data": {
      "text/html": [
       "<div>\n",
       "<style scoped>\n",
       "    .dataframe tbody tr th:only-of-type {\n",
       "        vertical-align: middle;\n",
       "    }\n",
       "\n",
       "    .dataframe tbody tr th {\n",
       "        vertical-align: top;\n",
       "    }\n",
       "\n",
       "    .dataframe thead th {\n",
       "        text-align: right;\n",
       "    }\n",
       "</style>\n",
       "<table border=\"1\" class=\"dataframe\">\n",
       "  <thead>\n",
       "    <tr style=\"text-align: right;\">\n",
       "      <th></th>\n",
       "      <th>Today's Headlines</th>\n",
       "    </tr>\n",
       "  </thead>\n",
       "  <tbody>\n",
       "    <tr>\n",
       "      <th>0</th>\n",
       "      <td>10 Republicans Outline Smaller Stimulus Before...</td>\n",
       "    </tr>\n",
       "    <tr>\n",
       "      <th>1</th>\n",
       "      <td>Trump’s Campaign to Subvert the Election</td>\n",
       "    </tr>\n",
       "    <tr>\n",
       "      <th>2</th>\n",
       "      <td>Here are key takeaways from former President T...</td>\n",
       "    </tr>\n",
       "    <tr>\n",
       "      <th>3</th>\n",
       "      <td>An Emboldened Extremist Wing Flexes Its Power ...</td>\n",
       "    </tr>\n",
       "    <tr>\n",
       "      <th>4</th>\n",
       "      <td>Opinion</td>\n",
       "    </tr>\n",
       "    <tr>\n",
       "      <th>5</th>\n",
       "      <td>Editors’ Picks</td>\n",
       "    </tr>\n",
       "    <tr>\n",
       "      <th>6</th>\n",
       "      <td>Advertisement</td>\n",
       "    </tr>\n",
       "  </tbody>\n",
       "</table>\n",
       "</div>"
      ],
      "text/plain": [
       "                                   Today's Headlines\n",
       "0  10 Republicans Outline Smaller Stimulus Before...\n",
       "1           Trump’s Campaign to Subvert the Election\n",
       "2  Here are key takeaways from former President T...\n",
       "3  An Emboldened Extremist Wing Flexes Its Power ...\n",
       "4                                            Opinion\n",
       "5                                     Editors’ Picks\n",
       "6                                      Advertisement"
      ]
     },
     "execution_count": 24,
     "metadata": {},
     "output_type": "execute_result"
    }
   ],
   "source": [
    "get_nyt_headlines()"
   ]
  },
  {
   "cell_type": "markdown",
   "metadata": {},
   "source": [
    "**Exercise 18:** Create a Cows and Bulls game! Randomly generate a 4-digit number. Ask the user to guess a 4-digit number. For every digit that the user guessed correctly in the correct place, they have a “cow”. For every digit the user guessed correctly in the wrong place is a “bull.” Every time the user makes a guess, tell them how many “cows” and “bulls” they have. Once the user guesses the correct number, the game is over. Keep track of the number of guesses the user makes throughout teh game and tell the user at the end."
   ]
  },
  {
   "cell_type": "code",
   "execution_count": 208,
   "metadata": {},
   "outputs": [],
   "source": [
    "import random\n",
    "def cows_and_bulls():\n",
    "    secret_number = random.choice([i for i in range(1000, 10000)])\n",
    "    entries = [str(secret_number)[i] for i in range(4)]\n",
    "    unique_nums = set(entries)\n",
    "    guess = 1\n",
    "    \n",
    "    while True:\n",
    "        user_guess = input(\"Guess a 4 digit number.\\nType 'quit' to exit.\\nYour Guess: \")\n",
    "        if user_guess == 'quit':\n",
    "            return \"You suck! My number was {}!\".format(secret_number)\n",
    "        cows, bulls = 0, 0\n",
    "        for i in range(4):\n",
    "            if user_guess[i] == entries[i]:\n",
    "                cows += 1\n",
    "            elif user_guess[i] in unique_nums:\n",
    "                bulls += 1\n",
    "        if cows == 4:\n",
    "            return \"4 cows! You guessed my number in {} guesses!\".format(guess)\n",
    "        print(\"You have {} cow(s) and {} bull(s)\".format(cows,bulls))\n",
    "        guess += 1"
   ]
  },
  {
   "cell_type": "code",
   "execution_count": 209,
   "metadata": {},
   "outputs": [
    {
     "name": "stdout",
     "output_type": "stream",
     "text": [
      "Guess a 4 digit number.\n",
      "Type 'quit' to exit.\n",
      "Your Guess: 1111\n",
      "You have 2 cow(s) and 2 bull(s)\n",
      "Guess a 4 digit number.\n",
      "Type 'quit' to exit.\n",
      "Your Guess: 1000\n",
      "You have 2 cow(s) and 2 bull(s)\n",
      "Guess a 4 digit number.\n",
      "Type 'quit' to exit.\n",
      "Your Guess: 0100\n",
      "You have 1 cow(s) and 3 bull(s)\n",
      "Guess a 4 digit number.\n",
      "Type 'quit' to exit.\n",
      "Your Guess: quit\n"
     ]
    },
    {
     "data": {
      "text/plain": [
       "'You suck! My number was 1410!'"
      ]
     },
     "execution_count": 209,
     "metadata": {},
     "output_type": "execute_result"
    }
   ],
   "source": [
    "cows_and_bulls()"
   ]
  },
  {
   "cell_type": "markdown",
   "metadata": {},
   "source": [
    "**Exercise 19:** Using the requests and BeautifulSoup Python libraries, print to the screen the full text of the article on this website: http://www.vanityfair.com/society/2014/06/monica-lewinsky-humiliation-culture.\n",
    "\n",
    "The article is long, so it is split up between 4 pages. Your task is to print out the text to the screen so that you can read the full article without having to click any buttons. "
   ]
  },
  {
   "cell_type": "code",
   "execution_count": 37,
   "metadata": {},
   "outputs": [],
   "source": [
    "def article_condenser():  \n",
    "    '''Condense an article from vanity fair'''\n",
    "    \n",
    "    from bs4 import BeautifulSoup as souper\n",
    "    import requests\n",
    "    url = 'https://www.vanityfair.com/style/society/2014/06/monica-lewinsky-humiliation-culture'\n",
    "    response = requests.get(url)\n",
    "    soup = souper(response.text, \"lxml\")\n",
    "    paragraphs = soup.find_all('p')\n",
    "    article = \"\"\n",
    "    for paragraph in paragraphs:\n",
    "        \n",
    "        article += paragraph.text +\"\\n\"\n",
    "    return print(article)"
   ]
  },
  {
   "cell_type": "code",
   "execution_count": 38,
   "metadata": {},
   "outputs": [
    {
     "name": "stdout",
     "output_type": "stream",
     "text": [
      "To revist this article, visit My Profile, then View saved stories.\n",
      "To revist this article, visit My Profile, then View saved stories.\n",
      "By Monica Lewinsky\n",
      "Photography by Mark Seliger\n",
      "To revist this article, visit My Profile, then View saved stories.\n",
      "To revist this article, visit My Profile, then View saved stories.\n",
      "‘How does it feel to be America’s premier blow-job queen?”\n",
      "It was early 2001. I was sitting on the stage of New York’s Cooper Union in the middle of taping a Q&A for an HBO documentary. I was the subject. And I was thunderstruck.\n",
      "Hundreds of people in the audience, mostly students, were staring at me, many with their mouths agape, wondering if I would dare to answer this question.\n",
      "The main reason I had agreed to participate in the program was not to rehash or revise the story line of Interngate but to try to shift the focus to meaningful issues. Many troubling political and judicial questions had been brought to light by the investigation and impeachment of President Bill Clinton. But the most egregious had been generally ignored. People seemed indifferent to the deeper matters at hand, such as the erosion of private life in the public sphere, the balance of power and gender inequality in politics and media, and the erosion of legal protections to ensure that neither a parent nor a child should ever have to testify against each other.\n",
      "How naïve I was.\n",
      "There were gasps and sputters from the audience. Numerous blurred, faceless people called out, “Don’t answer it!”\n",
      "“It’s hurtful and it’s insulting,” I said, attempting to gather my wits. “And as insulting as it is to me, it’s even more insulting to my family. I don’t actually know why this whole story became about oral sex. I don’t. It was a mutual relationship.… The fact that it did is maybe a result of a male-dominated society.”\n",
      "The audience laughed. Maybe they were surprised to hear these words coming from me.\n",
      "I looked straight at the smirking guy who had asked the question. “You might be better poised to answer that.” After a pause, I added, “That’s probably cost me another year of therapy.”\n",
      "You could argue that in agreeing to participate in an HBO documentary called Monica in Black and White I had signed up to be shamed and publicly humiliated yet again. You might even think I would have been inured to humiliation. This encounter at Cooper Union, after all, paled in comparison with the 445-page Starr Report, which was the culmination of independent counsel Kenneth Starr’s four-year investigation of the Clinton White House. It included chapter and verse about my intimate sexual activities, along with transcripts of audiotapes that chronicled many of my private conversations. But the “B.J. Queen” question—which was included in the show when it aired on HBO in 2002—sat with me for a long time after the audience left and the taping wrapped.\n",
      "True, this wasn’t the first time I’d been stigmatized for my affair with Bill Clinton. But never had I been so directly confronted, one-on-one, with such a crass characterization. One of the unintended consequences of my agreeing to put myself out there and to try to tell the truth had been that shame would once again be hung around my neck like a scarlet-A albatross. Believe me, once it’s on, it is a bitch to take off.\n",
      "Had that awkward moment at Cooper Union aired only a few years later, with the advent of social media, the humiliation would have been even more devastating. That clip would have gone viral on Twitter, YouTube, Facebook, TMZ, Gawker. It would have become a meme of its own on Tumblr. The viralness itself would have merited mention on the Daily Beast and Huffington Post. As it was, it was viral enough, and, thanks to the all-encompassing nature of the Web, you can, 12 years later, watch it all day long on YouTube if you want to (but I really hope you have better things to do with your time).\n",
      "I know I’m not alone when it comes to public humiliation. No one, it seems, can escape the unforgiving gaze of the Internet, where gossip, half-truths, and lies take root and fester. We have created, to borrow a term from historian Nicolaus Mills, a “culture of humiliation” that not only encourages and revels in Schadenfreude but also rewards those who humiliate others, from the ranks of the paparazzi to the gossip bloggers, the late-night comedians, and the Web “entrepreneurs” who profit from clandestine videos.\n",
      "Yes, we’re all connected now. We can tweet a revolution in the streets or chronicle achievements large and small. But we’re also caught in a feedback loop of defame and shame, one in which we have become both perps and victims. We may not have become a crueler society—although it sure feels as if we have—but the Internet has seismically shifted the tone of our interactions. The ease, the speed, and the distance that our electronic devices afford us can also make us colder, more glib, and less concerned about the consequences of our pranks and prejudice. Having lived humiliation in the most intimate possible way, I marvel at how willingly we have all signed on to this new way of being.\n",
      "In my own case, each easy click of that YouTube link reinforces the archetype, despite my efforts to parry it away: Me, America’s B.J. Queen. That Intern. That Vixen. Or, in the inescapable phrase of our 42nd president, “That Woman.”\n",
      "It may surprise you to learn that I’m actually a person.\n",
      "In 1998, when news of my affair with Bill Clinton broke, I was arguably the most humiliated person in the world. Thanks to the Drudge Report, I was also possibly the first person whose global humiliation was driven by the Internet.\n",
      "For several years I tried my hand in the fashion-accessory business and became involved in various media projects, including the HBO documentary. Then I lay low for the most part. (The last major interview I granted was 10 years ago.) After all, not lying low had exposed me to criticism for trying to “capitalize” on my “notoriety.” Apparently, others talking about me is O.K.; me speaking out for myself is not. I turned down offers that would have earned me more than $10 million, because they didn’t feel like the right thing to do. Over time, the media circus quieted down, but it never quite moved on, even as I attempted to move on.\n",
      "Meanwhile, I watched my friends’ lives move forward. Marriages. Kids. Degrees. (Second marriages. More kids. More degrees.) I decided to turn over a new leaf and attend grad school.\n",
      "I moved to England to study, to challenge myself, to escape scrutiny, and to reimagine my identity. My professors and fellow students at the London School of Economics were wonderful—welcoming and respectful. I had more anonymity in London, perhaps due to the fact that I spent most of my waking hours in class or buried in the library. In 2006, I graduated with a master’s in social psychology. My master’s thesis examined social bias in the courtroom and was titled “In Search of the Impartial Juror: An Exploration of Pretrial Publicity and the Third Person Effect.” I liked to joke that I was trading the blue dress for blue stockings, and the degree provided new scaffolding to hang my life experiences on. It would also prove, so I hoped, to be a gateway to a more normal life.\n",
      "I moved between London, Los Angeles, New York, and Portland, Oregon, interviewing for a variety of jobs that fell under the umbrella of “creative communication” and “branding,” with an emphasis on charity campaigns. Yet, because of what potential employers so tactfully referred to as my “history,” I was never “quite right” for the position. In some cases, I was right for all the wrong reasons, as in “Of course, your job would require you to attend our events.” And, of course, these would be events at which press would be in attendance.\n",
      "In one promising job interview that took place during the run-up to the 2008 primary season, the conversation took an interesting turn. “So here’s the thing, Monica,” the interviewer said. “You’re clearly a bright young woman and affable, but for us—and probably any other organization that relies on grants and other government funding—it’s risky. We would first need a Letter of Indemnification from the Clintons. After all, there is a 25 percent chance that Mrs. Clinton will be the next president.” I gave a fake smile and said, “I understand.”\n",
      "Another job interview, this one typical: walked into the stark, terminally cool reception area of a hip-yet-prestigious advertising agency in Los Angeles, my hometown. As always, I put on my best “I’m friendly, not a diva” smile. “Hi. Monica Lewinsky here to see So-and-So.”\n",
      "The twentysomething receptionist pushed her black-rimmed hipster frames up her nose. “Monica who?”\n",
      "Before I could answer, another twentysomething, in skinny jeans, plaid shirt, and bow tie, rushed over and interrupted: “ Ms. Lewinsky.” Like a maître d’, he continued, “Pleasure to have you here. I’ll let So-and-So know you’ve arrived. Soy latte? Green tea? Filtered water?”\n",
      "I found myself sitting at a small round table, face-to-face with So-and-So, the agency’s head of strategy and planning. We talked. She kept wincing. This was not going well. I tried to keep myself from getting flustered. Now she was not only wincing but also clearing her throat. Was that perspiration on her brow? It hit me: she was nervous, in full-tic mode.\n",
      "I’ve had to become adept at handling any number of reactions in social situations and job interviews. I get it: it must be disconcerting to sit across from “That Woman.” Needless to say, I didn’t get the position.\n",
      "I eventually came to realize that traditional employment might not be an option for me. I’ve managed to get by (barely, at times) with my own projects, usually with start-ups that I have participated in, or with loans from friends and family.\n",
      "In another job interview I was asked, “If you were a brand, which brand would you be?” Let me tell you, when you’re Monica Lewinsky, that is one loaded question.\n",
      "In September of 2010, the culmination of these experiences began to snap into a broader context for me. A phone conversation with my mother shifted the lens through which I viewed my world. We were discussing the tragic death of Tyler Clementi. Tyler, you will recall, was an 18-year-old Rutgers freshman who was secretly streamed via Webcam kissing another man. Days later, after being derided and humiliated on social media, he committed suicide by jumping off the George Washington Bridge.\n",
      "My mom wept. Sobbing, she kept repeating over and over, “How his parents must feel … his poor parents.”\n",
      "It was an unbearably tragic event, and while hearing of it brought me to tears, too, I couldn’t quite grasp why my mom was so distraught. And then it dawned on me: she was reliving 1998, when she wouldn’t let me out of her sight. She was replaying those weeks when she stayed by my bed, night after night, because I, too, was suicidal. The shame, the scorn, and the fear that had been thrown at her daughter left her afraid that I would take my own life—a fear that I would be literally humiliated to death. (I have never actually attempted suicide, but I had strong suicidal temptations several times during the investigations and during one or two periods after.)\n",
      "I would never be so presumptuous as to equate my own story with Tyler Clementi’s. After all, my public humiliation had been the result of my involvement with a world-renowned public figure—that is, a consequence of my own poor choices. But in that moment, when I felt the depths of my mother’s anguish, I wished I could have had a chance to have spoken to Tyler about how my love life, my sex life, my most private moments, my most sensitive secrets, had been broadcast around the globe. I wished I had been able to say to him that I knew a little of how it might have felt for him to be exposed before the world. And, as hard as it is to imagine surviving it, it is possible.\n",
      "In the wake of Tyler’s tragedy, my own suffering took on a different meaning. Perhaps by sharing my story, I reasoned, I might be able to help others in their darkest moments of humiliation. The question became: How do I find and give a purpose to my past? It was my Prufrockian moment: “Do I dare / Disturb the universe?” Or, in my case, the Clinton universe.\n",
      "Despite a decade of self-imposed silence, I have been periodically resuscitated as part of the national conversation, almost always in connection with the Clintons. For instance, in January and February of this year, Rand Paul, the Kentucky senator and a possible 2016 Republican presidential aspirant, managed to drag me into the pre-election muck. He fought back against the Democrats’ charges of a G.O.P. “war on women” by arguing that Bill Clinton had committed workplace “violence” and acted in a “predatory” manner against “a 20-year-old girl who was there from college.”\n",
      "Sure, my boss took advantage of me, but I will always remain firm on this point: it was a consensual relationship. Any “abuse” came in the aftermath, when I was made a scapegoat in order to protect his powerful position.\n",
      "So, trying to disappear has not kept me out of the fray. I am, for better or for worse, presumed to be a known quantity. Every day I am recognized. Every day. Sometimes a person will walk past me again and again, as if I wouldn’t notice. (Thankfully, 99.9 percent of the time when strangers do say something to me they are supportive and respectful.) Every day someone mentions me in a tweet or a blog post, and not altogether kindly. Every day, it seems, my name shows up in an op-ed column or a press clip or two—mentioned in passing in articles on subjects as disparate as millennials, Scandal, and French president François Hollande’s love life. Miley Cyrus references me in her twerking stage act, Eminem raps about me, and Beyoncé’s latest hit gives me a shout-out. Thanks, Beyoncé, but if we’re verbing, I think you meant “Bill Clinton’d all on my gown,” not “Monica Lewinsky’d.”\n",
      "With every man I date (yes, I date!), I go through some degree of 1998 whiplash. I need to be extremely circumspect about what it means to be “public” with someone. In the early years post-impeachment, I once left a front-row seat along the third-base line at a Yankees game when I learned that my date—a guy whose company I thoroughly enjoyed—was actually in another relationship. It was only a green-card marriage, but I freaked that we could be photographed together and someone might call the gossip rags. I’ve become adept at figuring out when men are interested in me for the wrong reason. Thankfully, those have been few and far between. But every man that has been special to me over the past 16 years has helped me find another piece of myself—the self that was shattered in 1998. And so, no matter the heartbreak, tears, or disenchantment, I’ll always be grateful to them.\n",
      "In February of this year, around the same time Senator Paul put me back into the unwanted spotlight, I became the “narcissistic loony toon,” the latest twist on Me as Archetype.\n",
      "A snapshot of a scenario I’ve grown all too accustomed to, even as I attempt to move on with my life: A shrill ring interrupts the rhythms of my day. The call—from the doorman of the apartment building where I’m staying in New York—leads me to an exasperated “What? Again?” They’ve reappeared: the paparazzi, like swallows, have returned to the sidewalk outside, pacing and circling and pacing some more.\n",
      "I hit the computer. Time for a little self-Google. (Oh, dear reader, please do not judge.) My heart sinks. There’s an explosion on Google News. I know what this means. Whatever day I’ve planned has been jettisoned. To leave the house—and risk a photo—only ensures that the story will stay alive.\n",
      "The cameras have returned because of the headlines: a conservative Web site has gone poking around the University of Arkansas archive of one of Hillary Clinton’s closest friends and admirers, Diane Blair, and has unearthed a cache of memos from the 1990s. In some of them, Blair, who died in 2000, quotes the former First Lady about her husband’s relationship with me. Though Hillary, according to Blair’s notes, claimed to find her husband’s “lapse” inexcusable, she praised him for trying to “manage someone who was clearly a ‘narcissistic loony toon.’ ”\n",
      "My first thought, as I was getting up to speed: If that’s the worst thing she said, I should be so lucky. Mrs. Clinton, I read, had supposedly confided to Blair that, in part, she blamed herself for her husband’s affair (by being emotionally neglectful) and seemed to forgive him. Although she regarded Bill as having engaged in “gross inappropriate behavior,” the affair was, nonetheless, “consensual (was not a power relationship).”\n",
      "I field the usual calls from friends who lend moral support whenever these volcanic media stories erupt. They diffuse the tension with good-natured teasing: “So, are we changing your monogram to NLT?” I try to ignore the former First Lady’s long-buried comments. Given my experiences with Linda Tripp, I know better than anyone what it’s like to have a conversation with a girlfriend exposed and scrutinized, taken out of context. But, even so, it begins to gnaw at me. I realize that Hillary Clinton was—unlike me when Tripp was prying loose my innermost secrets and insecurities and recording them surreptitiously—fully aware of this documentation: she’s the one who, according to the memos, asked Blair to keep a record or diary of their discussions for archival purposes.\n",
      "Yes, I get it. Hillary Clinton wanted it on record that she was lashing out at her husband’s mistress. She may have faulted her husband for being inappropriate, but I find her impulse to blame the Woman—not only me, but herself—troubling. And all too familiar: with every marital indiscretion that finds its way into the public sphere—many of which involve male politicians—it always seems like the woman conveniently takes the fall. Sure, the Anthony Weiners and Eliot Spitzers do what they need to do to look humiliated on cable news. They bow out of public life for a while, but they inevitably return, having put it all behind them. The women in these imbroglios return to lives that are not so easily repaired.\n",
      "But there is another layer here that is making me bristle: Narcissist? Loony?\n",
      "You might remember that just five days before the world had ever heard my name the F.B.I.—after my friend Linda Tripp approached Special Prosecutor Kenneth Starr’s office with information about my affair with the president—entrapped me in a terrifying “sting” in the Pentagon City mall. At age 24, cornered in a hotel room on January 16, 1998, with mainly male interrogators taking orders from Starr, I was discouraged from contacting my attorney and threatened with 27 years in jail for filing an affidavit denying the affair with Clinton, among other alleged crimes. I was offered immunity from that threat if I agreed to place monitored calls and wear a wire in conversations with two of the president’s confidants and possibly the president himself. I refused. Confiding in Linda Tripp turned into an unintended betrayal. But this? The mother of all betrayals. That, I couldn’t do. Courageous or foolish, maybe, but narcissistic and loony?\n",
      "These 16-year-old descriptions of me triggered memories of past anguish, particularly in the area of women lobbing derision at one another. So where, you might be wondering, were the feminists back then?\n",
      "It’s a question that troubles me to this day.\n",
      "I sorely wished for some sign of understanding from the feminist camp. Some good, old-fashioned, girl-on-girl support was much in need. None came. Given the issues at play—gender politics, sex in the workplace—you’d think they would have spoken up. They didn’t. I understood their dilemma: Bill Clinton had been a president “friendly” to women’s causes.\n",
      "It also didn’t help that my case was not one of conventional “sexual harassment”; that charge against Bill Clinton had been made by Paula Jones, who brought a colossal lawsuit against him. My name surfaced only because, thanks to newly won advances by feminists, investigations of such cases were now allowed to cast a wider net. The Jones case became a stick that the right wing used to strike back at the Clinton-supporting feminists: Why wouldn’t they enthusiastically support an investigation into a case of sexual harassment? What if the president had been a Republican? Charges of hypocrisy flew.\n",
      "A handful of representatives of the modern feminist movement did chime in, obliquely. Yet, instead of any meaningful engagement, we got this: January 30, 1998. Day Nine of the scandal. Cocktails at Le Bernardin, in Manhattan. In attendance: writers Erica Jong, Nancy Friday, Katie Roiphe, and Elizabeth Benedict; Saturday Night Live writer Patricia Marx; Marisa Bowe, the editor of Word, an online magazine; fashion designer Nicole Miller; former dominatrix Susan Shellogg; and their host, Le Bernardin co-owner Maguy Le Coze. The New York Observer brought this coven together to trade Interngate insights, to be recorded by Francine Prose. (Sadly, the gal who would really make this coven complete is missing: Maureen Dowd, or Moremean Dowdy, as I used to refer to her. Today, I’d meet her for a drink.)\n",
      "Oh, to have been at that cocktail party:\n",
      "Marisa Bowe: His whole life is about having to be in control and really intelligent all the time. And his wife is really intelligent and in control all the time. And the idea of just having stupid sex with some not-brilliant woman in the Oval Office, I can see the appeal in that.\n",
      "Imaginary Me: I’m not saying I’m brilliant, but how do you know I’m not? My first job out of college was at the White House.\n",
      "Susan Shellogg: And do you think it’s tremendously selfish? Selfish and demanding, having oral sex and not reciprocating? I mean … she didn’t say, “Well, you know he satisfied me.”\n",
      "Me: And where exactly “didn’t” I say this? In which public statement that I didn’t make? In which testimony that’s not been released?\n",
      "Katie Roiphe: I think what people are outraged about is the way that [Monica Lewinsky] looks, which is interesting. Because we like to think of our presidents as sort of godlike, and so if J.F.K. has an affair with Marilyn Monroe, it’s all in the realm of the demigods…. I mean, the thing I kept hearing over and over again was Monica Lewinsky’s not that pretty.\n",
      "Me: Well, thanks. The first picture that surfaced was a passport photo. Would you like to have a passport photo splattered across publications around the world as the picture that defines you?\n",
      "What you are also saying here is that the primary quality that would qualify a woman to have an intimate relationship with a powerful man is physical attractiveness. If that’s not setting the movement back, I don’t know what is.\n",
      "Erica Jong: My dental hygienist pointed out that she had third-stage gum disease.\n",
      "Shellogg: What do you think will happen to [her]? I mean, she’ll just fade out quietly or write a book? Or people will forget about her six months from now?\n",
      "Nancy Friday: She can rent out her mouth.\n",
      "Me: (Speechless.)\n",
      "Jong: But, you know, men do like to get close to the mouth that has been close to power. Think of the fantasy in the man’s mind as she’s going down on him and he’s thinking, “Oh my God.”\n",
      "Elizabeth Benedict: Do for me what you did to the President. Do that.\n",
      "Me: (Still speechless.)\n",
      "Jong: I think it’s a tribute to how far we’ve come that we’re not trashing Monica Lewinsky.\n",
      "The catty confab appeared under the headline SUPERGALS LOVE THAT NAUGHTY PREZ. (Writing in Vanity Fair, Marjorie Williams called it “the most embarrassing thing I had read in a long time.”) To me, it illustrates a perplexing aspect of the culture of humiliation, one that Phyllis Chesler recognized in her book Woman’s Inhumanity to Woman: that women themselves are not immune to certain kinds of misogyny. We see it today in how the “mean girls” at school lurk on the modern playground of the Web (or around a pundit’s roundtable on TV or at a French restaurant), ever eager to pile on.\n",
      "I still have deep respect for feminism and am thankful for the great strides the movement has made in advancing women’s rights over the past few decades. But, given my experience of being passed around like gender-politics cocktail food, I don’t identify myself as a Feminist, capital F. The movement’s leaders failed in articulating a position that was not essentially anti-woman during the witch hunt of 1998. In the case of the New York Supergals, it should not have been that hard for them to swoon over the president without attacking and shaming me. Instead, they joined the humiliation derby.\n",
      "I , myself, deeply regret what happened between me and President Clinton. Let me say it again: I. Myself. Deeply. Regret. What. Happened. At the time—at least from my point of view—it was an authentic connection, with emotional intimacy, frequent visits, plans made, phone calls and gifts exchanged. In my early 20s, I was too young to understand the real-life consequences, and too young to see that I would be sacrificed for political expediency. I look back now, shake my head in disbelief, and wonder: what was I—what were we—thinking? I would give anything to go back and rewind the tape.\n",
      "Like many other Americans, I’ve been thinking about Hillary Clinton. What might happen, I’ve wondered, if she does run in 2016? And what if she wins—and then wins a second term?\n",
      "But when I think about these matters, there’s a dimension at play for me other than just the fact that we might finally have a woman in the White House. We all remember the second-wave feminist rallying cry The personal is political. Many people (myself included) proclaimed that my relationship with Bill Clinton was a personal matter, not one to be used in a high-stakes political war. When I hear of Hillary’s prospective candidacy, I cannot help but fear the next wave of paparazzi, the next wave of “Where is she now?” stories, the next reference to me in Fox News’s coverage of the primaries. I’ve begun to find it debilitating to plot out the cycle of my life based, to some degree, on the political calendar. For me, it’s a scenario in which the personal and the political are impossible to separate.\n",
      "In 2008, when Hillary was running for president, I remained virtually reclusive, despite being inundated with press requests. I put off announcing several media projects in 2012 until after the election. (They were subsequently canceled—and, no, I wasn’t offered $12 million for a salacious tell-all book, contrary to press reports.) And recently I’ve found myself gun-shy yet again, fearful of “becoming an issue” should she decide to ramp up her campaign. But should I put my life on hold for another 8 to 10 years?\n",
      "Being a conscientious Democrat—and aware that I could be used as a tool for the left or the right—I have remained silent for 10 years. So silent, in fact, that the buzz in some circles has been that the Clintons must have paid me off; why else would I have refrained from speaking out? I can assure you that nothing could be further from the truth.\n",
      "So why speak now? Because it is time.\n",
      "I turned 40 last year, and it is time to stop tiptoeing around my past—and other people’s futures. I am determined to have a different ending to my story. I’ve decided, finally, to stick my head above the parapet so that I can take back my narrative and give a purpose to my past. (What this will cost me, I will soon find out.) Despite what some headlines will falsely report about this piece, this is not about Me versus the Clintons. Their lives have moved on; they occupy important and powerful places on the global stage. I wish them no ill. And I fully understand that what has happened to me and the issue of my future do not matter to either of them.\n",
      "It also goes back to the personal and the political. I have lived many of the questions that have become central to our national discourse since 1998. How far should we allow the government into our bedrooms? How do we reconcile the right to privacy with the need to expose sexual indiscretion? How do we guard against an overzealous government demanding our private data and information? And, most important to me personally, how do we cope with the shame game as it’s played in the Internet Age? (My current goal is to get involved with efforts on behalf of victims of online humiliation and harassment and to start speaking on this topic in public forums.)\n",
      "So far, That Woman has never been able to escape the shadow of that first depiction. I was the Unstable Stalker (a phrase disseminated by the Clinton White House), the Dimwit Floozy, the Poor Innocent who didn’t know any better. The Clinton administration, the special prosecutor’s minions, the political operatives on both sides of the aisle, and the media were able to brand me. And that brand stuck, in part because it was imbued with power. I became a social representation, a social canvas on which anybody could project their confusion about women, sex, infidelity, politics, and body issues.\n",
      "Unlike the other parties involved, I was so young that I had no established identity to which I could return. I didn’t “let this define” me—I simply hadn’t had the life experience to establish my own identity in 1998. If you haven’t figured out who you are, it’s hard not to accept the horrible image of you created by others. (Thus, my compassion for young people who find themselves shamed on the Web.) Despite much self-searching and therapy and exploring of different paths, I remained “stuck” for far too many years.\n",
      "No longer. It’s time to burn the beret and bury the blue dress. And move forward.\n",
      "Will be used in accordance with our Privacy Policy.\n",
      "\n",
      "More from Vanity Fair\n",
      "Contact\n",
      "© 2021 Condé Nast. All rights reserved. Use of this site constitutes acceptance of our User Agreement (updated as of 1/1/21) and Privacy Policy and Cookie Statement (updated as of 1/1/21) and Your California Privacy Rights. Vanity Fair may earn a portion of sales from products that are purchased through our site as part of our Affiliate Partnerships with retailers. The material on this site may not be reproduced, distributed, transmitted, cached or otherwise used, except with the prior written permission of Condé Nast. Ad Choices\n",
      "CN Entertainment\n",
      "\n"
     ]
    }
   ],
   "source": [
    "article_condenser()"
   ]
  },
  {
   "cell_type": "markdown",
   "metadata": {},
   "source": [
    "**Exercise 20:** Write a function that takes an ordered list of numbers (a list where the elements are in order from smallest to largest) and another number. The function decides whether or not the given number is inside the list and returns (then prints) an appropriate boolean."
   ]
  },
  {
   "cell_type": "code",
   "execution_count": 39,
   "metadata": {},
   "outputs": [],
   "source": [
    "def simple_search(list1, num):\n",
    "    for element in list1:\n",
    "        if element == num:\n",
    "            return True\n",
    "    return False"
   ]
  },
  {
   "cell_type": "code",
   "execution_count": 41,
   "metadata": {},
   "outputs": [
    {
     "data": {
      "text/plain": [
       "False"
      ]
     },
     "execution_count": 41,
     "metadata": {},
     "output_type": "execute_result"
    }
   ],
   "source": [
    "simple_search([1,3,5,7,9], 10)"
   ]
  },
  {
   "cell_type": "markdown",
   "metadata": {},
   "source": [
    "**Exercise 21:** Take the code from the How To Decode A Website exercise (if you didn’t do it or just want to play with some different code, use the code from the solution), and instead of printing the results to a screen, write the results to a txt file. In your code, just make up a name for the file you are saving to."
   ]
  },
  {
   "cell_type": "code",
   "execution_count": 42,
   "metadata": {},
   "outputs": [],
   "source": [
    "headlines = get_nyt_headlines()"
   ]
  },
  {
   "cell_type": "code",
   "execution_count": 46,
   "metadata": {},
   "outputs": [],
   "source": [
    "inner_headlines = headlines.iloc[:,0].values\n",
    "string = \"\"\n",
    "for headline in inner_headlines:\n",
    "    string += headline + \"\\n\""
   ]
  },
  {
   "cell_type": "code",
   "execution_count": 47,
   "metadata": {},
   "outputs": [
    {
     "name": "stdout",
     "output_type": "stream",
     "text": [
      "10 Republicans Outline Smaller Stimulus Before Biden Meeting\n",
      "Trump’s Campaign to Subvert the Election\n",
      "Here are key takeaways from former President Trump’s effort to overturn the election.\n",
      "An Emboldened Extremist Wing Flexes Its Power in a Leaderless G.O.P.\n",
      "Opinion\n",
      "Editors’ Picks\n",
      "Advertisement\n",
      "\n"
     ]
    }
   ],
   "source": [
    "print(string)"
   ]
  },
  {
   "cell_type": "code",
   "execution_count": 49,
   "metadata": {},
   "outputs": [],
   "source": [
    "with open('exercise21_practice.txt', 'w') as open_file:\n",
    "    open_file.write(string)"
   ]
  },
  {
   "cell_type": "markdown",
   "metadata": {},
   "source": [
    "**Exercise 22:** Given a .txt file that has a list of a bunch of names, count how many of each name there are in the file, and print out the results to the screen. I have a .txt file for you, if you want to use it!"
   ]
  },
  {
   "cell_type": "code",
   "execution_count": 72,
   "metadata": {},
   "outputs": [],
   "source": [
    "def get_txt_file():  \n",
    "    '''Get a txt file into python'''\n",
    "    \n",
    "    from bs4 import BeautifulSoup as souper\n",
    "    import requests\n",
    "    url = 'http://www.practicepython.org/assets/nameslist.txt'\n",
    "    response = requests.get(url)\n",
    "    soup = souper(response.text, \"lxml\")\n",
    "    name = soup.find('p').text\n",
    "    txt_file = name.replace(\"\\n\", \" \")\n",
    "    with open('exercise22_practice.txt', 'w') as open_file:\n",
    "        open_file.write(txt_file)"
   ]
  },
  {
   "cell_type": "code",
   "execution_count": 73,
   "metadata": {},
   "outputs": [],
   "source": [
    "#Creates the file\n",
    "get_txt_file()"
   ]
  },
  {
   "cell_type": "code",
   "execution_count": 74,
   "metadata": {},
   "outputs": [],
   "source": [
    "#Now get the info\n",
    "with open('exercise22_practice.txt', 'r') as open_file:\n",
    "    names = open_file.read()"
   ]
  },
  {
   "cell_type": "code",
   "execution_count": 76,
   "metadata": {},
   "outputs": [
    {
     "data": {
      "text/plain": [
       "'Darth Luke Darth Lea Darth Lea Lea Luke Darth Lea Darth Darth Lea Lea Darth Lea Darth Lea Luke Darth Lea Lea Darth Lea Darth Darth Lea Lea Luke Luke Lea Darth Darth Luke Lea Darth Darth Lea Lea Lea Lea Lea Luke Darth Luke Lea Lea Lea Lea Luke Lea Darth Lea Lea Darth Lea Lea Darth Darth Lea Darth Lea Darth Luke Lea Luke Darth Darth Luke Darth Lea Darth Lea Luke Lea Lea Lea Lea Lea Darth Lea Lea Lea Lea Lea Lea Lea Luke Lea Lea Lea Lea Lea Lea Darth Luke Darth Lea Lea Darth'"
      ]
     },
     "execution_count": 76,
     "metadata": {},
     "output_type": "execute_result"
    }
   ],
   "source": [
    "names"
   ]
  },
  {
   "cell_type": "code",
   "execution_count": 86,
   "metadata": {},
   "outputs": [],
   "source": [
    "#Now lets count all the names using a dictionary.\n",
    "names_list = names.split()\n",
    "name_dict = dict()\n",
    "for name in names_list:\n",
    "    if name not in name_dict.keys():\n",
    "        name_dict[name] = 1\n",
    "    else:\n",
    "        name_dict[name] += 1"
   ]
  },
  {
   "cell_type": "code",
   "execution_count": 87,
   "metadata": {},
   "outputs": [
    {
     "data": {
      "text/plain": [
       "{'Darth': 31, 'Luke': 15, 'Lea': 54}"
      ]
     },
     "execution_count": 87,
     "metadata": {},
     "output_type": "execute_result"
    }
   ],
   "source": [
    "name_dict"
   ]
  },
  {
   "cell_type": "markdown",
   "metadata": {},
   "source": [
    "**Exercise 24/26/27/29:** All of these practice problems involve tic tac toe. So we one upped it and built a full game!"
   ]
  },
  {
   "cell_type": "markdown",
   "metadata": {},
   "source": [
    "**Exercise 25:** You, the user, will have in your head a number between 0 and 100. The program will guess a number, and you, the user, will say whether it is too high, too low, or your number."
   ]
  },
  {
   "cell_type": "code",
   "execution_count": 120,
   "metadata": {},
   "outputs": [],
   "source": [
    "import math\n",
    "import time\n",
    "import random\n",
    "def computer_will_guess_your_number():\n",
    "    \n",
    "    #Initialize game with the question\n",
    "    print(\"Want to play a guessing game?\")\n",
    "    \n",
    "    #Do they want to play?\n",
    "    while True:\n",
    "        ready_to_go = input(\"Type 'Yes' to play and 'No' to exit.\")\n",
    "        if ready_to_go.lower() == 'yes':\n",
    "            print(\"\\nAlright. Pick a number between 0 and 100 and I'll try to guess what it is!\\nI'll give you a couple of seconds to think.\")\n",
    "            time.sleep(4)\n",
    "            break\n",
    "        elif ready_to_go.lower() == 'no':\n",
    "            return \"You sound like a fun person. What a shame! (Take a hike loser)\"\n",
    "        else:\n",
    "            print(\"\\nI don't understand what you're saying.\\nI'm a dumbass computer so you have to be very clear!\")\n",
    "        \n",
    "    \n",
    "    lower_bound = 0\n",
    "    upper_bound = 100\n",
    "    number_of_guesses = 1\n",
    "    guess_list = []\n",
    "    format_line = '\\n---------------------------------------------\\n'\n",
    "    random_outburts = [\"Shucks!\", \"Damn shortie!\", \"Shit!\", \"You SOB!\", \"Give me a break homie!\", \"WTF!\", \n",
    "                       \"I'll be better next time I swear!\", \"I am really sucking a high hard one!\"]\n",
    "    random_line = [\"Okay I'll try again.\", \"I'm getting sick of this game.....\", \n",
    "                   \"I'll find this damn number or die trying!\", \n",
    "                   \"You're killing me smalls! Give me a hot second.\",\n",
    "                   \"You have got to be fucking kidding me. Use your head!!!\"]\n",
    "    while True:\n",
    "        \n",
    "        #This is the case where the floor function will keep picking the lower bound\n",
    "        if upper_bound - lower_bound == 1:\n",
    "            if guess == upper_bound:\n",
    "                print(\"\\nI'm onto you. You thought you could trick me?? I'm a fucking computer!\")\n",
    "                time.sleep(1.5)\n",
    "                print(\"I just want to let you know that at this point you must have answered one of my questions wrong.\")\n",
    "                time.sleep(1.5)\n",
    "                print(\"It's a shame your second grade math teacher let you down so badly.\")\n",
    "                time.sleep(1.5)\n",
    "                print(\"Practice some inequalities and then catch up with me later. Peace.\")\n",
    "                break    \n",
    "            guess = upper_bound\n",
    "            \n",
    "        \n",
    "        #This is the midpoint formula to search efficiently. Max amount of guesses would be 7.\n",
    "        else:\n",
    "            guess = math.floor((upper_bound + lower_bound)/2)            \n",
    "        \n",
    "        print(format_line)\n",
    "        feedback = input(\"Is it {}?\\nLet me know if that is 'Higher', 'Lower', or 'Correct': \".format(guess))\n",
    "        outburst = random.choice(random_outburts)\n",
    "        zinger = random.choice(random_line)\n",
    "        if feedback.lower() == 'correct':\n",
    "            print(format_line + \"I got it sucker! And it only took me {} tries!\".format(number_of_guesses) + format_line)\n",
    "            break\n",
    "        elif feedback.lower() == 'higher':\n",
    "            number_of_guesses += 1\n",
    "            if number_of_guesses >= 9:\n",
    "                print(\"\\nI'm onto you. You thought you could trick me?? I'm a fucking computer!\")\n",
    "                time.sleep(1.5)\n",
    "                print(\"I just want to let you know that at this point you must have answered one of my questions wrong.\")\n",
    "                time.sleep(1.5)\n",
    "                print(\"It's a shame your second grade math teacher let you down so badly.\")\n",
    "                time.sleep(1.5)\n",
    "                print(\"Practice some inequalities and then catch up with me later. Peace.\")\n",
    "                break\n",
    "            print(\"\\n\" + outburst)\n",
    "            time.sleep(1)\n",
    "            print(\"\\n\" + zinger)\n",
    "            time.sleep(2)\n",
    "            lower_bound = guess\n",
    "            \n",
    "        elif feedback.lower() == 'lower':\n",
    "            number_of_guesses += 1\n",
    "            if number_of_guesses >= 9:\n",
    "                print(\"\\nI'm onto you. You thought you could trick me?? I'm a fucking computer\")\n",
    "                time.sleep(1.5)\n",
    "                print(\"I just want to let you know that at this point you must have answered one of my questions wrong.\")\n",
    "                time.sleep(1.5)\n",
    "                print(\"It's a shame your second grade math teacher let you down so badly.\")\n",
    "                time.sleep(1.5)\n",
    "                print(\"Practice some inequalities and then catch up with me later. Peace.\")\n",
    "                break\n",
    "            upper_bound = guess\n",
    "            print(\"\\n\" + outburst)\n",
    "            time.sleep(1)\n",
    "            print(\"\\n\" + zinger)\n",
    "            time.sleep(2)\n",
    "        else:\n",
    "            print(\"\\nEnglish! Do you speak it!? (Scary Samuel L. Jackson Voice)\")\n",
    "            time.sleep(1.5)\n",
    "            print(\"\\nType what the damn question is asking for.\")\n",
    "            time.sleep(1.5)"
   ]
  },
  {
   "cell_type": "code",
   "execution_count": 104,
   "metadata": {},
   "outputs": [
    {
     "name": "stdout",
     "output_type": "stream",
     "text": [
      "Want to play a guessing game?\n",
      "Type 'Yes' to play and 'No' to exit.no\n"
     ]
    },
    {
     "data": {
      "text/plain": [
       "'You sound like a fun person. What a shame! (Take a hike loser)'"
      ]
     },
     "execution_count": 104,
     "metadata": {},
     "output_type": "execute_result"
    }
   ],
   "source": [
    "computer_will_guess_your_number()"
   ]
  },
  {
   "cell_type": "code",
   "execution_count": 105,
   "metadata": {},
   "outputs": [
    {
     "name": "stdout",
     "output_type": "stream",
     "text": [
      "Want to play a guessing game?\n",
      "Type 'Yes' to play and 'No' to exit.maybe\n",
      "\n",
      "I don't understand what you're saying.\n",
      "I'm a dumbass computer so you have to be very clear!\n",
      "Type 'Yes' to play and 'No' to exit.no\n"
     ]
    },
    {
     "data": {
      "text/plain": [
       "'You sound like a fun person. What a shame! (Take a hike loser)'"
      ]
     },
     "execution_count": 105,
     "metadata": {},
     "output_type": "execute_result"
    }
   ],
   "source": [
    "computer_will_guess_your_number()"
   ]
  },
  {
   "cell_type": "code",
   "execution_count": 115,
   "metadata": {},
   "outputs": [
    {
     "name": "stdout",
     "output_type": "stream",
     "text": [
      "Want to play a guessing game?\n",
      "Type 'Yes' to play and 'No' to exit.tes\n",
      "\n",
      "I don't understand what you're saying.\n",
      "I'm a dumbass computer so you have to be very clear!\n",
      "Type 'Yes' to play and 'No' to exit.yes\n",
      "\n",
      "Alright. Pick a number between 0 and 100 and I'll try to guess what it is!\n",
      "I'll give you a couple of seconds to think.\n",
      "\n",
      "---------------------------------------------\n",
      "\n",
      "Is it 50?\n",
      "Let me know if that is 'Higher', 'Lower', or 'Correct': correct\n",
      "\n",
      "---------------------------------------------\n",
      "I got it sucker! And it only took me 1 tries!\n",
      "---------------------------------------------\n",
      "\n"
     ]
    }
   ],
   "source": [
    "computer_will_guess_your_number()"
   ]
  },
  {
   "cell_type": "code",
   "execution_count": 117,
   "metadata": {},
   "outputs": [
    {
     "name": "stdout",
     "output_type": "stream",
     "text": [
      "Want to play a guessing game?\n",
      "Type 'Yes' to play and 'No' to exit.yes\n",
      "\n",
      "Alright. Pick a number between 0 and 100 and I'll try to guess what it is!\n",
      "I'll give you a couple of seconds to think.\n",
      "\n",
      "---------------------------------------------\n",
      "\n",
      "Is it 50?\n",
      "Let me know if that is 'Higher', 'Lower', or 'Correct': lower\n",
      "\n",
      "I'll be better next time I swear!\n",
      "\n",
      "You're killing me smalls! Give me a hot second.\n",
      "\n",
      "---------------------------------------------\n",
      "\n",
      "Is it 25?\n",
      "Let me know if that is 'Higher', 'Lower', or 'Correct': lower\n",
      "\n",
      "I am really sucking a high hard one!\n",
      "\n",
      "I'm getting sick of this game.....\n",
      "\n",
      "---------------------------------------------\n",
      "\n",
      "Is it 12?\n",
      "Let me know if that is 'Higher', 'Lower', or 'Correct': higher\n",
      "\n",
      "Shucks!\n",
      "\n",
      "I'll find this damn number or die trying!\n",
      "\n",
      "---------------------------------------------\n",
      "\n",
      "Is it 18?\n",
      "Let me know if that is 'Higher', 'Lower', or 'Correct': lower\n",
      "\n",
      "I am really sucking a high hard one!\n",
      "\n",
      "I'm getting sick of this game.....\n",
      "\n",
      "---------------------------------------------\n",
      "\n",
      "Is it 15?\n",
      "Let me know if that is 'Higher', 'Lower', or 'Correct': lower\n",
      "\n",
      "Give me a break homie!\n",
      "\n",
      "You're killing me smalls! Give me a hot second.\n",
      "\n",
      "---------------------------------------------\n",
      "\n",
      "Is it 13?\n",
      "Let me know if that is 'Higher', 'Lower', or 'Correct': higher\n",
      "\n",
      "I am really sucking a high hard one!\n",
      "\n",
      "I'm getting sick of this game.....\n",
      "\n",
      "---------------------------------------------\n",
      "\n",
      "Is it 14?\n",
      "Let me know if that is 'Higher', 'Lower', or 'Correct': higher\n",
      "\n",
      "WTF!\n",
      "\n",
      "I'll find this damn number or die trying!\n",
      "\n",
      "---------------------------------------------\n",
      "\n",
      "Is it 15?\n",
      "Let me know if that is 'Higher', 'Lower', or 'Correct': lower\n",
      "\n",
      "I'm onto you. You thought you could trick me?? I'm a fucking computer\n",
      "I just want to let you know that at this point you must have answered one of my questions wrong.\n",
      "It's a shame your second grade math teacher let you down so badly.\n",
      "Practice some inequalities and then catch up with me later. Peace.\n"
     ]
    }
   ],
   "source": [
    "computer_will_guess_your_number()"
   ]
  },
  {
   "cell_type": "code",
   "execution_count": 121,
   "metadata": {},
   "outputs": [
    {
     "name": "stdout",
     "output_type": "stream",
     "text": [
      "Want to play a guessing game?\n",
      "Type 'Yes' to play and 'No' to exit.yes\n",
      "\n",
      "Alright. Pick a number between 0 and 100 and I'll try to guess what it is!\n",
      "I'll give you a couple of seconds to think.\n",
      "\n",
      "---------------------------------------------\n",
      "\n",
      "Is it 50?\n",
      "Let me know if that is 'Higher', 'Lower', or 'Correct': lo\n",
      "\n",
      "English! Do you speak it!? (Scary Samuel L. Jackson Voice)\n",
      "\n",
      "Type what the damn question is asking for.\n",
      "\n",
      "---------------------------------------------\n",
      "\n",
      "Is it 50?\n",
      "Let me know if that is 'Higher', 'Lower', or 'Correct': correct\n",
      "\n",
      "---------------------------------------------\n",
      "I got it sucker! And it only took me 1 tries!\n",
      "---------------------------------------------\n",
      "\n"
     ]
    }
   ],
   "source": [
    "computer_will_guess_your_number()"
   ]
  },
  {
   "cell_type": "markdown",
   "metadata": {},
   "source": [
    "**Exercise 28:** Implement a function that takes as input three variables, and returns the largest of the three. Do this without using the Python max() function!"
   ]
  },
  {
   "cell_type": "code",
   "execution_count": 10,
   "metadata": {},
   "outputs": [],
   "source": [
    "def max_value(a,b,c):\n",
    "    '''Find the maximum of three variables.'''\n",
    "    \n",
    "    #Just making sure the values are all correct\n",
    "    try:\n",
    "        float(a)-float(b)-float(c)\n",
    "    except ValueError:\n",
    "        print(\"Error: All three inputs must be integer or float values.\")\n",
    "        \n",
    "    if a - b < 0:\n",
    "        if b - c < 0:\n",
    "            return c\n",
    "        else:\n",
    "            return b\n",
    "    elif a - b > 0:\n",
    "        if a - c < 0:\n",
    "            return c\n",
    "        else:\n",
    "            return a\n",
    "    else:\n",
    "        if a - c < 0:\n",
    "            return c\n",
    "        else:\n",
    "            return a"
   ]
  },
  {
   "cell_type": "code",
   "execution_count": 20,
   "metadata": {},
   "outputs": [
    {
     "data": {
      "text/plain": [
       "(0, 6969)"
      ]
     },
     "execution_count": 20,
     "metadata": {},
     "output_type": "execute_result"
    }
   ],
   "source": [
    "max_value(-1,0,-20), max_value(420,69,6969)"
   ]
  },
  {
   "cell_type": "markdown",
   "metadata": {},
   "source": [
    "**Exercise 30/31/32:** Build a game of hangman! We put these exercises in a seperate file."
   ]
  },
  {
   "cell_type": "code",
   "execution_count": null,
   "metadata": {},
   "outputs": [],
   "source": []
  }
 ],
 "metadata": {
  "kernelspec": {
   "display_name": "Python 3",
   "language": "python",
   "name": "python3"
  },
  "language_info": {
   "codemirror_mode": {
    "name": "ipython",
    "version": 3
   },
   "file_extension": ".py",
   "mimetype": "text/x-python",
   "name": "python",
   "nbconvert_exporter": "python",
   "pygments_lexer": "ipython3",
   "version": "3.7.7"
  }
 },
 "nbformat": 4,
 "nbformat_minor": 4
}
