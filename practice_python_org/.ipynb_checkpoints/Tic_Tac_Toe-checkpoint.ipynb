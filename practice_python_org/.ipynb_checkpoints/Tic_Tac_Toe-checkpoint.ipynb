{
 "cells": [
  {
   "cell_type": "markdown",
   "metadata": {},
   "source": [
    "### Tic Tac Toe: The simplest game\n",
    "\n",
    "This is an offshoot of the practice python problems about coding tic tac toe with a visual front end and actual gameplay. We even created a decently smart algorithm that lets the computer make relatively decent moves!\n",
    "\n",
    "--------"
   ]
  },
  {
   "cell_type": "markdown",
   "metadata": {},
   "source": [
    "Start with just problem #24 from the website. Just to show it's easy to draw a board without using any packages!"
   ]
  },
  {
   "cell_type": "code",
   "execution_count": 7,
   "metadata": {},
   "outputs": [],
   "source": [
    "def draw_grid(n):\n",
    "    horizontal_lines = \"*\" + (n) * \"---*\" + \"\\n\"\n",
    "    vertical_lines = n * \"|   \" + \"|\" + \"\\n\"\n",
    "    board = \"\"\n",
    "    for i in range(n):\n",
    "        board += horizontal_lines + vertical_lines\n",
    "        \n",
    "    print(board + horizontal_lines) "
   ]
  },
  {
   "cell_type": "code",
   "execution_count": 8,
   "metadata": {},
   "outputs": [
    {
     "name": "stdout",
     "output_type": "stream",
     "text": [
      "*---*---*---*\n",
      "|   |   |   |\n",
      "*---*---*---*\n",
      "|   |   |   |\n",
      "*---*---*---*\n",
      "|   |   |   |\n",
      "*---*---*---*\n",
      "\n"
     ]
    }
   ],
   "source": [
    "draw_grid(3)"
   ]
  },
  {
   "cell_type": "code",
   "execution_count": 9,
   "metadata": {},
   "outputs": [
    {
     "name": "stdout",
     "output_type": "stream",
     "text": [
      "*---*---*---*---*---*---*\n",
      "|   |   |   |   |   |   |\n",
      "*---*---*---*---*---*---*\n",
      "|   |   |   |   |   |   |\n",
      "*---*---*---*---*---*---*\n",
      "|   |   |   |   |   |   |\n",
      "*---*---*---*---*---*---*\n",
      "|   |   |   |   |   |   |\n",
      "*---*---*---*---*---*---*\n",
      "|   |   |   |   |   |   |\n",
      "*---*---*---*---*---*---*\n",
      "|   |   |   |   |   |   |\n",
      "*---*---*---*---*---*---*\n",
      "\n"
     ]
    }
   ],
   "source": [
    "draw_grid(6)"
   ]
  },
  {
   "cell_type": "markdown",
   "metadata": {},
   "source": [
    "----\n",
    "### The Backend Object\n",
    "Now, we create a class that is a board and we can place actions on it and evaluate the outcomes. This will be the \"back end\" of the process. We will create an interactive front end later."
   ]
  },
  {
   "cell_type": "code",
   "execution_count": 362,
   "metadata": {},
   "outputs": [],
   "source": [
    "import random\n",
    "class initialize_board(object):\n",
    "    '''This object will be the basis of the game.\n",
    "    Functions\n",
    "    ---------\n",
    "    print_board: Prints the tic tac toe board.\n",
    "    is_game_over: Evaluates if the game is over.\n",
    "    who_goes_first: Assigns x's or o's to the computer.\n",
    "    user_make_move: Updates the board based on user input.\n",
    "    comp_make_move: Computer makes a move\n",
    "    ''' \n",
    "    \n",
    "    def __init__(self):\n",
    "        '''Just initialized a board to play with.'''\n",
    "        self.encoded = [[0,0,0],[0,0,0],[0,0,0]]\n",
    "        self.center_tool = \"                                                \"\n",
    "        self.move_list = []\n",
    "        self.encoded_move_list = []\n",
    "        self.move_counter = 0\n",
    "\n",
    "    def print_board(self):\n",
    "        '''This function takes an encoded board and prints out the game in a standard way.'''\n",
    "    \n",
    "        #Some horizontal lines\n",
    "        horizontal_line = \"*\" + 3 * \"---*\" + \"\\n\"\n",
    "        \n",
    "        #Makes x's and o's from encoding\n",
    "        dic_xo = {0: \" \", 1: \"X\", 2: \"O\"}\n",
    "\n",
    "        #Iterate through encoded board to add information\n",
    "        row_strings = []\n",
    "        for row in self.encoded:\n",
    "            some_row = \"\"\n",
    "            for i in range(3):\n",
    "                some_row += \"| {} \".format(dic_xo[row[i]])\n",
    "            row_strings.append(some_row + \"|\" + \"\\n\")\n",
    "\n",
    "        #Combine everything together\n",
    "        pretty_board = \"\"\n",
    "        for row in row_strings:\n",
    "            pretty_board += self.center_tool + horizontal_line + self.center_tool + row\n",
    "        print('\\n' + pretty_board + self.center_tool + horizontal_line)\n",
    "    \n",
    "    def is_game_over(self):\n",
    "        '''Input is an encoded board from the function above.\n",
    "        This game_over function will let you know if a game of tic tac toe is over. \n",
    "        In our case an entry of zero will be implied as a blank space.'''\n",
    "        \n",
    "        #Makes x's and o's from encoding\n",
    "        dic_xo = {0: \" \", 1: \"X\", 2: \"O\"}\n",
    "        \n",
    "        #Check rows\n",
    "        for row in self.encoded:\n",
    "            if row[0] != 0:\n",
    "                if row[0] == row[1] and row[1] == row[2]:\n",
    "                    return dic_xo[row[0]]\n",
    "\n",
    "        #Check Columns:\n",
    "        for i in range(3):\n",
    "            if self.encoded[0][i] != 0:\n",
    "                if self.encoded[0][i] == self.encoded[1][i] and self.encoded[0][i] == self.encoded[2][i]:\n",
    "                    return dic_xo[self.encoded[0][i]]\n",
    "\n",
    "        #Check diagonals:\n",
    "        if self.encoded[1][1] != 0:\n",
    "            if self.encoded[0][0] == self.encoded[1][1] and self.encoded[0][0] == self.encoded[2][2]:\n",
    "                return dic_xo[self.encoded[1][1]]\n",
    "            if self.encoded[2][0] == self.encoded[1][1] and self.encoded[2][0] == self.encoded[0][2]:\n",
    "                return dic_xo[self.encoded[1][1]]\n",
    "        \n",
    "        #All squares are filled\n",
    "        if self.move_counter == 9:\n",
    "            return 'Draw'\n",
    "                    \n",
    "        #Game is not over:\n",
    "        return False\n",
    "\n",
    "    def who_goes_first(self, user_choice):\n",
    "        '''Assign x's and o's to user and computer based on user choice.'''\n",
    "        encode_xo = {'x': 1, 'o': 2}\n",
    "        \n",
    "        self.user_xo = encode_xo[user_choice.lower()]\n",
    "        if self.user_xo == 1:\n",
    "            self.comp_xo = 2\n",
    "        elif self.user_xo == 2:\n",
    "            self.comp_xo = 1\n",
    "                        \n",
    "    def user_make_move(self, row_, column_):\n",
    "        '''Updates the board after a user picks a move.'''\n",
    "        xo_dict = {1: 'X', 2: 'O'}\n",
    "        #Natural numbers to standard indexing\n",
    "        row = row_ - 1\n",
    "        column = column_ - 1\n",
    "        \n",
    "        #Update board and list\n",
    "        self.encoded[row][column] = self.user_xo\n",
    "        self.move_counter += 1\n",
    "        self.move_list.append(\"Move {}: {} was played on row {}, column {}\".format(self.move_counter,\n",
    "                                                                                  xo_dict[self.user_xo],\n",
    "                                                                                  row_,column_))\n",
    "        self.encoded_move_list.append([row,column])\n",
    "\n",
    "        \n",
    "    def comp_make_move(self):\n",
    "        '''This is a function where the computer 'intelligently' makes a move.'''\n",
    "        \n",
    "        xo_dict = {1: 'X', 2: 'O'}\n",
    "        #Get all the possible moves first\n",
    "        all_squares = []\n",
    "        for i in range(3):\n",
    "            for j in range(3):\n",
    "                all_squares.append([i,j])\n",
    "        possible_moves = []\n",
    "        for square in all_squares:\n",
    "            if self.encoded[square[0]][square[1]] == 0:\n",
    "                possible_moves.append(square)\n",
    "        \n",
    "        #MVP: Computer makes a random move \n",
    "        move = random.choice(possible_moves)\n",
    "        self.encoded[move[0]][move[1]] = self.comp_xo\n",
    "        self.move_counter += 1\n",
    "        self.move_list.append(\"Move {}: {} was played on row {}, column {}\".format(self.move_counter,\n",
    "                                                                                    xo_dict[self.comp_xo],\n",
    "                                                                                    move[0]+1,\n",
    "                                                                                   move[1] + 1))\n",
    "        self.encoded_move_list.append([move[0],move[1]])"
   ]
  },
  {
   "cell_type": "code",
   "execution_count": 363,
   "metadata": {},
   "outputs": [],
   "source": [
    "board = initialize_board()"
   ]
  },
  {
   "cell_type": "code",
   "execution_count": 364,
   "metadata": {},
   "outputs": [
    {
     "name": "stdout",
     "output_type": "stream",
     "text": [
      "\n",
      "                                                *---*---*---*\n",
      "                                                |   |   |   |\n",
      "                                                *---*---*---*\n",
      "                                                |   |   |   |\n",
      "                                                *---*---*---*\n",
      "                                                |   |   |   |\n",
      "                                                *---*---*---*\n",
      "\n"
     ]
    }
   ],
   "source": [
    "board.print_board()"
   ]
  },
  {
   "cell_type": "code",
   "execution_count": 365,
   "metadata": {},
   "outputs": [],
   "source": [
    "board.who_goes_first('x')"
   ]
  },
  {
   "cell_type": "code",
   "execution_count": 366,
   "metadata": {},
   "outputs": [],
   "source": [
    "board.user_make_move(1, 2)"
   ]
  },
  {
   "cell_type": "code",
   "execution_count": 367,
   "metadata": {},
   "outputs": [
    {
     "name": "stdout",
     "output_type": "stream",
     "text": [
      "\n",
      "                                                *---*---*---*\n",
      "                                                |   | X |   |\n",
      "                                                *---*---*---*\n",
      "                                                |   |   |   |\n",
      "                                                *---*---*---*\n",
      "                                                |   |   |   |\n",
      "                                                *---*---*---*\n",
      "\n"
     ]
    }
   ],
   "source": [
    "board.print_board()"
   ]
  },
  {
   "cell_type": "code",
   "execution_count": 368,
   "metadata": {},
   "outputs": [
    {
     "data": {
      "text/plain": [
       "[[0, 1, 0], [0, 0, 0], [0, 0, 0]]"
      ]
     },
     "execution_count": 368,
     "metadata": {},
     "output_type": "execute_result"
    }
   ],
   "source": [
    "board.encoded"
   ]
  },
  {
   "cell_type": "code",
   "execution_count": 369,
   "metadata": {},
   "outputs": [],
   "source": [
    "board.comp_make_move()"
   ]
  },
  {
   "cell_type": "code",
   "execution_count": 370,
   "metadata": {},
   "outputs": [
    {
     "name": "stdout",
     "output_type": "stream",
     "text": [
      "\n",
      "                                                *---*---*---*\n",
      "                                                |   | X |   |\n",
      "                                                *---*---*---*\n",
      "                                                |   |   | O |\n",
      "                                                *---*---*---*\n",
      "                                                |   |   |   |\n",
      "                                                *---*---*---*\n",
      "\n"
     ]
    }
   ],
   "source": [
    "board.print_board()"
   ]
  },
  {
   "cell_type": "code",
   "execution_count": 371,
   "metadata": {},
   "outputs": [
    {
     "data": {
      "text/plain": [
       "False"
      ]
     },
     "execution_count": 371,
     "metadata": {},
     "output_type": "execute_result"
    }
   ],
   "source": [
    "board.is_game_over()"
   ]
  },
  {
   "cell_type": "code",
   "execution_count": 372,
   "metadata": {},
   "outputs": [
    {
     "data": {
      "text/plain": [
       "['Move 1: X was played on row 1, column 2',\n",
       " 'Move 2: O was played on row 2, column 3']"
      ]
     },
     "execution_count": 372,
     "metadata": {},
     "output_type": "execute_result"
    }
   ],
   "source": [
    "board.move_list"
   ]
  },
  {
   "cell_type": "code",
   "execution_count": 373,
   "metadata": {},
   "outputs": [
    {
     "data": {
      "text/plain": [
       "[[0, 1], [1, 2]]"
      ]
     },
     "execution_count": 373,
     "metadata": {},
     "output_type": "execute_result"
    }
   ],
   "source": [
    "board.encoded_move_list"
   ]
  },
  {
   "cell_type": "markdown",
   "metadata": {},
   "source": [
    "-----\n",
    "### The Front End\n",
    "Now we will create a front end that let's a user play a game with the computer!"
   ]
  },
  {
   "cell_type": "code",
   "execution_count": 386,
   "metadata": {},
   "outputs": [],
   "source": [
    "import time\n",
    "import random \n",
    "def playing_tic_tac_toe():\n",
    "    '''This game will be how you play tic-tac-toe with the computer. \n",
    "    It is dependent on the three functions above.'''\n",
    "    \n",
    "    #Initialize the class\n",
    "    #Recall: This stores an encoded board and functions that can act on the board.\n",
    "    board = initialize_board()\n",
    "    \n",
    "    #Need a better function for clearing the screen\n",
    "#     def cls(): \n",
    "#         print(\"\\n\" * 100)\n",
    "    \n",
    "    ########################################Intro nonsense##############################################\n",
    "    stars = \"*****************************************\\n\"\n",
    "    center_tool = \"                                  \"\n",
    "    intro_output = center_tool+stars+center_tool+\"*  Welcome to the game of Tic Tac Toe!  *\\n\"+center_tool+stars\n",
    "    print(intro_output)\n",
    "    board.print_board()\n",
    "    time.sleep(2)\n",
    "    \n",
    "    \n",
    "    ########################################Ask x's or o's###############################################\n",
    "    while True:\n",
    "        x_or_o = input(\"Would you link to play as X's or O's?\\nJust type the letter X or O. Type 'Exit' to leave the game.      \")\n",
    "        time.sleep(0.5)\n",
    "        \n",
    "        #Exit Function\n",
    "        if x_or_o.lower() == 'exit':\n",
    "            print('\\n' + center_tool + '           ' + \"Come play me some other time!\")\n",
    "            time.sleep(1)\n",
    "            return('8==========D~~~~')\n",
    "        \n",
    "        if x_or_o.lower() == 'x':\n",
    "            print('\\n' + center_tool + '           ' + \"Alright X goes first!\")\n",
    "            board.who_goes_first(x_or_o)\n",
    "            time.sleep(1)\n",
    "            break\n",
    "        if x_or_o.lower() == 'o':\n",
    "            print('\\n' + center_tool + '        ' + \"Sounds good. I'll go first!\")\n",
    "            board.who_goes_first(x_or_o)\n",
    "            time.sleep(1.5)\n",
    "            board.comp_make_move()\n",
    "            board.print_board()\n",
    "            time.sleep(1.5)\n",
    "            break\n",
    "        \n",
    "        else:\n",
    "            print('\\n' + center_tool + '           ' + \"That isn't X's or O's....\")\n",
    "    \n",
    "    #######################################This is the total game######################################\n",
    "    while board.is_game_over() == False:\n",
    "        \n",
    "        #This is the user's moves\n",
    "        while True:\n",
    "            move = []\n",
    "            user_move = input(\"Make your move.\\nPick the row first and then the column.\\nThe format isn't important as long as your response has 2 integer values in order.\\nEx: 23, row 2 column 3, 2x3, etc.      \")\n",
    "            \n",
    "            #This searches for integers in the string\n",
    "            for i in range(len(user_move)):\n",
    "                try:\n",
    "                    move.append(int(user_move[i]))\n",
    "                except:\n",
    "                    pass \n",
    "            \n",
    "            #See if it's a good move                  \n",
    "            try:\n",
    "                if board.encoded[move[0]-1][move[1]-1] == 0:\n",
    "                    board.user_make_move(move[0], move[1])\n",
    "                    board.print_board()\n",
    "                    break\n",
    "            except:\n",
    "                pass\n",
    "            \n",
    "            #That spot on the board has already been played.\n",
    "            try:\n",
    "                if board.encoded[move[0]-1][move[1]-1] != 0: \n",
    "                    print('\\n' + center_tool + \"The space on row {} and column {} is taken!\".format(move[0],move[1]))\n",
    "                    time.sleep(1.5)\n",
    "            except:\n",
    "                pass\n",
    "            \n",
    "            #If there are not 2 integers in the response\n",
    "            try:\n",
    "                if len(move) < 2:\n",
    "                    print('\\n' + '              ' + \"I need two integers corresponding to a row and a column to make your move.\")\n",
    "                    time.sleep(1.5)\n",
    "            except:\n",
    "                pass\n",
    "            \n",
    "            #Outof index\n",
    "            try:\n",
    "                if move[0] > 3:\n",
    "                    print('\\n' + '              ' + \"Pick a row 1, 2, or 3. {} is not a valid row.\".format(move[0]))\n",
    "                    time.sleep(1.5)\n",
    "                if move[1] > 3:\n",
    "                    print('\\n' + '              ' + \"Pick a column 1, 2, or 3. {} is not a valid row.\".format(move[1]))\n",
    "                    time.sleep(1.5)\n",
    "            except:\n",
    "                pass\n",
    "\n",
    "        #Computer games a move\n",
    "        if board.is_game_over() == False:\n",
    "            print('\\n' + center_tool + '              ' + \"Okay. My turn!\")\n",
    "            time.sleep(1)\n",
    "            board.comp_make_move()\n",
    "            board.print_board()\n",
    "            time.sleep(1)\n",
    "    \n",
    "    \n",
    "    #################################Conclusion###########################################\n",
    "    #Draw\n",
    "    if board.is_game_over() == 'Draw':\n",
    "        print(center_tool+stars+center_tool+\"*  It looks Like it's a draw pal.  *\\n\"+center_tool+stars)\n",
    "        \n",
    "    #X wins\n",
    "    if board.is_game_over() == 'X':\n",
    "        if board.user_xo == 1:\n",
    "            print(center_tool+stars+center_tool+\"*   You got the best of me this time!   *\\n\"+center_tool+stars)\n",
    "        if board.user_xo == 2:\n",
    "            print(center_tool+stars+center_tool+\"*   I got the best of you this time!   *\\n\"+center_tool+stars)\n",
    "    \n",
    "    #O wins\n",
    "    if board.is_game_over() == 'O':\n",
    "        if board.user_xo == 1:\n",
    "            print(center_tool+stars+center_tool+\"*   I got the best of you this time!   *\\n\"+center_tool+stars)\n",
    "        if board.user_xo == 2:\n",
    "            print(center_tool+stars+center_tool+\"*   You got the best of me this time!   *\\n\"+center_tool+stars)"
   ]
  },
  {
   "cell_type": "code",
   "execution_count": 387,
   "metadata": {},
   "outputs": [
    {
     "name": "stdout",
     "output_type": "stream",
     "text": [
      "                                  *****************************************\n",
      "                                  *  Welcome to the game of Tic Tac Toe!  *\n",
      "                                  *****************************************\n",
      "\n",
      "\n",
      "                                                *---*---*---*\n",
      "                                                |   |   |   |\n",
      "                                                *---*---*---*\n",
      "                                                |   |   |   |\n",
      "                                                *---*---*---*\n",
      "                                                |   |   |   |\n",
      "                                                *---*---*---*\n",
      "\n",
      "Would you link to play as X's or O's?\n",
      "Just type the letter X or O. Type 'Exit' to leave the game.      x\n",
      "\n",
      "                                             Alright X goes first!\n",
      "Make your move.\n",
      "Pick the row first and then the column.\n",
      "The format isn't important as long as your response has 2 integer values in order.\n",
      "Ex: 23, row 2 column 3, 2x3, etc.      22\n",
      "\n",
      "                                                *---*---*---*\n",
      "                                                |   |   |   |\n",
      "                                                *---*---*---*\n",
      "                                                |   | X |   |\n",
      "                                                *---*---*---*\n",
      "                                                |   |   |   |\n",
      "                                                *---*---*---*\n",
      "\n",
      "\n",
      "                                                Okay. My turn!\n",
      "\n",
      "                                                *---*---*---*\n",
      "                                                |   |   |   |\n",
      "                                                *---*---*---*\n",
      "                                                |   | X | O |\n",
      "                                                *---*---*---*\n",
      "                                                |   |   |   |\n",
      "                                                *---*---*---*\n",
      "\n",
      "Make your move.\n",
      "Pick the row first and then the column.\n",
      "The format isn't important as long as your response has 2 integer values in order.\n",
      "Ex: 23, row 2 column 3, 2x3, etc.      22\n",
      "\n",
      "                                  The space on row 2 and column 2 is taken!\n",
      "Make your move.\n",
      "Pick the row first and then the column.\n",
      "The format isn't important as long as your response has 2 integer values in order.\n",
      "Ex: 23, row 2 column 3, 2x3, etc.      21\n",
      "\n",
      "                                                *---*---*---*\n",
      "                                                |   |   |   |\n",
      "                                                *---*---*---*\n",
      "                                                | X | X | O |\n",
      "                                                *---*---*---*\n",
      "                                                |   |   |   |\n",
      "                                                *---*---*---*\n",
      "\n",
      "\n",
      "                                                Okay. My turn!\n",
      "\n",
      "                                                *---*---*---*\n",
      "                                                |   |   | O |\n",
      "                                                *---*---*---*\n",
      "                                                | X | X | O |\n",
      "                                                *---*---*---*\n",
      "                                                |   |   |   |\n",
      "                                                *---*---*---*\n",
      "\n",
      "Make your move.\n",
      "Pick the row first and then the column.\n",
      "The format isn't important as long as your response has 2 integer values in order.\n",
      "Ex: 23, row 2 column 3, 2x3, etc.      33\n",
      "\n",
      "                                                *---*---*---*\n",
      "                                                |   |   | O |\n",
      "                                                *---*---*---*\n",
      "                                                | X | X | O |\n",
      "                                                *---*---*---*\n",
      "                                                |   |   | X |\n",
      "                                                *---*---*---*\n",
      "\n",
      "\n",
      "                                                Okay. My turn!\n",
      "\n",
      "                                                *---*---*---*\n",
      "                                                |   |   | O |\n",
      "                                                *---*---*---*\n",
      "                                                | X | X | O |\n",
      "                                                *---*---*---*\n",
      "                                                | O |   | X |\n",
      "                                                *---*---*---*\n",
      "\n",
      "Make your move.\n",
      "Pick the row first and then the column.\n",
      "The format isn't important as long as your response has 2 integer values in order.\n",
      "Ex: 23, row 2 column 3, 2x3, etc.      32\n",
      "\n",
      "                                                *---*---*---*\n",
      "                                                |   |   | O |\n",
      "                                                *---*---*---*\n",
      "                                                | X | X | O |\n",
      "                                                *---*---*---*\n",
      "                                                | O | X | X |\n",
      "                                                *---*---*---*\n",
      "\n",
      "\n",
      "                                                Okay. My turn!\n",
      "\n",
      "                                                *---*---*---*\n",
      "                                                | O |   | O |\n",
      "                                                *---*---*---*\n",
      "                                                | X | X | O |\n",
      "                                                *---*---*---*\n",
      "                                                | O | X | X |\n",
      "                                                *---*---*---*\n",
      "\n",
      "Make your move.\n",
      "Pick the row first and then the column.\n",
      "The format isn't important as long as your response has 2 integer values in order.\n",
      "Ex: 23, row 2 column 3, 2x3, etc.      12\n",
      "\n",
      "                                                *---*---*---*\n",
      "                                                | O | X | O |\n",
      "                                                *---*---*---*\n",
      "                                                | X | X | O |\n",
      "                                                *---*---*---*\n",
      "                                                | O | X | X |\n",
      "                                                *---*---*---*\n",
      "\n",
      "                                  *****************************************\n",
      "                                  *   You got the best of me this time!   *\n",
      "                                  *****************************************\n",
      "\n"
     ]
    }
   ],
   "source": [
    "playing_tic_tac_toe()"
   ]
  }
 ],
 "metadata": {
  "kernelspec": {
   "display_name": "Python 3",
   "language": "python",
   "name": "python3"
  },
  "language_info": {
   "codemirror_mode": {
    "name": "ipython",
    "version": 3
   },
   "file_extension": ".py",
   "mimetype": "text/x-python",
   "name": "python",
   "nbconvert_exporter": "python",
   "pygments_lexer": "ipython3",
   "version": "3.7.7"
  }
 },
 "nbformat": 4,
 "nbformat_minor": 4
}
