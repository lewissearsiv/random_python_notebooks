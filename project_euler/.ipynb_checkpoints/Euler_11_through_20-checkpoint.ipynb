{
 "cells": [
  {
   "cell_type": "markdown",
   "metadata": {},
   "source": [
    " ## Project Euler \n",
    " #### Questions 11-20\n",
    " \n",
    "Project Euler is a website providing problems that are mathematical in nature, but require coding to solve. The solutions do not require any packages and are more based on mathematical strategy. They start off pretty easy and become complicated quickly.\n",
    "\n",
    "-----"
   ]
  },
  {
   "cell_type": "code",
   "execution_count": 144,
   "metadata": {},
   "outputs": [],
   "source": [
    "#We may want to use this a good deal\n",
    "def is_prime(number):\n",
    "    for i in range(2, number//2 + 1):\n",
    "        if number % i == 0:\n",
    "            return False\n",
    "    return True"
   ]
  },
  {
   "cell_type": "markdown",
   "metadata": {},
   "source": [
    "---\n",
    "**Question 11:** What is the greatest product of four adjacent numbers in the same direction (up, down, left, right, or diagonally) in the 20×20 grid?"
   ]
  },
  {
   "cell_type": "code",
   "execution_count": 20,
   "metadata": {},
   "outputs": [],
   "source": [
    "#A little formatting from the website\n",
    "website_string = \"08 02 22 97 38 15 00 40 00 75 04 05 07 78 52 12 50 77 91 08 49 49 99 40 17 81 18 57 60 87 17 40 98 43 69 48 04 56 62 00 81 49 31 73 55 79 14 29 93 71 40 67 53 88 30 03 49 13 36 65 52 70 95 23 04 60 11 42 69 24 68 56 01 32 56 71 37 02 36 91 22 31 16 71 51 67 63 89 41 92 36 54 22 40 40 28 66 33 13 80 24 47 32 60 99 03 45 02 44 75 33 53 78 36 84 20 35 17 12 50 32 98 81 28 64 23 67 10 26 38 40 67 59 54 70 66 18 38 64 70 67 26 20 68 02 62 12 20 95 63 94 39 63 08 40 91 66 49 94 21 24 55 58 05 66 73 99 26 97 17 78 78 96 83 14 88 34 89 63 72 21 36 23 09 75 00 76 44 20 45 35 14 00 61 33 97 34 31 33 95 78 17 53 28 22 75 31 67 15 94 03 80 04 62 16 14 09 53 56 92 16 39 05 42 96 35 31 47 55 58 88 24 00 17 54 24 36 29 85 57 86 56 00 48 35 71 89 07 05 44 44 37 44 60 21 58 51 54 17 58 19 80 81 68 05 94 47 69 28 73 92 13 86 52 17 77 04 89 55 40 04 52 08 83 97 35 99 16 07 97 57 32 16 26 26 79 33 27 98 66 88 36 68 87 57 62 20 72 03 46 33 67 46 55 12 32 63 93 53 69 04 42 16 73 38 25 39 11 24 94 72 18 08 46 29 32 40 62 76 36 20 69 36 41 72 30 23 88 34 62 99 69 82 67 59 85 74 04 36 16 20 73 35 29 78 31 90 01 74 31 49 71 48 86 81 16 23 57 05 54 01 70 54 71 83 51 54 69 16 92 33 48 61 43 52 01 89 19 67 48\" \n",
    "website_list = website_string.split()\n",
    "int_list = [int(x) for x in website_list]\n",
    "master_grid = []\n",
    "for i in range(20):\n",
    "    master_grid.append(int_list[20 * i:20 * i+20])"
   ]
  },
  {
   "cell_type": "code",
   "execution_count": 21,
   "metadata": {},
   "outputs": [
    {
     "data": {
      "text/plain": [
       "(20, 20)"
      ]
     },
     "execution_count": 21,
     "metadata": {},
     "output_type": "execute_result"
    }
   ],
   "source": [
    "#Check shape:\n",
    "len(master_grid), len(master_grid[0])"
   ]
  },
  {
   "cell_type": "code",
   "execution_count": 82,
   "metadata": {},
   "outputs": [],
   "source": [
    "def get_diagonals(grid):\n",
    "    '''This function take a square grid, formatted as a list of integer lists,\n",
    "    returning lists corresponding to all all diagonals'''\n",
    "    \n",
    "    dim = len(grid)\n",
    "    diagonals = []\n",
    "    for i in range(dim):\n",
    "        \n",
    "        #Long diagonals\n",
    "        if i == 0:\n",
    "            long_diagonal_1 = []\n",
    "            long_diagonal_2 = []\n",
    "            for j in range(dim):\n",
    "                long_diagonal_1.append(grid[j][j])\n",
    "                long_diagonal_2.append(grid[j][dim - (j+1)])\n",
    "            diagonals.append(long_diagonal_1)\n",
    "            diagonals.append(long_diagonal_2)\n",
    "        \n",
    "        #Other diagonals\n",
    "        else:\n",
    "            from_top_diagonal = []\n",
    "            from_top_diagonal_inv = []\n",
    "            from_side_diagonal = []\n",
    "            from_side_diagonal_inv = []\n",
    "            for j in range(dim-i):\n",
    "                \n",
    "                #These two start from the top (opposites)\n",
    "                from_top_diagonal.append(grid[j][i + j])\n",
    "                from_top_diagonal_inv.append(grid[j][dim - (i + j + 1)])\n",
    "                \n",
    "                #These two start from opposite sides\n",
    "                from_side_diagonal.append(grid[i + j][j])\n",
    "                from_side_diagonal_inv.append(grid[i + j][dim - (j + 1)])\n",
    "                \n",
    "                \n",
    "            #In this one loop add four diagonals\n",
    "            diagonals.append(from_top_diagonal)\n",
    "            diagonals.append(from_top_diagonal_inv)\n",
    "            diagonals.append(from_side_diagonal)\n",
    "            diagonals.append(from_side_diagonal_inv)\n",
    "    \n",
    "    return diagonals\n",
    "\n",
    "\n",
    "def greatest_product_of_grid(grid, n):\n",
    "    '''Input a list of integer valued lists that corresponds to a square grid and some\n",
    "    some nonzero integer n bounded by the shape of the grid. This function calculates the \n",
    "    maximum product of adjacent values considering vertical, horizontal, and diagonal combinations.\n",
    "    \n",
    "    This abstracts the original problem a little bit because we can give any number, not just 4.\n",
    "    '''\n",
    "    \n",
    "    #Find all row products\n",
    "    row_products = []\n",
    "    for row in grid:\n",
    "        for i in range(len(row) - (n-1)):\n",
    "            product = 1\n",
    "            for j in range(n):\n",
    "                product *= row[i+j]\n",
    "            row_products.append(product)\n",
    "    \n",
    "    #Find all column products\n",
    "    col_products = []\n",
    "    for i in range(len(grid[0])):\n",
    "        column = [row[i] for row in grid]\n",
    "        for j in range(len(column) - (n-1)):\n",
    "            product = 1\n",
    "            for k in range(n):\n",
    "                product *= column[j+k]\n",
    "            col_products.append(product)\n",
    "            \n",
    "    #Find all diagonals. Use the get diagonals function from above\n",
    "    all_diagonals = get_diagonals(grid)\n",
    "    diagonals_in_play = [diagonal for diagonal in all_diagonals if len(diagonal) >= n]\n",
    "    diagonal_products = []\n",
    "    for diagonal in diagonals_in_play:\n",
    "        for i in range(len(diagonal) - (n-1)):\n",
    "            product = 1\n",
    "            for j in range(n):\n",
    "                product *= diagonal[i+j]\n",
    "            diagonal_products.append(product)        \n",
    "    \n",
    "    return max([max(row_products),max(col_products),max(diagonal_products)])"
   ]
  },
  {
   "cell_type": "code",
   "execution_count": 84,
   "metadata": {},
   "outputs": [
    {
     "data": {
      "text/plain": [
       "70600674"
      ]
     },
     "execution_count": 84,
     "metadata": {},
     "output_type": "execute_result"
    }
   ],
   "source": [
    "greatest_product_of_grid(master_grid, 4)"
   ]
  },
  {
   "cell_type": "markdown",
   "metadata": {},
   "source": [
    "---\n",
    "**Question 12:** The sequence of triangle (or diagonal) numbers is generated by adding the natural numbers. So the 7th triangle number would be 1 + 2 + 3 + 4 + 5 + 6 + 7 = 28. The first ten terms would be: 1, 3, 6, 10, 15, 21, 28, 36, 45, and 55.\n",
    "\n",
    "We can show that 28 is the first triangle number to have over five divisors. What is the value of the first triangle number to have over five hundred divisors?"
   ]
  },
  {
   "cell_type": "code",
   "execution_count": 172,
   "metadata": {},
   "outputs": [],
   "source": [
    "#Create a list of primes for a shorter search!\n",
    "#Prime factorization of all numbers will definitely help us search faster\n",
    "prime_list = [2]\n",
    "number = 3\n",
    "while len(prime_list)<10000:\n",
    "    if is_prime(number):\n",
    "        prime_list.append(number)\n",
    "    \n",
    "    #remember we can skip even numbers\n",
    "    number += 2"
   ]
  },
  {
   "cell_type": "code",
   "execution_count": 173,
   "metadata": {},
   "outputs": [
    {
     "data": {
      "text/plain": [
       "10000"
      ]
     },
     "execution_count": 173,
     "metadata": {},
     "output_type": "execute_result"
    }
   ],
   "source": [
    "#These are the first 1000 prime numbers!\n",
    "len(prime_list)"
   ]
  },
  {
   "cell_type": "code",
   "execution_count": 241,
   "metadata": {},
   "outputs": [],
   "source": [
    "import numpy as np\n",
    "def how_many_divisors(num, list_of_primes):\n",
    "    '''We create a prime factorization of the number and then apply the fact that the number of divisors\n",
    "    is equal to the product of the exponents plus 1 of the prime factors.'''\n",
    "    \n",
    "    #Bound the primes. Note that this will not work with 3 because it's too small.\n",
    "    primes = [prime for prime in list_of_primes if prime <= num // 2 + 1]\n",
    "    prime_factors = [prime for prime in primes if num % prime == 0]\n",
    "    \n",
    "    prime_dict = {}\n",
    "    remainder = num\n",
    "    for prime in prime_factors:\n",
    "        exponent = 0\n",
    "        quotient = num\n",
    "        while quotient % prime == 0:\n",
    "            exponent += 1\n",
    "            quotient = quotient / prime\n",
    "            remainder = remainder / prime\n",
    "        prime_dict[prime] = exponent\n",
    "    done = remainder == 1.0\n",
    "    exponents = [x+1 for x in list(prime_dict.values())]\n",
    "    return np.prod(exponents), done  "
   ]
  },
  {
   "cell_type": "code",
   "execution_count": 233,
   "metadata": {},
   "outputs": [
    {
     "data": {
      "text/plain": [
       "(9, True)"
      ]
     },
     "execution_count": 233,
     "metadata": {},
     "output_type": "execute_result"
    }
   ],
   "source": [
    "how_many_divisors(100, prime_list)"
   ]
  },
  {
   "cell_type": "code",
   "execution_count": 189,
   "metadata": {},
   "outputs": [],
   "source": [
    "def get_diagonal_numbers(n_many):\n",
    "    '''Provide a number \"n_many\" that will provide a list of that many diagonal numbers.'''\n",
    "    \n",
    "    diag_nums = [1]\n",
    "    index = 1\n",
    "    while index < n_many:\n",
    "        diag_nums.append(diag_nums[-1] + (index+1))\n",
    "        index += 1\n",
    "    return diag_nums"
   ]
  },
  {
   "cell_type": "code",
   "execution_count": 235,
   "metadata": {},
   "outputs": [],
   "source": [
    "diagonal_numbers = get_diagonal_numbers(100000)"
   ]
  },
  {
   "cell_type": "code",
   "execution_count": 239,
   "metadata": {},
   "outputs": [],
   "source": [
    "diagonal_divisors = []\n",
    "for number in diagonal_numbers:\n",
    "    diagonal_divisors.append(how_many_divisors(number, prime_list))"
   ]
  },
  {
   "cell_type": "code",
   "execution_count": 245,
   "metadata": {},
   "outputs": [
    {
     "data": {
      "text/plain": [
       "[[1, (1.0, False)]]"
      ]
     },
     "execution_count": 245,
     "metadata": {},
     "output_type": "execute_result"
    }
   ],
   "source": [
    "not_done_factoring = [[i, val] for i, val in enumerate(diagonal_divisors) if val[1] == False]\n",
    "not_done_factoring"
   ]
  },
  {
   "cell_type": "code",
   "execution_count": 246,
   "metadata": {},
   "outputs": [],
   "source": [
    "#Of course, we knew that wouldn't work with 3. But everything else came out fully factored!\n",
    "lots_of_divisors = [[i, val[0]] for i, val in enumerate(diagonal_divisors) if val[0] >= 500]"
   ]
  },
  {
   "cell_type": "code",
   "execution_count": 253,
   "metadata": {},
   "outputs": [
    {
     "data": {
      "text/plain": [
       "76576500"
      ]
     },
     "execution_count": 253,
     "metadata": {},
     "output_type": "execute_result"
    }
   ],
   "source": [
    "diagonal_numbers[lots_of_divisors[0][0]]"
   ]
  },
  {
   "cell_type": "code",
   "execution_count": 258,
   "metadata": {},
   "outputs": [
    {
     "data": {
      "text/plain": [
       "(576, True)"
      ]
     },
     "execution_count": 258,
     "metadata": {},
     "output_type": "execute_result"
    }
   ],
   "source": [
    "#Just check that it is in fact fully factored\n",
    "how_many_divisors(76576500, prime_list)"
   ]
  },
  {
   "cell_type": "markdown",
   "metadata": {},
   "source": [
    "---\n",
    "**Question 13:** Work out the first ten digits of the sum of the following one-hundred 50-digit numbers. (We're going to have to scrape this just to get the numbers.)"
   ]
  },
  {
   "cell_type": "code",
   "execution_count": 256,
   "metadata": {},
   "outputs": [
    {
     "data": {
      "text/plain": [
       "<Response [200]>"
      ]
     },
     "execution_count": 256,
     "metadata": {},
     "output_type": "execute_result"
    }
   ],
   "source": [
    "import requests\n",
    "page = requests.get(\"https://projecteuler.net/problem=13\")\n",
    "page"
   ]
  },
  {
   "cell_type": "code",
   "execution_count": 257,
   "metadata": {},
   "outputs": [],
   "source": [
    "from bs4 import BeautifulSoup\n",
    "soup = BeautifulSoup(page.content, 'html.parser')"
   ]
  },
  {
   "cell_type": "code",
   "execution_count": 287,
   "metadata": {},
   "outputs": [
    {
     "data": {
      "text/plain": [
       "100"
      ]
     },
     "execution_count": 287,
     "metadata": {},
     "output_type": "execute_result"
    }
   ],
   "source": [
    "paragraph = str(soup.find_all('div', class_='monospace center')[0])\n",
    "text = paragraph.replace('\\n', ' ')\n",
    "splitted = text.split()\n",
    "splitted = splitted[3:]\n",
    "numbers = [row[:50] for row in splitted]\n",
    "len(numbers)"
   ]
  },
  {
   "cell_type": "code",
   "execution_count": 292,
   "metadata": {},
   "outputs": [
    {
     "data": {
      "text/plain": [
       "'5537376230'"
      ]
     },
     "execution_count": 292,
     "metadata": {},
     "output_type": "execute_result"
    }
   ],
   "source": [
    "#Since this worked I'm afraid it was almost too easy.....\n",
    "try_ = [int(x) for x in numbers]\n",
    "str(sum(try_))[:10]"
   ]
  },
  {
   "cell_type": "markdown",
   "metadata": {},
   "source": [
    "---\n",
    "**Question 14:** The following iterative sequence is defined for the set of positive integers:\n",
    "$$n \\mapsto n/2 \\text{  (n is even)}$$\n",
    "$$n \\mapsto 3n + 1 \\text{  (n is odd)}$$\n",
    "Which starting number, under one million, produces the longest chain?"
   ]
  },
  {
   "cell_type": "code",
   "execution_count": null,
   "metadata": {},
   "outputs": [],
   "source": []
  }
 ],
 "metadata": {
  "kernelspec": {
   "display_name": "Python 3",
   "language": "python",
   "name": "python3"
  },
  "language_info": {
   "codemirror_mode": {
    "name": "ipython",
    "version": 3
   },
   "file_extension": ".py",
   "mimetype": "text/x-python",
   "name": "python",
   "nbconvert_exporter": "python",
   "pygments_lexer": "ipython3",
   "version": "3.7.7"
  }
 },
 "nbformat": 4,
 "nbformat_minor": 4
}
