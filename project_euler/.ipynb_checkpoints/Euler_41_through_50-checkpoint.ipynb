{
 "cells": [
  {
   "cell_type": "markdown",
   "id": "e5fe7b92",
   "metadata": {},
   "source": [
    "## Project Euler \n",
    "#### Questions 41-50\n",
    "\n",
    "Continuing the quest to solve every Euler question!"
   ]
  },
  {
   "cell_type": "markdown",
   "id": "0d7bb91e",
   "metadata": {},
   "source": [
    "---\n",
    "**Problem 41:** We shall say that an $n$-digit number is pandigital if it makes use of all the digits $1$ to $n$ exactly once. For example, 2143 is a 4-digit pandigital and is also prime.\n",
    "\n",
    "What is the largest $n$-digit pandigital prime that exists?"
   ]
  },
  {
   "cell_type": "code",
   "execution_count": null,
   "id": "14bec0f8",
   "metadata": {},
   "outputs": [],
   "source": []
  }
 ],
 "metadata": {
  "kernelspec": {
   "display_name": "Python 3",
   "language": "python",
   "name": "python3"
  },
  "language_info": {
   "codemirror_mode": {
    "name": "ipython",
    "version": 3
   },
   "file_extension": ".py",
   "mimetype": "text/x-python",
   "name": "python",
   "nbconvert_exporter": "python",
   "pygments_lexer": "ipython3",
   "version": "3.7.7"
  }
 },
 "nbformat": 4,
 "nbformat_minor": 5
}
