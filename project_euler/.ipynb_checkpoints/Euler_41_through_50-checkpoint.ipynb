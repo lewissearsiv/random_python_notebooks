{
 "cells": [
  {
   "cell_type": "markdown",
   "id": "e5fe7b92",
   "metadata": {},
   "source": [
    "## Project Euler \n",
    "#### Questions 41-50\n",
    "\n",
    "Continuing the quest to solve every Euler question!"
   ]
  },
  {
   "cell_type": "markdown",
   "id": "0d7bb91e",
   "metadata": {},
   "source": [
    "---\n",
    "**Problem 41:** Pandigital Prime \n",
    "\n",
    "We shall say that an $n$-digit number is pandigital if it makes use of all the digits $1$ to $n$ exactly once. For example, 2143 is a 4-digit pandigital and is also prime.\n",
    "\n",
    "What is the largest $n$-digit pandigital prime that exists?"
   ]
  },
  {
   "cell_type": "code",
   "execution_count": 22,
   "id": "14bec0f8",
   "metadata": {},
   "outputs": [],
   "source": [
    "import itertools\n",
    "import math\n",
    "from tqdm import tqdm\n",
    "\n",
    "#Formatting tool\n",
    "def compactor(list_):\n",
    "    string = \"\"\n",
    "    for digit in list_:\n",
    "        string += str(digit)\n",
    "    return int(string)\n",
    "\n",
    "def get_n_digit_pandigital_ints(n):\n",
    "    '''Gets all pandigital nums of size n, sorts them, and filters them logically.\n",
    "    '''\n",
    "    \n",
    "    #Get list\n",
    "    pandigital_list = [list(list_) for list_ in list(itertools.permutations([i for i in range(1,n+1)]))]\n",
    "    pan_ints = [compactor(list_) for list_ in pandigital_list]\n",
    "\n",
    "    #Sort them so in our search we can stop early if applicable\n",
    "    pan_ints.sort(reverse = True)\n",
    "\n",
    "    #Remove integers that are even or divisible by 5\n",
    "    purified_ints = [num for num in pan_ints if str(num)[-1] not in ['2','4','5','6','8']]\n",
    "    return purified_ints\n",
    "\n",
    "def is_prime_speedy(number):\n",
    "    '''Returns boolean if int is prime. Optimized speed using upper bound of square root.\n",
    "    '''\n",
    "    upper_bound = math.ceil(math.sqrt(number))+1\n",
    "    for i in range(3, upper_bound, 2):\n",
    "        if number % i == 0:\n",
    "            return False\n",
    "    return True"
   ]
  },
  {
   "cell_type": "code",
   "execution_count": 60,
   "id": "d32c683c",
   "metadata": {},
   "outputs": [
    {
     "name": "stdout",
     "output_type": "stream",
     "text": [
      "The largest prime 9-digit pandigital integer is:    7652413\n"
     ]
    },
    {
     "data": {
      "text/plain": [
       "'Got it!'"
      ]
     },
     "execution_count": 60,
     "metadata": {},
     "output_type": "execute_result"
    }
   ],
   "source": [
    "#Start at biggest n and go down from there\n",
    "def get_largest_prime():\n",
    "    for n_ in range(9,1, -1):\n",
    "        n_pandigital = get_n_digit_pandigital_ints(n_)\n",
    "        for pandigital in n_pandigital:\n",
    "            if is_prime_speedy(pandigital):\n",
    "                print(\"The largest prime 9-digit pandigital integer is:    {}\".format(pandigital))\n",
    "                return \"Got it!\"\n",
    "get_largest_prime()"
   ]
  },
  {
   "cell_type": "markdown",
   "id": "ef264952",
   "metadata": {},
   "source": [
    "---\n",
    "**Problem 42:** Coded Triangle Numbers \n",
    "\n",
    "The nth term of the sequence of triangle numbers is given by, $t_n = \\frac{1}{2}n(n+1)$; so the first ten triangle numbers are:\n",
    "\n",
    "$$1, 3, 6, 10, 15, 21, 28, 36, 45, 55, \\ldots$$\n",
    "\n",
    "By converting each letter in a word to a number corresponding to its alphabetical position and adding these values we form a word value. For example, the word value for SKY is $19 + 11 + 25 = 55 = t10$. If the word value is a triangle number then we shall call the word a triangle word.\n",
    "\n",
    "Using words.txt (right click and 'Save Link/Target As...'), a 16K text file containing nearly two-thousand common English words, how many are triangle words?"
   ]
  },
  {
   "cell_type": "code",
   "execution_count": 23,
   "id": "fe2994fd",
   "metadata": {},
   "outputs": [
    {
     "data": {
      "text/plain": [
       "192"
      ]
     },
     "execution_count": 23,
     "metadata": {},
     "output_type": "execute_result"
    }
   ],
   "source": [
    "#read in file\n",
    "txt_file = open(\"required_data/euler_problem_42.txt\", \"rt\") \n",
    "words = txt_file.read()         \n",
    "txt_file.close()\n",
    "\n",
    "#Some cleaning \n",
    "separate_words = words.split(',')\n",
    "clean_words = [word[1:-1] for word in separate_words]\n",
    "final_words = [word.lower() for word in clean_words]\n",
    "\n",
    "#Make a dictionary to encode letters\n",
    "alphabet = 'abcdefghijklmnopqrstuvwxyz'\n",
    "letter_to_number = {}\n",
    "for i in range(len(alphabet)):\n",
    "    letter_to_number[alphabet[i]] = i+1\n",
    "    \n",
    "#Get word values\n",
    "def word_to_number(word):\n",
    "    count = 0\n",
    "    for letter in word:\n",
    "        count += letter_to_number[letter]\n",
    "    return count\n",
    "word_values = [word_to_number(word) for word in final_words]\n",
    "max(word_values)"
   ]
  },
  {
   "cell_type": "code",
   "execution_count": 30,
   "id": "76a88bfc",
   "metadata": {},
   "outputs": [
    {
     "name": "stdout",
     "output_type": "stream",
     "text": [
      "There are 162 triangle words in the .txt file.\n"
     ]
    }
   ],
   "source": [
    "#So we only need triangle numbers up to that max word value\n",
    "#Solve 0 = n^2+n-384 (from formula)\n",
    "i = 1\n",
    "while i**2+i - 384 < 0:\n",
    "    i += 1\n",
    "upper_bound = i+1\n",
    "\n",
    "#Now get just the triangle numbers needed\n",
    "triangle_numbers = [int(i*(i+1)/2) for i in range(1, upper_bound)]\n",
    "\n",
    "#And search the word_values\n",
    "triangle_words = [word for word in word_values if word in triangle_numbers]\n",
    "print(\"There are {} triangle words in the .txt file.\".format(len(triangle_words)))"
   ]
  },
  {
   "cell_type": "markdown",
   "id": "25a3b807",
   "metadata": {},
   "source": [
    "**Problem 43:** Sub-String Divisibility\n",
    "\n",
    "The number, 1406357289, is a 0 to 9 pandigital number because it is made up of each of the digits 0 to 9 in some order, but it also has a rather interesting sub-string divisibility property.\n",
    "\n",
    "Let $d_n$ be the $n$-th digit of a number. In this way, we note the following:\n",
    "\n",
    "$$d_2 d_3 d_4=406 \\pmod 2 = 0$$ \n",
    "$$d_3 d_4 d_5=063 \\pmod 3 = 0$$ \n",
    "$$d_4 d_5 d_6=635 \\pmod 5 = 0$$\n",
    "$$d_5 d_6 d_7=357 \\pmod 7 = 0$$ \n",
    "$$d_6 d_7 d_8=572 \\pmod{11} = 0$$ \n",
    "$$d_7 d_8 d_9=728 \\pmod{13} = 0$$ \n",
    "$$d_8 d_9 d_10=289 \\pmod{17} = 0$$\n",
    "Find the sum of all 0 to 9 pandigital numbers with this property."
   ]
  },
  {
   "cell_type": "code",
   "execution_count": 4,
   "id": "c1774990",
   "metadata": {},
   "outputs": [
    {
     "name": "stdout",
     "output_type": "stream",
     "text": [
      "There are 3628800 pandigital numbers 0 to 9.\n"
     ]
    }
   ],
   "source": [
    "import itertools\n",
    "import math\n",
    "\n",
    "#Formatting tool\n",
    "def compactor(list_):\n",
    "    string = \"\"\n",
    "    for digit in list_:\n",
    "        string += str(digit)\n",
    "    return string\n",
    "\n",
    "def get_n_digit_pandigital_ints(n):\n",
    "    '''Gets all pandigital nums of size n+1, sorts them, and filters them logically.\n",
    "    '''\n",
    "    \n",
    "    #Get list\n",
    "    pandigital_list = [list(list_) for list_ in list(itertools.permutations([i for i in range(0,n+1)]))]\n",
    "    pan_ints_str = [compactor(list_) for list_ in pandigital_list]\n",
    "    return pan_ints_str\n",
    "pandigital_10 = get_n_digit_pandigital_ints(9)\n",
    "print(\"There are {} pandigital numbers 0 to 9.\".format(len(pandigital_10)))"
   ]
  },
  {
   "cell_type": "code",
   "execution_count": 8,
   "id": "db919916",
   "metadata": {},
   "outputs": [
    {
     "name": "stdout",
     "output_type": "stream",
     "text": [
      "There are 6 positive cases.\n",
      "The numbers are:\n",
      "['1406357289', '1430952867', '1460357289', '4106357289', '4130952867', '4160357289']\n",
      "The sum is 16695334890.\n"
     ]
    }
   ],
   "source": [
    "check_list = [2,3,5,7,11,13,17]\n",
    "def check_string_condition(num_string):\n",
    "    '''Checks the string for the desired condition.\n",
    "    '''\n",
    "    for i in range(1,len(num_string)-2):\n",
    "        if int(num_string[i:i+3]) % check_list[i-1] != 0:\n",
    "            return False\n",
    "    return True\n",
    "positive_cases = [string for string in pandigital_10 if check_string_condition(string)]\n",
    "print(\"There are {} positive cases.\".format(len(positive_cases)))\n",
    "print(\"The numbers are:\")\n",
    "print(positive_cases)\n",
    "print(\"The sum is {}.\".format(sum([int(x) for x in positive_cases])))"
   ]
  },
  {
   "cell_type": "markdown",
   "id": "7d0fda4b",
   "metadata": {},
   "source": [
    "---\n",
    "**Problem 44:** Pentagon Numbers **(IN PROGRESS)**\n",
    "\n",
    "Pentagonal numbers are generated by the formula, $P_n=n(3n−1)/2$. The first ten pentagonal numbers are:\n",
    "\n",
    "$$1, 5, 12, 22, 35, 51, 70, 92, 117, 145, \\ldots$$\n",
    "\n",
    "It can be seen that $P_4 + P_7 = 22 + 70 = 92 = P_8$. However, their difference, $70 − 22 = 48$, is not pentagonal.\n",
    "\n",
    "Find the pair of pentagonal numbers, $P_j$ and $P_k$, for which their sum and difference are pentagonal and $D = |P_k − P_j|$ is minimised; what is the value of D?\n",
    "\n",
    "**Note:** Note that from the quadratic equation a number $N$ is only a pentagonal number if and only if $1+24N$ is a perfect square and $\\sqrt{1+24N} +1 \\equiv 0 \\pmod{6}$. This will make it *way* faster to check if a number is a pentagon number. To show why this is true, if we have a number $x$ that is a pentagon number:\n",
    "\\begin{align}\n",
    "    x &= \\frac{n(3n-1)}{2} \\\\\n",
    "    0 &= 3n^2-n-2x\\\\\n",
    "\\rightarrow n &= \\frac{1+\\sqrt{1+24x}}{6} \\textit{(by the quadratic equation)}.\n",
    "\\end{align}"
   ]
  },
  {
   "cell_type": "code",
   "execution_count": 249,
   "id": "d3333220",
   "metadata": {},
   "outputs": [],
   "source": [
    "#Checker\n",
    "def isPentagon(n):\n",
    "    conj = math.sqrt(1+24*n)\n",
    "    return int(conj % 6 == 5)\n",
    "#Get first million pentagon numbers:\n",
    "pentagons = [i*(3*i-1)/2 for i in range(1, 1000001)]"
   ]
  },
  {
   "cell_type": "markdown",
   "id": "1d5a4c2c",
   "metadata": {},
   "source": [
    "---\n",
    "**Problem 45:** Triangle, Pentagonal, and Hexagonal\n",
    "\n",
    "Triangle, pentagonal, and hexagonal numbers are generated by the following formula, respectively:\n",
    "\\begin{align}\n",
    "    T_{n} &= \\frac{n(n+1)}{2},\\\\\n",
    "    P_{n} &= \\frac{n(3n−1)}{2},\\\\\n",
    "    H_{n} &= n(2n−1).\n",
    "\\end{align}\n",
    "It can be verified that $T_{285} = P_{165} = H_{143} = 40755$.\n",
    "\n",
    "Find the next triangle number that is also pentagonal and hexagonal."
   ]
  },
  {
   "cell_type": "code",
   "execution_count": 232,
   "id": "21ac51e8",
   "metadata": {},
   "outputs": [],
   "source": [
    "#Three condition checkers built from solving the quadratic equation\n",
    "            #This was shown in the previous problem.\n",
    "def isTriangle(n):\n",
    "    conj = math.sqrt(1+8*n)\n",
    "    return int(conj % 2 == 1)\n",
    "def isPentagon(n):\n",
    "    conj = math.sqrt(1+24*n)\n",
    "    return int(conj % 6 == 5)\n",
    "def isHexagon(n):\n",
    "    conj = math.sqrt(1+8*n)\n",
    "    return int(conj % 4 == 3)"
   ]
  },
  {
   "cell_type": "code",
   "execution_count": 244,
   "id": "013f4840",
   "metadata": {},
   "outputs": [],
   "source": [
    "triangle_to_one_million = [int(i*(i+1)/2) for i in range(286, 1000001)]"
   ]
  },
  {
   "cell_type": "code",
   "execution_count": 248,
   "id": "3e5f260c",
   "metadata": {},
   "outputs": [
    {
     "name": "stdout",
     "output_type": "stream",
     "text": [
      "The next Triangle/Pentagon/Hexagonal number is 1533776805\n"
     ]
    }
   ],
   "source": [
    "#Start at given value\n",
    "triangle_to_one_million = [int(i*(i+1)/2) for i in range(286, 1000001)]\n",
    "\n",
    "#Find remaining conditions\n",
    "desired_numbers = [k for k in triangle_to_one_million if isPentagon(k) * isHexagon(k) == 1]\n",
    "print(\"The next Triangle/Pentagon/Hexagonal number is {}\".format(desired_numbers[0]))"
   ]
  },
  {
   "cell_type": "markdown",
   "id": "c1e363c4",
   "metadata": {},
   "source": [
    "---\n",
    "**Problem 46:** Goldbach's other conjecture\n",
    "\n",
    "It was proposed by Christian Goldbach that every odd composite number can be written as the sum of a prime and twice a square.\n",
    "\\begin{align}\n",
    "9 &= 7 + 2\\times 1^2\\\\\n",
    "15 &= 7 + 2\\times 2^2\\\\\n",
    "21 &= 3 + 2\\times 3^2\\\\\n",
    "25 &= 7 + 2\\times 3^2\\\\\n",
    "27 &= 19 + 2\\times 2^2\\\\\n",
    "33 &= 31 + 2\\times 1^2\\\\\n",
    "\\end{align}\n",
    "It turns out that the conjecture was false. What is the smallest odd composite that cannot be written as the sum of a prime and twice a square?"
   ]
  },
  {
   "cell_type": "code",
   "execution_count": 27,
   "id": "cea4e294",
   "metadata": {},
   "outputs": [],
   "source": [
    "import numpy as np\n",
    "import math\n",
    "odd_nums = np.array([3+2*i for i in range(100)])"
   ]
  },
  {
   "cell_type": "code",
   "execution_count": 28,
   "id": "4fd38f6b",
   "metadata": {},
   "outputs": [
    {
     "name": "stdout",
     "output_type": "stream",
     "text": [
      "Let's try to bound this subset we are checking: Max is 40401.\n"
     ]
    }
   ],
   "source": [
    "odd_composites = []\n",
    "for odd in list(odd_nums):\n",
    "    composites = odd * odd_nums\n",
    "    odd_composites += list(composites)\n",
    "filtered = list(set(odd_composites))\n",
    "limit = max(filtered)\n",
    "print(\"Let's try to bound this subset we are checking: Max is {}.\".format(limit))"
   ]
  },
  {
   "cell_type": "code",
   "execution_count": 29,
   "id": "5477216d",
   "metadata": {},
   "outputs": [
    {
     "name": "stdout",
     "output_type": "stream",
     "text": [
      "143\n"
     ]
    }
   ],
   "source": [
    "#Find upper bound for squares:\n",
    "k = 0\n",
    "while 2* k**2 < limit:\n",
    "    k+=1\n",
    "print(k)\n",
    "two_times_squares = [2*i**2 for i in range(1, k+1)]\n",
    "#See if remainder is prime\n",
    "def isPrime(n):\n",
    "    for i in range(3, int(math.sqrt(n))+1, 2):\n",
    "        if n % i == 0:\n",
    "            return False\n",
    "    return True        "
   ]
  },
  {
   "cell_type": "code",
   "execution_count": 37,
   "id": "d391f73b",
   "metadata": {},
   "outputs": [
    {
     "name": "stdout",
     "output_type": "stream",
     "text": [
      "The smallest number to disprove Goldbach's other conjecture is 5777.\n"
     ]
    }
   ],
   "source": [
    "for composite in odd_composites:\n",
    "    squares_in_range = [sq for sq in two_times_squares if sq < composite]\n",
    "    differences = [composite - sq for sq in squares_in_range]\n",
    "    prime_remainders = [dif for dif in differences if isPrime(dif)]\n",
    "    \n",
    "    #If there is no remainder that is prime, then we are done.\n",
    "    if len(prime_remainders) == 0:\n",
    "        print(\"The smallest number to disprove Goldbach's other conjecture is {}.\".format(composite))\n",
    "        break"
   ]
  },
  {
   "cell_type": "markdown",
   "id": "df0bf08d",
   "metadata": {},
   "source": [
    "---\n",
    "**Problem 47:** Distinct Prime Factors\n",
    "\n",
    "The first two consecutive numbers to have two distinct prime factors are:\n",
    "\n",
    "$$14 = 2 × 7$$\n",
    "$$15 = 3 × 5$$\n",
    "\n",
    "The first three consecutive numbers to have three distinct prime factors are:\n",
    "\n",
    "$$644 = 2^2 × 7 × 23$$\n",
    "$$645 = 3 × 5 × 43$$\n",
    "$$646 = 2 × 17 × 19.$$\n",
    "\n",
    "Find the first four consecutive integers to have four distinct prime factors each. What is the first of these numbers?"
   ]
  },
  {
   "cell_type": "code",
   "execution_count": 18,
   "id": "10ac5be0",
   "metadata": {},
   "outputs": [],
   "source": [
    "import math\n",
    "def isPrime(n):\n",
    "    if n % 2 == 0:\n",
    "        return False\n",
    "    for i in range(3, int(math.sqrt(n))+1, 2):\n",
    "        if n % i == 0:\n",
    "            return False\n",
    "    return True\n",
    "\n",
    "def get_prime_factors(number):\n",
    "    '''Get all distinct prime factors of a number.\n",
    "    '''\n",
    "    \n",
    "    if isPrime(number):\n",
    "        return [number]\n",
    "        \n",
    "    prime_list = []\n",
    "    #Check for one even prime\n",
    "    if number % 2 == 0:\n",
    "        prime_list.append(2)\n",
    "        while number % 2 == 0:\n",
    "            number = number//2\n",
    "    \n",
    "    #Some special cases\n",
    "    if number == 1:\n",
    "        return prime_list\n",
    "    if isPrime(number):\n",
    "        prime_list.append(number)\n",
    "        return prime_list\n",
    "    \n",
    "    #Now sift through the others\n",
    "    for i in range(3, int(math.sqrt(number))+1, 2):\n",
    "        if number % i == 0:\n",
    "            prime_list.append(i)\n",
    "            while number % i == 0:\n",
    "                number = number//i\n",
    "        if number == 1:\n",
    "            return prime_list\n",
    "        if isPrime(number):\n",
    "            prime_list.append(number)\n",
    "            return prime_list\n",
    "        \n",
    "    return prime_list"
   ]
  },
  {
   "cell_type": "code",
   "execution_count": 36,
   "id": "920acc0b",
   "metadata": {},
   "outputs": [],
   "source": [
    "num_prime_factors = [len(get_prime_factors(n)) for n in range(647, 150000)]"
   ]
  },
  {
   "cell_type": "code",
   "execution_count": 41,
   "id": "62c0a19d",
   "metadata": {},
   "outputs": [
    {
     "name": "stdout",
     "output_type": "stream",
     "text": [
      "The number is 134043!\n"
     ]
    }
   ],
   "source": [
    "for i in range(len(num_prime_factors)-4):\n",
    "    how_many_fours = [i for i, val in enumerate(num_prime_factors[i:i+4]) if val == 4]\n",
    "    if len(how_many_fours) == 4:\n",
    "        index = i\n",
    "        break\n",
    "number = [n for n in range(647, 150000)][index]\n",
    "print(\"The number is {}!\".format(number))"
   ]
  },
  {
   "cell_type": "code",
   "execution_count": 42,
   "id": "fa5b504c",
   "metadata": {},
   "outputs": [
    {
     "name": "stdout",
     "output_type": "stream",
     "text": [
      "Number: 134043   |   Factors: [3, 7, 13, 491]\n",
      "Number: 134044   |   Factors: [2, 23, 31, 47]\n",
      "Number: 134045   |   Factors: [5, 17, 19, 83]\n",
      "Number: 134046   |   Factors: [2, 3, 11, 677]\n"
     ]
    }
   ],
   "source": [
    "for i in range(4):\n",
    "    print(\"Number: {}   |   Factors: {}\".format(number+i, get_prime_factors(number+i)))"
   ]
  },
  {
   "cell_type": "markdown",
   "id": "c2ba14c0",
   "metadata": {},
   "source": [
    "---\n",
    "**Problem 48:** Self Powers\n",
    "\n",
    "The series, $1^1 + 2^2 + 3^3 + \\ldots + 10^{10} = 10405071317$.\n",
    "\n",
    "Find the last ten digits of the series, $1^1 + 2^2 + 3^3 + ... + 1000^{1000}$.\n",
    "\n",
    "**Note:** The last ten digits of this sum is the same as the sum of the last ten digits of each element of the sum."
   ]
  },
  {
   "cell_type": "code",
   "execution_count": 9,
   "id": "626f70bb",
   "metadata": {},
   "outputs": [],
   "source": [
    "self_powers = [i**i for i in range(1, 1001)]"
   ]
  },
  {
   "cell_type": "code",
   "execution_count": 13,
   "id": "79ff49b0",
   "metadata": {},
   "outputs": [
    {
     "name": "stdout",
     "output_type": "stream",
     "text": [
      "The final ten digits of the series are: 9110846700\n"
     ]
    }
   ],
   "source": [
    "def last_ten_digits(num):\n",
    "    return num % 10000000000\n",
    "\n",
    "#Get last ten digits of each self power\n",
    "truncated_self_powers = [last_ten_digits(power) for power in self_powers]\n",
    "final_ten_digits = last_ten_digits(sum(truncated_self_powers))\n",
    "print(\"The final ten digits of the series are: {}\".format(final_ten_digits))"
   ]
  },
  {
   "cell_type": "markdown",
   "id": "bb95d27b",
   "metadata": {},
   "source": [
    "---\n",
    "**Problem 49:** Prime Permutations\n",
    "\n",
    "The arithmetic sequence, 1487, 4817, 8147, in which each of the terms increases by 3330, is unusual in two ways:\n",
    "1. Each of the three terms are prime\n",
    "2. Each of the 4-digit numbers are permutations of one another.\n",
    "\n",
    "There are no arithmetic sequences made up of three 1-, 2-, or 3-digit primes, exhibiting this property, but there is one other 4-digit increasing sequence. What 12-digit number do you form by concatenating the three terms in this sequence?"
   ]
  },
  {
   "cell_type": "code",
   "execution_count": 6,
   "id": "2870e741",
   "metadata": {},
   "outputs": [
    {
     "data": {
      "text/plain": [
       "1058"
      ]
     },
     "execution_count": 6,
     "metadata": {},
     "output_type": "execute_result"
    }
   ],
   "source": [
    "def isPrime_slow(n):\n",
    "    if n == 2:\n",
    "        return True\n",
    "    for i in range(2, n):\n",
    "        if n % i == 0:\n",
    "            return False\n",
    "    return True\n",
    "prime_list = [i for i in range(2, 101) if isPrime_slow(i)]\n",
    "\n",
    "#Use the fact that a number is only prime if it is divisible by the primes before it.\n",
    "for number in range(101, 10000):\n",
    "    remainders = [number % prime for prime in prime_list]\n",
    "    if min(remainders) != 0:\n",
    "        prime_list.append(number)\n",
    "four_digit_primes = [prime for prime in prime_list if len(str(prime)) == 4]\n",
    "four_digit_primes = [prime for prime in four_digit_primes if prime not in [1487,4817,8147]]\n",
    "len(four_digit_primes)"
   ]
  },
  {
   "cell_type": "code",
   "execution_count": 7,
   "id": "69fe2270",
   "metadata": {},
   "outputs": [
    {
     "data": {
      "text/plain": [
       "174"
      ]
     },
     "execution_count": 7,
     "metadata": {},
     "output_type": "execute_result"
    }
   ],
   "source": [
    "#Get the digits into the same form.\n",
    "str_primes = [str(num) for num in four_digit_primes]\n",
    "ordered_lists = [[int(num[0]), int(num[1]),int(num[2]),int(num[3])] for num in str_primes]\n",
    "for list_ in ordered_lists:\n",
    "    list_.sort()\n",
    "num_elements = [str(x[0])+str(x[1])+str(x[2])+str(x[3]) for x in ordered_lists]\n",
    "\n",
    "#Get unique digits per number\n",
    "same_digits_dict = {}\n",
    "for unique_ in list(set(num_elements)):\n",
    "    same_digits_dict[unique_] = [i for i, val in enumerate(num_elements) if val == unique_] \n",
    "    \n",
    "#Remove unique strings if there are less than 2 primes with those digits\n",
    "possible_numbers = {}\n",
    "for key in same_digits_dict.keys():\n",
    "    if len(same_digits_dict[key])>2:\n",
    "        possible_numbers[key] = same_digits_dict[key]\n",
    "\n",
    "#Make a list of primes with same digits from the indices obtained above\n",
    "final_list = []\n",
    "for key in possible_numbers.keys():\n",
    "    indices = possible_numbers[key]\n",
    "    primes = [four_digit_primes[i] for i in indices]\n",
    "    final_list.append(primes)\n",
    "len(final_list)"
   ]
  },
  {
   "cell_type": "code",
   "execution_count": 18,
   "id": "4e4970df",
   "metadata": {},
   "outputs": [
    {
     "name": "stdout",
     "output_type": "stream",
     "text": [
      "The adjacent primes are: [2969, 6299, 9629]\n",
      "The concatenated form is 296962999629\n"
     ]
    }
   ],
   "source": [
    "#Search for adjacent primes\n",
    "for prime_nums in final_list:\n",
    "    for i in range(len(prime_nums)-2):\n",
    "        if prime_nums[i+1]-prime_nums[i] == prime_nums[i+2] - prime_nums[i+1]:\n",
    "            answer = prime_nums[i:i+3]\n",
    "            print(\"The adjacent primes are: {}\".format(answer))\n",
    "print(\"The concatenated form is {}{}{}\".format(answer[0], answer[1], answer[2]))"
   ]
  },
  {
   "cell_type": "markdown",
   "id": "d57649dd",
   "metadata": {},
   "source": [
    "**Problem 50:** Consecutive Prime Sums\n",
    "\n",
    "The prime 41, can be written as the sum of six consecutive primes:\n",
    "$$41 = 2 + 3 + 5 + 7 + 11 + 13$$\n",
    "This is the longest sum of consecutive primes that adds to a prime below one-hundred. The longest sum of consecutive primes below one-thousand that adds to a prime, contains 21 terms, and is equal to 953. Which prime, below one-million, can be written as the sum of the most consecutive primes?"
   ]
  },
  {
   "cell_type": "code",
   "execution_count": 38,
   "id": "190b2d6c",
   "metadata": {},
   "outputs": [
    {
     "data": {
      "text/plain": [
       "78498"
      ]
     },
     "execution_count": 38,
     "metadata": {},
     "output_type": "execute_result"
    }
   ],
   "source": [
    "#Get all primes under 1 million\n",
    "n = 1000000\n",
    "\n",
    "is_prime = [False, False] + [True] * (n - 1)\n",
    "primes = [2]\n",
    "\n",
    "for j in range(4, n + 1, 2):\n",
    "    is_prime[j] = False\n",
    "\n",
    "for i in range(3, n + 1, 2):\n",
    "    if is_prime[i]:\n",
    "        primes.append(i)\n",
    "        for j in range(i * i, n + 1, i):\n",
    "            is_prime[j] = False\n",
    "len(primes)"
   ]
  },
  {
   "cell_type": "code",
   "execution_count": null,
   "id": "cce336c2",
   "metadata": {},
   "outputs": [],
   "source": [
    "#We know that there is a prime that is 21 consecutive primes so we only need to check 22 and above."
   ]
  }
 ],
 "metadata": {
  "kernelspec": {
   "display_name": "Python 3",
   "language": "python",
   "name": "python3"
  },
  "language_info": {
   "codemirror_mode": {
    "name": "ipython",
    "version": 3
   },
   "file_extension": ".py",
   "mimetype": "text/x-python",
   "name": "python",
   "nbconvert_exporter": "python",
   "pygments_lexer": "ipython3",
   "version": "3.7.7"
  }
 },
 "nbformat": 4,
 "nbformat_minor": 5
}
