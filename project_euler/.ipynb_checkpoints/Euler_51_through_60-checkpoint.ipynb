{
 "cells": [
  {
   "cell_type": "markdown",
   "id": "9484c97c",
   "metadata": {},
   "source": [
    "## Project Euler \n",
    "#### Questions 51-60\n",
    "\n",
    "Continuing the quest to solve every Euler question!"
   ]
  },
  {
   "cell_type": "markdown",
   "id": "95160bce",
   "metadata": {},
   "source": [
    "---"
   ]
  },
  {
   "cell_type": "markdown",
   "id": "9765f953",
   "metadata": {},
   "source": [
    "**Problem 51:** Prime Digit Replacements **IN PROGRESS**\n",
    "\n",
    "By replacing the 1st digit of the 2-digit number $x3$, it turns out that six of the nine possible values: 13, 23, 43, 53, 73, and 83, are all prime.\n",
    "\n",
    "By replacing the 3rd and 4th digits of $56xy3$ with the same digit, this 5-digit number is the first example having seven primes among the ten generated numbers, yielding the family: 56003, 56113, 56333, 56443, 56663, 56773, and 56993. Consequently 56003, being the first member of this family, is the smallest prime with this property.\n",
    "\n",
    "Find the smallest prime which, by replacing part of the number (not necessarily adjacent digits) with the same digit, is part of an eight prime value family."
   ]
  },
  {
   "cell_type": "code",
   "execution_count": 9,
   "id": "b3747bfe",
   "metadata": {},
   "outputs": [
    {
     "data": {
      "text/plain": [
       "(100003, array([1, 0, 0, 0, 0, 3]))"
      ]
     },
     "execution_count": 9,
     "metadata": {},
     "output_type": "execute_result"
    }
   ],
   "source": [
    "#First grab a bunch of primes, say under 1000000\n",
    "n = 1000000\n",
    "is_prime = [False, False] + [True] * (n - 1)\n",
    "primes = [2]\n",
    "for j in range(4, n + 1, 2):\n",
    "    is_prime[j] = False\n",
    "for i in range(3, n + 1, 2):\n",
    "    if is_prime[i]:\n",
    "        primes.append(i)\n",
    "        for j in range(i * i, n + 1, i):\n",
    "            is_prime[j] = False\n",
    "\n",
    "#Now bound the primes. They must be atleast 56003, let's try all 6 digit numbers\n",
    "import numpy as np\n",
    "relevant_primes = [prime for prime in primes if prime >= 100000 and prime < 1000000]\n",
    "rolodex_numbers = []\n",
    "for prime in relevant_primes:\n",
    "    str_prime = str(prime)\n",
    "    rolodex_numbers.append(np.array([int(str_prime[i]) for i in range(len(str_prime))]))\n",
    "relevant_primes[0], rolodex_numbers[0]"
   ]
  },
  {
   "cell_type": "code",
   "execution_count": 10,
   "id": "3c3a50ee",
   "metadata": {},
   "outputs": [
    {
     "data": {
      "text/plain": [
       "array([ 0,  0,  0,  0, -1, -6])"
      ]
     },
     "execution_count": 10,
     "metadata": {},
     "output_type": "execute_result"
    }
   ],
   "source": [
    "#We're going to use the fact that the difference shows common digits\n",
    "rolodex_numbers[0] - rolodex_numbers[1]"
   ]
  },
  {
   "cell_type": "markdown",
   "id": "1d22fc31",
   "metadata": {},
   "source": [
    "---\n",
    "**Problem 52:** Permuted Multiples\n",
    "\n",
    "It can be seen that the number, 125874, and its double, 251748, contain exactly the same digits, but in a different order.\n",
    "\n",
    "Find the smallest positive integer, $x$, such that $2x$, $3x$, $4x$, $5x$, and $6x$, contain the same digits."
   ]
  },
  {
   "cell_type": "code",
   "execution_count": 52,
   "id": "ed4d71cd",
   "metadata": {},
   "outputs": [
    {
     "name": "stdout",
     "output_type": "stream",
     "text": [
      "The first number with the desired condition:     ~~142857~~\n"
     ]
    }
   ],
   "source": [
    "def breakdown_digits_and_sort(integer):\n",
    "    '''Input an integer and return it's unique digits\n",
    "    '''\n",
    "    digits = [digit for digit in str(integer)]\n",
    "    digits.sort()\n",
    "    return digits\n",
    "    \n",
    "\n",
    "def condition_checker(integer):\n",
    "    '''Check the unique condition using the function above\n",
    "    '''\n",
    "    \n",
    "    str_int = str(integer)\n",
    "    base = breakdown_digits_and_sort(integer)\n",
    "    multiples = [i*integer for i in range(2,7)]\n",
    "    \n",
    "    #If multiple of six has more digits we don't have to check\n",
    "    if multiples[-1] > 10**len(str_int) - 1:\n",
    "        return False\n",
    "    \n",
    "    #Now find any multiples with different digits\n",
    "    else:\n",
    "        multiple_digits = [breakdown_digits_and_sort(x) for x in multiples]\n",
    "        for digits in multiple_digits:\n",
    "            if digits != base:\n",
    "                return False\n",
    "    \n",
    "    return True\n",
    "\n",
    "#check first 1000000\n",
    "for num in range(10, 1000000):\n",
    "    if condition_checker(num):\n",
    "        print(\"The first number with the desired condition:     ~~{}~~\".format(num))\n",
    "        break"
   ]
  },
  {
   "cell_type": "markdown",
   "id": "99067164",
   "metadata": {},
   "source": [
    "---\n",
    "**Problem 53:** Combinatoric Selections (Very Easy)\n",
    "\n",
    "There are exactly ten ways of selecting three from five, $12345$, which in combinatorics we call 5 choose 3. The formula for $n$ choose $r$ is given by:\n",
    "$${n \\choose r} = \\frac{n!}{r! \\cdot (n-r)!}$$\n",
    "The smallest $n$ for which there exists an $r$ such that ${n \\choose r} > 1000000$ is $n=23$ with $r=10$. Find how many pairs of $(n,r)$ exist with $1\\leq n \\leq 100$ such that ${n \\choose r} > 1000000$."
   ]
  },
  {
   "cell_type": "code",
   "execution_count": 62,
   "id": "bb665f93",
   "metadata": {},
   "outputs": [
    {
     "data": {
      "text/plain": [
       "4641"
      ]
     },
     "execution_count": 62,
     "metadata": {},
     "output_type": "execute_result"
    }
   ],
   "source": [
    "#Make a list of all possible pairs bounded by n=23 and 1<r<n\n",
    "pairs = []\n",
    "for n in range(23, 101):\n",
    "    for r in range(2, n):\n",
    "        pairs.append([r, n])\n",
    "len(pairs)"
   ]
  },
  {
   "cell_type": "code",
   "execution_count": 65,
   "id": "7f3ce1b3",
   "metadata": {},
   "outputs": [
    {
     "name": "stdout",
     "output_type": "stream",
     "text": [
      "There are 4075 such pairs satisfying the condition.\n"
     ]
    }
   ],
   "source": [
    "import math\n",
    "def n_choose_r(pair):\n",
    "    '''Combinatorial formula given.'''\n",
    "    return math.factorial(pair[1])/(math.factorial(pair[0]) * math.factorial(pair[1] - pair[0]))\n",
    "choose_pairs = [n_choose_r(pair) for pair in pairs]\n",
    "filtered_combinations = [combinations for combinations in choose_pairs if combinations > 1000000]\n",
    "print(\"There are {} such pairs satisfying the condition.\".format(len(filtered_combinations)))"
   ]
  },
  {
   "cell_type": "markdown",
   "id": "43f56b1a",
   "metadata": {},
   "source": [
    "---\n",
    "**Problem 54:** Poker Hands **IN PROGRESS**\n",
    "\n",
    "Given the 1000 poker hands found in the text file, how many games does player 1 win?"
   ]
  },
  {
   "cell_type": "code",
   "execution_count": 45,
   "id": "2b40134a",
   "metadata": {},
   "outputs": [
    {
     "name": "stdout",
     "output_type": "stream",
     "text": [
      "Number of games: 1000.\n"
     ]
    }
   ],
   "source": [
    "#read in file\n",
    "import numpy as np\n",
    "txt_file = open(\"required_data/poker.txt\", \"rt\") \n",
    "hands_raw = txt_file.read()\n",
    "txt_file.close()\n",
    "hands = hands_raw.split('\\n')[:-1]\n",
    "print(\"Number of games: {}.\".format(len(hands)))"
   ]
  },
  {
   "cell_type": "code",
   "execution_count": 187,
   "id": "e3f206ce",
   "metadata": {},
   "outputs": [],
   "source": [
    "                                                ################\n",
    "                                                #Some functions#\n",
    "                                                ################\n",
    "def make_hands(game):\n",
    "    '''Take raw game and get both players hands.\n",
    "    '''\n",
    "    split_cards = game.split()\n",
    "    player_1 = split_cards[:5]\n",
    "    player_2 = split_cards[5:]\n",
    "    return player_1, player_2\n",
    "\n",
    "order_dict = {str(i): i for i in range(2, 10)}\n",
    "order_dict['T'] = 10\n",
    "order_dict['J'] = 11\n",
    "order_dict['Q'] = 12\n",
    "order_dict['K'] = 13\n",
    "order_dict['A'] = 14\n",
    "\n",
    "hand_scores = {\"High Card\": 0, \"Pair\": 1, \"Two Pair\": 2, \"Three of a Kind\": 3,\n",
    "                  \"Straight\": 4, \"Flush\": 5, \"Full House\": 6, \"Four of a kind\": 7,\n",
    "                  \"Straight Flush\": 8}\n",
    "def evaluate_hand(some_hand):\n",
    "    '''For some hand, evaluate the result.\n",
    "    '''\n",
    "    \n",
    "    #Check for straight flush or flush:\n",
    "    if len(set([card[1] for card in some_hand])) == 1:\n",
    "        no_suit = [order_dict[card[0]] for card in some_hand]\n",
    "        no_suit.sort(reverse = True)\n",
    "        if len(set([val + i for i, val in enumerate(no_suit)])) == 1:\n",
    "            return \"Straight Flush\", no_suit\n",
    "        else:\n",
    "            return \"Flush\", no_suit\n",
    "    \n",
    "    #Check for straight, else high card:\n",
    "    elif len(set([card[0] for card in some_hand])) == 5:\n",
    "        no_suit = [order_dict[card[0]] for card in some_hand]\n",
    "        no_suit.sort(reverse = True)\n",
    "        if len(set([val + i for i, val in enumerate(no_suit)])) == 1:\n",
    "            return \"Straight\", no_suit\n",
    "        else:\n",
    "            return \"High Card\", no_suit\n",
    "    \n",
    "    #Check all pair conditions:\n",
    "    else:\n",
    "        no_suit = [order_dict[card[0]] for card in some_hand]\n",
    "        counts = list(np.unique(no_suit, return_counts = True)[1])\n",
    "        if 4 in counts:\n",
    "            return \"Four of a kind\", np.unique(no_suit, return_counts = True)\n",
    "        elif 3 in counts and 2 in counts:\n",
    "            return \"Full House\", np.unique(no_suit, return_counts = True)\n",
    "        elif 3 in counts:\n",
    "            return \"Three of a Kind\", np.unique(no_suit, return_counts = True)\n",
    "        elif 2 in counts:\n",
    "            if len([x for x in counts if x == 2]) == 2:\n",
    "                return \"Two Pair\", np.unique(no_suit, return_counts = True)\n",
    "            elif len([x for x in counts if x == 2]) == 1:\n",
    "                return \"Pair\", np.unique(no_suit, return_counts = True)\n",
    "    return \"Error\" \n",
    "\n",
    "def evaluate_game(raw_game):\n",
    "    '''Take a raw game and get the winner.\n",
    "    '''\n",
    "    player_1, player_2 = make_hands(raw_game)\n",
    "    player_1_eval, player_2_eval = evaluate_hand(player_1), evaluate_hand(player_2)\n",
    "    hand_score_1, hand_score_2 = hand_scores[player_1_eval[0]], hand_scores[player_2_eval[0]]\n",
    "    x, y = player_1_eval[1], player_2_eval[1]\n",
    "    \n",
    "    #Doesn't go to tie break:\n",
    "    if hand_score_1 != hand_score_2:\n",
    "        if hand_score_1 > hand_score_2:\n",
    "            return \"Player 1 Wins!\"\n",
    "        return \"Player 2 Wins!\"\n",
    "    \n",
    "    #Goes to tie break:\n",
    "    else:\n",
    "            #Straight and Straight Flush\n",
    "        if player_1_eval[0] == \"Straight\" or player_1_eval[0] == \"Straight Flush\":\n",
    "            if x[0] > y[0]:\n",
    "                return \"Player 1 Wins!\"\n",
    "            return \"Player 2 Wins!\"\n",
    "            \n",
    "            #Flush and High Card\n",
    "        if player_1_eval[0] == \"Flush\" or player_1_eval[0] == \"High Card\":\n",
    "            i = 0\n",
    "            while i < 5:\n",
    "                if x[i] != y[i]:\n",
    "                    if x[i] > y[i]:\n",
    "                        return \"Player 1 Wins!\"\n",
    "                    return \"Player 2 Wins!\"\n",
    "                i += 1\n",
    "        \n",
    "        #Four of a Kind\n",
    "        if player_1_eval[0] == \"Four of a Kind\":\n",
    "            if x[0][x[1] == np.max(x[1])][0] > y[0][y[1] == np.max(y[1])][0]:\n",
    "                return \"Player 1 Wins!\"\n",
    "            return \"Player 2 Wins!\"\n",
    "        \n",
    "        #Full House\n",
    "        if player_1_eval[0] == \"Full House\":\n",
    "            if x[0][x[1] == np.max(x[1])][0] > y[0][y[1] == np.max(y[1])][0]:\n",
    "                return \"Player 1 Wins!\"\n",
    "            return \"Player 2 Wins!\"\n",
    "        \n",
    "        #Three of a kind\n",
    "        if player_1_eval[0] == \"Three of a Kind\":\n",
    "            if x[0][x[1] == np.max(x[1])][0] > y[0][y[1] == np.max(y[1])][0]:\n",
    "                return \"Player 1 Wins!\"\n",
    "            return \"Player 2 Wins!\"\n",
    "        \n",
    "        #Two pair\n",
    "        if player_1_eval[0] == \"Two Pair\":\n",
    "            player_1_pairs = x[0][x[1] == max(x[1])]\n",
    "            player_2_pairs = y[0][y[1] == max(y[1])]\n",
    "            if max(player_1_pairs) != max(player_2_pairs):\n",
    "                if max(player_1_pairs) > max(player_2_pairs):\n",
    "                    return \"Player 1 Wins!\"\n",
    "                return \"Player 2 Wins!\"\n",
    "            elif min(player_1_pairs) != min(player_2_pairs):\n",
    "                if min(player_1_pairs) > min(player_2_pairs):\n",
    "                    return \"Player 1 Wins!\"\n",
    "                return \"Player 2 Wins!\"\n",
    "            else:\n",
    "                if x[0][x[1] == 1][0] > y[0][y[1] == 1][0]:\n",
    "                    return \"Player 1 Wins!\"\n",
    "                return \"Player 2 Wins!\"\n",
    "            \n",
    "        #Pair\n",
    "        if player_1_eval[0] == \"Pair\":\n",
    "            player_1_pair = x[0][x[1] == max(x[1])]\n",
    "            player_2_pair = y[0][y[1] == max(y[1])]\n",
    "            if max(player_1_pair) != max(player_2_pair):\n",
    "                if max(player_1_pair) > max(player_2_pair):\n",
    "                    return \"Player 1 Wins!\"\n",
    "                return \"Player 2 Wins!\"\n",
    "            else:\n",
    "                tie_breakers_p1 = list(x[0][x[1] == 1])\n",
    "                tie_breakers_p2 = list(y[0][y[1] == 1])\n",
    "                tie_breakers_p1.sort()\n",
    "                tie_breakers_p2.sort()\n",
    "                i = 0\n",
    "                while i < 3:\n",
    "                    if tie_breakers_p1[i] != tie_breakers_p2[i]:\n",
    "                        if tie_breakers_p1[i] > tie_breakers_p2[i]:\n",
    "                            return \"Player 1 Wins!\"\n",
    "                        return \"Player 2 Wins!\"\n",
    "                    i += 1\n",
    "        return \"Tie\""
   ]
  },
  {
   "cell_type": "code",
   "execution_count": 185,
   "id": "793ed498",
   "metadata": {},
   "outputs": [
    {
     "name": "stdout",
     "output_type": "stream",
     "text": [
      "Player 1 won 377 games of poker!\n"
     ]
    }
   ],
   "source": [
    "results = [evaluate_game(hand) for hand in hands]\n",
    "counts = np.unique(results, return_counts = True)\n",
    "p1_wins = counts[1][counts[0] == 'Player 1 Wins!'][0]\n",
    "print(\"Player 1 won {} games of poker!\".format(p1_wins))"
   ]
  },
  {
   "cell_type": "code",
   "execution_count": 186,
   "id": "537de1ce",
   "metadata": {},
   "outputs": [
    {
     "data": {
      "text/plain": [
       "(array(['Player 1 Wins!', 'Player 2 Wins!'], dtype='<U14'), array([377, 623]))"
      ]
     },
     "execution_count": 186,
     "metadata": {},
     "output_type": "execute_result"
    }
   ],
   "source": [
    "counts"
   ]
  },
  {
   "cell_type": "markdown",
   "id": "4fe6d886",
   "metadata": {},
   "source": [
    "---\n",
    "**Problem 55:** Lychrel numbers\n",
    "\n",
    "How many Lychrel numbers are there below ten-thousand? **Note:** For the purpose of this problem, we assume that after 50 iterations if the sum of a number and its mirror are not a palindrome, then the number is a Lychrel number."
   ]
  },
  {
   "cell_type": "code",
   "execution_count": 2,
   "id": "0a3c7898",
   "metadata": {},
   "outputs": [],
   "source": [
    "def flip_number(num):\n",
    "    '''Flip an integer and return the mirror.'''\n",
    "    return int(str(num)[::-1])"
   ]
  },
  {
   "cell_type": "code",
   "execution_count": 20,
   "id": "a2fd74fb",
   "metadata": {},
   "outputs": [],
   "source": [
    "def is_Lychrel(num):\n",
    "    '''Determine if a number is a Lychrel number checking the sum of the iterative numbers and mirrors.\n",
    "       We limit to 50 iterations.\n",
    "    '''\n",
    "\n",
    "    i = 0\n",
    "    while i < 50:\n",
    "        num = num + flip_number(num)\n",
    "        if num == flip_number(num):\n",
    "            return False\n",
    "        i += 1\n",
    "    return True"
   ]
  },
  {
   "cell_type": "code",
   "execution_count": 21,
   "id": "c349ab57",
   "metadata": {},
   "outputs": [
    {
     "name": "stdout",
     "output_type": "stream",
     "text": [
      "There are 249 Lychrel numbers under 10,000 (Limited to 50 iterations).\n"
     ]
    }
   ],
   "source": [
    "#Now count the Lychrel numbers\n",
    "counter = 0\n",
    "for integer in range(1, 10000):\n",
    "    if is_Lychrel(integer):\n",
    "        counter += 1\n",
    "print(\"There are {} Lychrel numbers under 10,000 (Limited to 50 iterations).\".format(counter))"
   ]
  },
  {
   "cell_type": "markdown",
   "id": "ab70d9f0",
   "metadata": {},
   "source": [
    "---\n",
    "**Problem 56:** Powerful Digit Sums\n",
    "\n",
    "Considering natural numbers of the form, $a^b$, where $a, b < 100$, what is the maximum digital sum?"
   ]
  },
  {
   "cell_type": "code",
   "execution_count": 9,
   "id": "08c42b9c",
   "metadata": {},
   "outputs": [],
   "source": [
    "def digit_sum(integer):\n",
    "    str_int = str(integer)\n",
    "    return sum([int(str_int[i]) for i in range(len(str_int))])"
   ]
  },
  {
   "cell_type": "code",
   "execution_count": 13,
   "id": "f2efc4c8",
   "metadata": {},
   "outputs": [
    {
     "name": "stdout",
     "output_type": "stream",
     "text": [
      "The largest digit sum is 972, when a = 99 and b = 95\n"
     ]
    }
   ],
   "source": [
    "#Define the search space\n",
    "a = [i for i in range(1,100)]\n",
    "b = [i for i in range(1,100)]\n",
    "\n",
    "#Simply iterate\n",
    "largest_sum = 0\n",
    "for base in a:\n",
    "    for power in b:\n",
    "        digit_sum_ = digit_sum(base**power)\n",
    "        if digit_sum_ > largest_sum:\n",
    "            largest_sum = digit_sum_\n",
    "            a_val = base\n",
    "            b_val = power\n",
    "print(\"The largest digit sum is {}, when a = {} and b = {}\".format(largest_sum, a_val, b_val))"
   ]
  },
  {
   "cell_type": "markdown",
   "id": "35b768fa",
   "metadata": {},
   "source": [
    "---\n",
    "**Problem 57:** Square Root Convergence **IN PROGRESS**\n",
    "\n",
    "Consider the sequence:\n",
    "\\begin{align}\n",
    "    1+\\frac{1}{2} &= \\frac{3}{2} = 1.5 \\\\\n",
    "    1+\\frac{1}{2+\\frac{1}{2}} &= \\frac{7}{5} = 1.4\n",
    "\\end{align}\n",
    "Continuing this process, as the \"russian dolls\" of fractions goes to infinity, this number is exactly equal to $\\sqrt{2}$."
   ]
  },
  {
   "cell_type": "markdown",
   "id": "6fa13415",
   "metadata": {},
   "source": [
    "---\n",
    "**Problem 58:** Spiral Primes\n",
    "\n",
    "Starting with 1 and spiraling anticlockwise in the following way, a square spiral with side length 7 is formed.\n",
    "\n",
    "$$37 | 36 | 35 | 34 | 33 | 32 | 31 $$\n",
    "$$38 | 17 | 16 | 15 | 14 | 13 | 30 $$\n",
    "$$39 | 18 | 5.0  | 4.0  |  3.0 | 12 | 29 $$\n",
    "$$40 | 19 | 6.0  | 1.0  |  2.0 | 11 | 28 $$\n",
    "$$41 | 20 | 7.0  | 8.0  |  9.0 | 10 | 27 $$\n",
    "$$42 | 21 | 22 | 23 | 24 | 25 | 26 $$\n",
    "$$43 | 44 | 45 | 46 | 47 | 48 | 49 $$\n",
    "If one complete new layer is wrapped around the spiral above, a square spiral with side length 9 will be formed. If this process is continued, what is the side length of the square spiral for which the ratio of primes along both diagonals first falls below 10%?"
   ]
  },
  {
   "cell_type": "code",
   "execution_count": 1,
   "id": "6c1e6dba",
   "metadata": {},
   "outputs": [],
   "source": [
    "def get_spiral_diagonals(side_length):\n",
    "    '''Create a spiral as above and extract the diagonals.\n",
    "    '''\n",
    "    \n",
    "    number_of_boxes = side_length // 2\n",
    "    numbers = [i for i in range(1, side**2 + 1)]\n",
    "    \n",
    "    \n",
    "    \n",
    "    "
   ]
  },
  {
   "cell_type": "code",
   "execution_count": 2,
   "id": "f12fbf4c",
   "metadata": {},
   "outputs": [
    {
     "data": {
      "text/plain": [
       "1"
      ]
     },
     "execution_count": 2,
     "metadata": {},
     "output_type": "execute_result"
    }
   ],
   "source": [
    "3//2"
   ]
  },
  {
   "cell_type": "code",
   "execution_count": 3,
   "id": "d5068062",
   "metadata": {},
   "outputs": [
    {
     "data": {
      "text/plain": [
       "2"
      ]
     },
     "execution_count": 3,
     "metadata": {},
     "output_type": "execute_result"
    }
   ],
   "source": [
    "5//2"
   ]
  },
  {
   "cell_type": "code",
   "execution_count": null,
   "id": "f1d80ced",
   "metadata": {},
   "outputs": [],
   "source": []
  }
 ],
 "metadata": {
  "kernelspec": {
   "display_name": "Python 3",
   "language": "python",
   "name": "python3"
  },
  "language_info": {
   "codemirror_mode": {
    "name": "ipython",
    "version": 3
   },
   "file_extension": ".py",
   "mimetype": "text/x-python",
   "name": "python",
   "nbconvert_exporter": "python",
   "pygments_lexer": "ipython3",
   "version": "3.7.7"
  }
 },
 "nbformat": 4,
 "nbformat_minor": 5
}
