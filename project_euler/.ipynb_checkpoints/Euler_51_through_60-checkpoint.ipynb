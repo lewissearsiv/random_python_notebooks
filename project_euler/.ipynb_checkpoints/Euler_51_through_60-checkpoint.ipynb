{
 "cells": [
  {
   "cell_type": "markdown",
   "id": "9484c97c",
   "metadata": {},
   "source": [
    "## Project Euler \n",
    "#### Questions 51-60\n",
    "\n",
    "Continuing the quest to solve every Euler question!"
   ]
  },
  {
   "cell_type": "markdown",
   "id": "95160bce",
   "metadata": {},
   "source": [
    "---"
   ]
  },
  {
   "cell_type": "markdown",
   "id": "9765f953",
   "metadata": {},
   "source": [
    "**Problem 51:** Prime Digit Replacements **IN PROGRESS**\n",
    "\n",
    "By replacing the 1st digit of the 2-digit number $x3$, it turns out that six of the nine possible values: 13, 23, 43, 53, 73, and 83, are all prime.\n",
    "\n",
    "By replacing the 3rd and 4th digits of $56xy3$ with the same digit, this 5-digit number is the first example having seven primes among the ten generated numbers, yielding the family: 56003, 56113, 56333, 56443, 56663, 56773, and 56993. Consequently 56003, being the first member of this family, is the smallest prime with this property.\n",
    "\n",
    "Find the smallest prime which, by replacing part of the number (not necessarily adjacent digits) with the same digit, is part of an eight prime value family."
   ]
  },
  {
   "cell_type": "code",
   "execution_count": null,
   "id": "b3747bfe",
   "metadata": {},
   "outputs": [],
   "source": []
  },
  {
   "cell_type": "code",
   "execution_count": null,
   "id": "6d4984ab",
   "metadata": {},
   "outputs": [],
   "source": []
  },
  {
   "cell_type": "markdown",
   "id": "1d22fc31",
   "metadata": {},
   "source": [
    "---\n",
    "**Problem 52:** Permuted Multiples\n",
    "\n",
    "It can be seen that the number, 125874, and its double, 251748, contain exactly the same digits, but in a different order.\n",
    "\n",
    "Find the smallest positive integer, $x$, such that $2x$, $3x$, $4x$, $5x$, and $6x$, contain the same digits."
   ]
  },
  {
   "cell_type": "code",
   "execution_count": 52,
   "id": "ed4d71cd",
   "metadata": {},
   "outputs": [
    {
     "name": "stdout",
     "output_type": "stream",
     "text": [
      "The first number with the desired condition:     ~~142857~~\n"
     ]
    }
   ],
   "source": [
    "def breakdown_digits_and_sort(integer):\n",
    "    '''Input an integer and return it's unique digits\n",
    "    '''\n",
    "    digits = [digit for digit in str(integer)]\n",
    "    digits.sort()\n",
    "    return digits\n",
    "    \n",
    "\n",
    "def condition_checker(integer):\n",
    "    '''Check the unique condition using the function above\n",
    "    '''\n",
    "    \n",
    "    str_int = str(integer)\n",
    "    base = breakdown_digits_and_sort(integer)\n",
    "    multiples = [i*integer for i in range(2,7)]\n",
    "    \n",
    "    #If multiple of six has more digits we don't have to check\n",
    "    if multiples[-1] > 10**len(str_int) - 1:\n",
    "        return False\n",
    "    \n",
    "    #Now find any multiples with different digits\n",
    "    else:\n",
    "        multiple_digits = [breakdown_digits_and_sort(x) for x in multiples]\n",
    "        for digits in multiple_digits:\n",
    "            if digits != base:\n",
    "                return False\n",
    "    \n",
    "    return True\n",
    "\n",
    "#check first 1000000\n",
    "for num in range(10, 1000000):\n",
    "    if condition_checker(num):\n",
    "        print(\"The first number with the desired condition:     ~~{}~~\".format(num))\n",
    "        break"
   ]
  },
  {
   "cell_type": "markdown",
   "id": "99067164",
   "metadata": {},
   "source": [
    "---\n",
    "**Problem 53:** Combinatoric Selections (Very Easy)\n",
    "\n",
    "There are exactly ten ways of selecting three from five, $12345$, which in combinatorics we call 5 choose 3. The formula for $n$ choose $r$ is given by:\n",
    "$${n \\choose r} = \\frac{n!}{r! \\cdot (n-r)!}$$\n",
    "The smallest $n$ for which there exists an $r$ such that ${n \\choose r} > 1000000$ is $n=23$ with $r=10$. Find how many pairs of $(n,r)$ exist with $1\\leq n \\leq 100$ such that ${n \\choose r} > 1000000$."
   ]
  },
  {
   "cell_type": "code",
   "execution_count": 62,
   "id": "bb665f93",
   "metadata": {},
   "outputs": [
    {
     "data": {
      "text/plain": [
       "4641"
      ]
     },
     "execution_count": 62,
     "metadata": {},
     "output_type": "execute_result"
    }
   ],
   "source": [
    "#Make a list of all possible pairs bounded by n=23 and 1<r<n\n",
    "pairs = []\n",
    "for n in range(23, 101):\n",
    "    for r in range(2, n):\n",
    "        pairs.append([r, n])\n",
    "len(pairs)"
   ]
  },
  {
   "cell_type": "code",
   "execution_count": 65,
   "id": "7f3ce1b3",
   "metadata": {},
   "outputs": [
    {
     "name": "stdout",
     "output_type": "stream",
     "text": [
      "There are 4075 such pairs satisfying the condition.\n"
     ]
    }
   ],
   "source": [
    "import math\n",
    "def n_choose_r(pair):\n",
    "    '''Combinatorial formula given.'''\n",
    "    return math.factorial(pair[1])/(math.factorial(pair[0]) * math.factorial(pair[1] - pair[0]))\n",
    "choose_pairs = [n_choose_r(pair) for pair in pairs]\n",
    "filtered_combinations = [combinations for combinations in choose_pairs if combinations > 1000000]\n",
    "print(\"There are {} such pairs satisfying the condition.\".format(len(filtered_combinations)))"
   ]
  },
  {
   "cell_type": "markdown",
   "id": "43f56b1a",
   "metadata": {},
   "source": [
    "---\n",
    "**Problem 53:** Poker Hands\n",
    "\n",
    "Given the 1000 poker hands found in the text file, how many games does player 1 win?"
   ]
  },
  {
   "cell_type": "code",
   "execution_count": 45,
   "id": "2b40134a",
   "metadata": {},
   "outputs": [
    {
     "name": "stdout",
     "output_type": "stream",
     "text": [
      "Number of games: 1000.\n"
     ]
    }
   ],
   "source": [
    "#read in file\n",
    "import numpy as np\n",
    "txt_file = open(\"required_data/poker.txt\", \"rt\") \n",
    "hands_raw = txt_file.read()\n",
    "txt_file.close()\n",
    "hands = hands_raw.split('\\n')[:-1]\n",
    "print(\"Number of games: {}.\".format(len(hands)))"
   ]
  },
  {
   "cell_type": "code",
   "execution_count": 187,
   "id": "e3f206ce",
   "metadata": {},
   "outputs": [],
   "source": [
    "                                                ################\n",
    "                                                #Some functions#\n",
    "                                                ################\n",
    "def make_hands(game):\n",
    "    '''Take raw game and get both players hands.\n",
    "    '''\n",
    "    split_cards = game.split()\n",
    "    player_1 = split_cards[:5]\n",
    "    player_2 = split_cards[5:]\n",
    "    return player_1, player_2\n",
    "\n",
    "order_dict = {str(i): i for i in range(2, 10)}\n",
    "order_dict['T'] = 10\n",
    "order_dict['J'] = 11\n",
    "order_dict['Q'] = 12\n",
    "order_dict['K'] = 13\n",
    "order_dict['A'] = 14\n",
    "\n",
    "hand_scores = {\"High Card\": 0, \"Pair\": 1, \"Two Pair\": 2, \"Three of a Kind\": 3,\n",
    "                  \"Straight\": 4, \"Flush\": 5, \"Full House\": 6, \"Four of a kind\": 7,\n",
    "                  \"Straight Flush\": 8}\n",
    "def evaluate_hand(some_hand):\n",
    "    '''For some hand, evaluate the result.\n",
    "    '''\n",
    "    \n",
    "    #Check for straight flush or flush:\n",
    "    if len(set([card[1] for card in some_hand])) == 1:\n",
    "        no_suit = [order_dict[card[0]] for card in some_hand]\n",
    "        no_suit.sort(reverse = True)\n",
    "        if len(set([val + i for i, val in enumerate(no_suit)])) == 1:\n",
    "            return \"Straight Flush\", no_suit\n",
    "        else:\n",
    "            return \"Flush\", no_suit\n",
    "    \n",
    "    #Check for straight, else high card:\n",
    "    elif len(set([card[0] for card in some_hand])) == 5:\n",
    "        no_suit = [order_dict[card[0]] for card in some_hand]\n",
    "        no_suit.sort(reverse = True)\n",
    "        if len(set([val + i for i, val in enumerate(no_suit)])) == 1:\n",
    "            return \"Straight\", no_suit\n",
    "        else:\n",
    "            return \"High Card\", no_suit\n",
    "    \n",
    "    #Check all pair conditions:\n",
    "    else:\n",
    "        no_suit = [order_dict[card[0]] for card in some_hand]\n",
    "        counts = list(np.unique(no_suit, return_counts = True)[1])\n",
    "        if 4 in counts:\n",
    "            return \"Four of a kind\", np.unique(no_suit, return_counts = True)\n",
    "        elif 3 in counts and 2 in counts:\n",
    "            return \"Full House\", np.unique(no_suit, return_counts = True)\n",
    "        elif 3 in counts:\n",
    "            return \"Three of a Kind\", np.unique(no_suit, return_counts = True)\n",
    "        elif 2 in counts:\n",
    "            if len([x for x in counts if x == 2]) == 2:\n",
    "                return \"Two Pair\", np.unique(no_suit, return_counts = True)\n",
    "            elif len([x for x in counts if x == 2]) == 1:\n",
    "                return \"Pair\", np.unique(no_suit, return_counts = True)\n",
    "    return \"Error\" \n",
    "\n",
    "def evaluate_game(raw_game):\n",
    "    '''Take a raw game and get the winner.\n",
    "    '''\n",
    "    player_1, player_2 = make_hands(raw_game)\n",
    "    player_1_eval, player_2_eval = evaluate_hand(player_1), evaluate_hand(player_2)\n",
    "    hand_score_1, hand_score_2 = hand_scores[player_1_eval[0]], hand_scores[player_2_eval[0]]\n",
    "    x, y = player_1_eval[1], player_2_eval[1]\n",
    "    \n",
    "    #Doesn't go to tie break:\n",
    "    if hand_score_1 != hand_score_2:\n",
    "        if hand_score_1 > hand_score_2:\n",
    "            return \"Player 1 Wins!\"\n",
    "        return \"Player 2 Wins!\"\n",
    "    \n",
    "    #Goes to tie break:\n",
    "    else:\n",
    "            #Straight and Straight Flush\n",
    "        if player_1_eval[0] == \"Straight\" or player_1_eval[0] == \"Straight Flush\":\n",
    "            if x[0] > y[0]:\n",
    "                return \"Player 1 Wins!\"\n",
    "            return \"Player 2 Wins!\"\n",
    "            \n",
    "            #Flush and High Card\n",
    "        if player_1_eval[0] == \"Flush\" or player_1_eval[0] == \"High Card\":\n",
    "            i = 0\n",
    "            while i < 5:\n",
    "                if x[i] != y[i]:\n",
    "                    if x[i] > y[i]:\n",
    "                        return \"Player 1 Wins!\"\n",
    "                    return \"Player 2 Wins!\"\n",
    "                i += 1\n",
    "        \n",
    "        #Four of a Kind\n",
    "        if player_1_eval[0] == \"Four of a Kind\":\n",
    "            if x[0][x[1] == np.max(x[1])][0] > y[0][y[1] == np.max(y[1])][0]:\n",
    "                return \"Player 1 Wins!\"\n",
    "            return \"Player 2 Wins!\"\n",
    "        \n",
    "        #Full House\n",
    "        if player_1_eval[0] == \"Full House\":\n",
    "            if x[0][x[1] == np.max(x[1])][0] > y[0][y[1] == np.max(y[1])][0]:\n",
    "                return \"Player 1 Wins!\"\n",
    "            return \"Player 2 Wins!\"\n",
    "        \n",
    "        #Three of a kind\n",
    "        if player_1_eval[0] == \"Three of a Kind\":\n",
    "            if x[0][x[1] == np.max(x[1])][0] > y[0][y[1] == np.max(y[1])][0]:\n",
    "                return \"Player 1 Wins!\"\n",
    "            return \"Player 2 Wins!\"\n",
    "        \n",
    "        #Two pair\n",
    "        if player_1_eval[0] == \"Two Pair\":\n",
    "            player_1_pairs = x[0][x[1] == max(x[1])]\n",
    "            player_2_pairs = y[0][y[1] == max(y[1])]\n",
    "            if max(player_1_pairs) != max(player_2_pairs):\n",
    "                if max(player_1_pairs) > max(player_2_pairs):\n",
    "                    return \"Player 1 Wins!\"\n",
    "                return \"Player 2 Wins!\"\n",
    "            elif min(player_1_pairs) != min(player_2_pairs):\n",
    "                if min(player_1_pairs) > min(player_2_pairs):\n",
    "                    return \"Player 1 Wins!\"\n",
    "                return \"Player 2 Wins!\"\n",
    "            else:\n",
    "                if x[0][x[1] == 1][0] > y[0][y[1] == 1][0]:\n",
    "                    return \"Player 1 Wins!\"\n",
    "                return \"Player 2 Wins!\"\n",
    "            \n",
    "        #Pair\n",
    "        if player_1_eval[0] == \"Pair\":\n",
    "            player_1_pair = x[0][x[1] == max(x[1])]\n",
    "            player_2_pair = y[0][y[1] == max(y[1])]\n",
    "            if max(player_1_pair) != max(player_2_pair):\n",
    "                if max(player_1_pair) > max(player_2_pair):\n",
    "                    return \"Player 1 Wins!\"\n",
    "                return \"Player 2 Wins!\"\n",
    "            else:\n",
    "                tie_breakers_p1 = list(x[0][x[1] == 1])\n",
    "                tie_breakers_p2 = list(y[0][y[1] == 1])\n",
    "                tie_breakers_p1.sort()\n",
    "                tie_breakers_p2.sort()\n",
    "                i = 0\n",
    "                while i < 3:\n",
    "                    if tie_breakers_p1[i] != tie_breakers_p2[i]:\n",
    "                        if tie_breakers_p1[i] > tie_breakers_p2[i]:\n",
    "                            return \"Player 1 Wins!\"\n",
    "                        return \"Player 2 Wins!\"\n",
    "                    i += 1\n",
    "        return \"Tie\""
   ]
  },
  {
   "cell_type": "code",
   "execution_count": 185,
   "id": "793ed498",
   "metadata": {},
   "outputs": [
    {
     "name": "stdout",
     "output_type": "stream",
     "text": [
      "Player 1 won 377 games of poker!\n"
     ]
    }
   ],
   "source": [
    "results = [evaluate_game(hand) for hand in hands]\n",
    "counts = np.unique(results, return_counts = True)\n",
    "p1_wins = counts[1][counts[0] == 'Player 1 Wins!'][0]\n",
    "print(\"Player 1 won {} games of poker!\".format(p1_wins))"
   ]
  },
  {
   "cell_type": "code",
   "execution_count": 186,
   "id": "537de1ce",
   "metadata": {},
   "outputs": [
    {
     "data": {
      "text/plain": [
       "(array(['Player 1 Wins!', 'Player 2 Wins!'], dtype='<U14'), array([377, 623]))"
      ]
     },
     "execution_count": 186,
     "metadata": {},
     "output_type": "execute_result"
    }
   ],
   "source": [
    "counts"
   ]
  },
  {
   "cell_type": "code",
   "execution_count": 96,
   "id": "aa1e9065",
   "metadata": {},
   "outputs": [
    {
     "data": {
      "text/plain": [
       "{'4', '8', '9', 'K', 'T'}"
      ]
     },
     "execution_count": 96,
     "metadata": {},
     "output_type": "execute_result"
    }
   ],
   "source": [
    "set([card[0] for card in sample_hand])"
   ]
  },
  {
   "cell_type": "code",
   "execution_count": 82,
   "id": "f52af474",
   "metadata": {},
   "outputs": [
    {
     "data": {
      "text/plain": [
       "13"
      ]
     },
     "execution_count": 82,
     "metadata": {},
     "output_type": "execute_result"
    }
   ],
   "source": [
    "no_suit = [order_dict[card[0]] for card in sample_hand]\n",
    "no_suit.sort(reverse = True)\n",
    "no_suit[0]"
   ]
  },
  {
   "cell_type": "code",
   "execution_count": 40,
   "id": "d9bdf492",
   "metadata": {},
   "outputs": [
    {
     "data": {
      "text/plain": [
       "[13, 11, 11, 11, 8]"
      ]
     },
     "execution_count": 40,
     "metadata": {},
     "output_type": "execute_result"
    }
   ],
   "source": [
    "[val + i for i, val in enumerate(no_suit)]"
   ]
  },
  {
   "cell_type": "code",
   "execution_count": 130,
   "id": "5c2d0497",
   "metadata": {},
   "outputs": [],
   "source": [
    "y = np.unique([12, 12, 3, 3, 2], return_counts = True)"
   ]
  },
  {
   "cell_type": "code",
   "execution_count": 131,
   "id": "b63375d9",
   "metadata": {},
   "outputs": [
    {
     "data": {
      "text/plain": [
       "3"
      ]
     },
     "execution_count": 131,
     "metadata": {},
     "output_type": "execute_result"
    }
   ],
   "source": [
    "y[0][y[1] == np.max(y[1])][0]"
   ]
  },
  {
   "cell_type": "code",
   "execution_count": 139,
   "id": "371d928c",
   "metadata": {},
   "outputs": [
    {
     "data": {
      "text/plain": [
       "3"
      ]
     },
     "execution_count": 139,
     "metadata": {},
     "output_type": "execute_result"
    }
   ],
   "source": [
    "y[0][y[1][y[1] == 1]][0]"
   ]
  },
  {
   "cell_type": "code",
   "execution_count": 137,
   "id": "043cdb4c",
   "metadata": {},
   "outputs": [
    {
     "data": {
      "text/plain": [
       "12"
      ]
     },
     "execution_count": 137,
     "metadata": {},
     "output_type": "execute_result"
    }
   ],
   "source": [
    "max(y[0][y[1] == max(y[1])])"
   ]
  },
  {
   "cell_type": "code",
   "execution_count": null,
   "id": "bb0f1ed1",
   "metadata": {},
   "outputs": [],
   "source": []
  }
 ],
 "metadata": {
  "kernelspec": {
   "display_name": "Python 3",
   "language": "python",
   "name": "python3"
  },
  "language_info": {
   "codemirror_mode": {
    "name": "ipython",
    "version": 3
   },
   "file_extension": ".py",
   "mimetype": "text/x-python",
   "name": "python",
   "nbconvert_exporter": "python",
   "pygments_lexer": "ipython3",
   "version": "3.7.7"
  }
 },
 "nbformat": 4,
 "nbformat_minor": 5
}
