{
 "cells": [
  {
   "cell_type": "markdown",
   "id": "9484c97c",
   "metadata": {},
   "source": [
    "## Project Euler \n",
    "#### Questions 51-60\n",
    "\n",
    "Continuing the quest to solve every Euler question!"
   ]
  },
  {
   "cell_type": "markdown",
   "id": "95160bce",
   "metadata": {},
   "source": [
    "---"
   ]
  },
  {
   "cell_type": "markdown",
   "id": "9765f953",
   "metadata": {},
   "source": [
    "**Problem 51:** Prime Digit Replacements **IN PROGRESS**\n",
    "\n",
    "By replacing the 1st digit of the 2-digit number $x3$, it turns out that six of the nine possible values: 13, 23, 43, 53, 73, and 83, are all prime.\n",
    "\n",
    "By replacing the 3rd and 4th digits of $56xy3$ with the same digit, this 5-digit number is the first example having seven primes among the ten generated numbers, yielding the family: 56003, 56113, 56333, 56443, 56663, 56773, and 56993. Consequently 56003, being the first member of this family, is the smallest prime with this property.\n",
    "\n",
    "Find the smallest prime which, by replacing part of the number (not necessarily adjacent digits) with the same digit, is part of an eight prime value family."
   ]
  },
  {
   "cell_type": "code",
   "execution_count": null,
   "id": "b3747bfe",
   "metadata": {},
   "outputs": [],
   "source": []
  },
  {
   "cell_type": "code",
   "execution_count": null,
   "id": "6d4984ab",
   "metadata": {},
   "outputs": [],
   "source": []
  },
  {
   "cell_type": "markdown",
   "id": "1d22fc31",
   "metadata": {},
   "source": [
    "---\n",
    "**Problem 52:** Permuted Multiples\n",
    "\n",
    "It can be seen that the number, 125874, and its double, 251748, contain exactly the same digits, but in a different order.\n",
    "\n",
    "Find the smallest positive integer, $x$, such that $2x$, $3x$, $4x$, $5x$, and $6x$, contain the same digits."
   ]
  },
  {
   "cell_type": "code",
   "execution_count": 52,
   "id": "ed4d71cd",
   "metadata": {},
   "outputs": [
    {
     "name": "stdout",
     "output_type": "stream",
     "text": [
      "The first number with the desired condition:     ~~142857~~\n"
     ]
    }
   ],
   "source": [
    "def breakdown_digits_and_sort(integer):\n",
    "    '''Input an integer and return it's unique digits\n",
    "    '''\n",
    "    digits = [digit for digit in str(integer)]\n",
    "    digits.sort()\n",
    "    return digits\n",
    "    \n",
    "\n",
    "def condition_checker(integer):\n",
    "    '''Check the unique condition using the function above\n",
    "    '''\n",
    "    \n",
    "    str_int = str(integer)\n",
    "    base = breakdown_digits_and_sort(integer)\n",
    "    multiples = [i*integer for i in range(2,7)]\n",
    "    \n",
    "    #If multiple of six has more digits we don't have to check\n",
    "    if multiples[-1] > 10**len(str_int) - 1:\n",
    "        return False\n",
    "    \n",
    "    #Now find any multiples with different digits\n",
    "    else:\n",
    "        multiple_digits = [breakdown_digits_and_sort(x) for x in multiples]\n",
    "        for digits in multiple_digits:\n",
    "            if digits != base:\n",
    "                return False\n",
    "    \n",
    "    return True\n",
    "\n",
    "#check first 1000000\n",
    "for num in range(10, 1000000):\n",
    "    if condition_checker(num):\n",
    "        print(\"The first number with the desired condition:     ~~{}~~\".format(num))\n",
    "        break"
   ]
  },
  {
   "cell_type": "markdown",
   "id": "99067164",
   "metadata": {},
   "source": [
    "---\n",
    "**Problem 53:** Combinatoric Selections (Very Easy)\n",
    "\n",
    "There are exactly ten ways of selecting three from five, $12345$, which in combinatorics we call 5 choose 3. The formula for $n$ choose $r$ is given by:\n",
    "$${n \\choose r} = \\frac{n!}{r! \\cdot (n-r)!}$$\n",
    "The smallest $n$ for which there exists an $r$ such that ${n \\choose r} > 1000000$ is $n=23$ with $r=10$. Find how many pairs of $(n,r)$ exist with $1\\leq n \\leq 100$ such that ${n \\choose r} > 1000000$."
   ]
  },
  {
   "cell_type": "code",
   "execution_count": 62,
   "id": "bb665f93",
   "metadata": {},
   "outputs": [
    {
     "data": {
      "text/plain": [
       "4641"
      ]
     },
     "execution_count": 62,
     "metadata": {},
     "output_type": "execute_result"
    }
   ],
   "source": [
    "#Make a list of all possible pairs bounded by n=23 and 1<r<n\n",
    "pairs = []\n",
    "for n in range(23, 101):\n",
    "    for r in range(2, n):\n",
    "        pairs.append([r, n])\n",
    "len(pairs)"
   ]
  },
  {
   "cell_type": "code",
   "execution_count": 65,
   "id": "7f3ce1b3",
   "metadata": {},
   "outputs": [
    {
     "name": "stdout",
     "output_type": "stream",
     "text": [
      "There are 4075 such pairs satisfying the condition.\n"
     ]
    }
   ],
   "source": [
    "import math\n",
    "def n_choose_r(pair):\n",
    "    '''Combinatorial formula given.'''\n",
    "    return math.factorial(pair[1])/(math.factorial(pair[0]) * math.factorial(pair[1] - pair[0]))\n",
    "choose_pairs = [n_choose_r(pair) for pair in pairs]\n",
    "filtered_combinations = [combinations for combinations in choose_pairs if combinations > 1000000]\n",
    "print(\"There are {} such pairs satisfying the condition.\".format(len(filtered_combinations)))"
   ]
  },
  {
   "cell_type": "markdown",
   "id": "43f56b1a",
   "metadata": {},
   "source": [
    "---\n",
    "**Problem 53:** Poker Hands"
   ]
  },
  {
   "cell_type": "code",
   "execution_count": null,
   "id": "2b40134a",
   "metadata": {},
   "outputs": [],
   "source": []
  }
 ],
 "metadata": {
  "kernelspec": {
   "display_name": "Python 3",
   "language": "python",
   "name": "python3"
  },
  "language_info": {
   "codemirror_mode": {
    "name": "ipython",
    "version": 3
   },
   "file_extension": ".py",
   "mimetype": "text/x-python",
   "name": "python",
   "nbconvert_exporter": "python",
   "pygments_lexer": "ipython3",
   "version": "3.7.7"
  }
 },
 "nbformat": 4,
 "nbformat_minor": 5
}
