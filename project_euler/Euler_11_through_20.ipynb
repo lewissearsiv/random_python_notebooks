{
 "cells": [
  {
   "cell_type": "markdown",
   "metadata": {},
   "source": [
    " ## Project Euler \n",
    " #### Questions 11-20\n",
    " \n",
    "Project Euler is a website providing problems that are mathematical in nature, but require coding to solve. The solutions do not require any packages and are more based on mathematical strategy. They start off pretty easy and become complicated quickly.\n",
    "\n",
    "-----"
   ]
  },
  {
   "cell_type": "code",
   "execution_count": 1,
   "metadata": {},
   "outputs": [],
   "source": [
    "#We may want to use this a good deal\n",
    "def is_prime(number):\n",
    "    for i in range(2, number//2 + 1):\n",
    "        if number % i == 0:\n",
    "            return False\n",
    "    return True"
   ]
  },
  {
   "cell_type": "markdown",
   "metadata": {},
   "source": [
    "---\n",
    "**Question 11:** What is the greatest product of four adjacent numbers in the same direction (up, down, left, right, or diagonally) in the 20×20 grid?"
   ]
  },
  {
   "cell_type": "code",
   "execution_count": 2,
   "metadata": {},
   "outputs": [],
   "source": [
    "#A little formatting from the website\n",
    "website_string = \"08 02 22 97 38 15 00 40 00 75 04 05 07 78 52 12 50 77 91 08 49 49 99 40 17 81 18 57 60 87 17 40 98 43 69 48 04 56 62 00 81 49 31 73 55 79 14 29 93 71 40 67 53 88 30 03 49 13 36 65 52 70 95 23 04 60 11 42 69 24 68 56 01 32 56 71 37 02 36 91 22 31 16 71 51 67 63 89 41 92 36 54 22 40 40 28 66 33 13 80 24 47 32 60 99 03 45 02 44 75 33 53 78 36 84 20 35 17 12 50 32 98 81 28 64 23 67 10 26 38 40 67 59 54 70 66 18 38 64 70 67 26 20 68 02 62 12 20 95 63 94 39 63 08 40 91 66 49 94 21 24 55 58 05 66 73 99 26 97 17 78 78 96 83 14 88 34 89 63 72 21 36 23 09 75 00 76 44 20 45 35 14 00 61 33 97 34 31 33 95 78 17 53 28 22 75 31 67 15 94 03 80 04 62 16 14 09 53 56 92 16 39 05 42 96 35 31 47 55 58 88 24 00 17 54 24 36 29 85 57 86 56 00 48 35 71 89 07 05 44 44 37 44 60 21 58 51 54 17 58 19 80 81 68 05 94 47 69 28 73 92 13 86 52 17 77 04 89 55 40 04 52 08 83 97 35 99 16 07 97 57 32 16 26 26 79 33 27 98 66 88 36 68 87 57 62 20 72 03 46 33 67 46 55 12 32 63 93 53 69 04 42 16 73 38 25 39 11 24 94 72 18 08 46 29 32 40 62 76 36 20 69 36 41 72 30 23 88 34 62 99 69 82 67 59 85 74 04 36 16 20 73 35 29 78 31 90 01 74 31 49 71 48 86 81 16 23 57 05 54 01 70 54 71 83 51 54 69 16 92 33 48 61 43 52 01 89 19 67 48\" \n",
    "website_list = website_string.split()\n",
    "int_list = [int(x) for x in website_list]\n",
    "master_grid = []\n",
    "for i in range(20):\n",
    "    master_grid.append(int_list[20 * i:20 * i+20])"
   ]
  },
  {
   "cell_type": "code",
   "execution_count": 3,
   "metadata": {},
   "outputs": [
    {
     "data": {
      "text/plain": [
       "(20, 20)"
      ]
     },
     "execution_count": 3,
     "metadata": {},
     "output_type": "execute_result"
    }
   ],
   "source": [
    "#Check shape:\n",
    "len(master_grid), len(master_grid[0])"
   ]
  },
  {
   "cell_type": "code",
   "execution_count": 4,
   "metadata": {},
   "outputs": [],
   "source": [
    "def get_diagonals(grid):\n",
    "    '''This function take a square grid, formatted as a list of integer lists,\n",
    "    returning lists corresponding to all all diagonals'''\n",
    "    \n",
    "    dim = len(grid)\n",
    "    diagonals = []\n",
    "    for i in range(dim):\n",
    "        \n",
    "        #Long diagonals\n",
    "        if i == 0:\n",
    "            long_diagonal_1 = []\n",
    "            long_diagonal_2 = []\n",
    "            for j in range(dim):\n",
    "                long_diagonal_1.append(grid[j][j])\n",
    "                long_diagonal_2.append(grid[j][dim - (j+1)])\n",
    "            diagonals.append(long_diagonal_1)\n",
    "            diagonals.append(long_diagonal_2)\n",
    "        \n",
    "        #Other diagonals\n",
    "        else:\n",
    "            from_top_diagonal = []\n",
    "            from_top_diagonal_inv = []\n",
    "            from_side_diagonal = []\n",
    "            from_side_diagonal_inv = []\n",
    "            for j in range(dim-i):\n",
    "                \n",
    "                #These two start from the top (opposites)\n",
    "                from_top_diagonal.append(grid[j][i + j])\n",
    "                from_top_diagonal_inv.append(grid[j][dim - (i + j + 1)])\n",
    "                \n",
    "                #These two start from opposite sides\n",
    "                from_side_diagonal.append(grid[i + j][j])\n",
    "                from_side_diagonal_inv.append(grid[i + j][dim - (j + 1)])\n",
    "                \n",
    "                \n",
    "            #In this one loop add four diagonals\n",
    "            diagonals.append(from_top_diagonal)\n",
    "            diagonals.append(from_top_diagonal_inv)\n",
    "            diagonals.append(from_side_diagonal)\n",
    "            diagonals.append(from_side_diagonal_inv)\n",
    "    \n",
    "    return diagonals\n",
    "\n",
    "\n",
    "def greatest_product_of_grid(grid, n):\n",
    "    '''Input a list of integer valued lists that corresponds to a square grid and some\n",
    "    some nonzero integer n bounded by the shape of the grid. This function calculates the \n",
    "    maximum product of adjacent values considering vertical, horizontal, and diagonal combinations.\n",
    "    \n",
    "    This abstracts the original problem a little bit because we can give any number, not just 4.\n",
    "    '''\n",
    "    \n",
    "    #Find all row products\n",
    "    row_products = []\n",
    "    for row in grid:\n",
    "        for i in range(len(row) - (n-1)):\n",
    "            product = 1\n",
    "            for j in range(n):\n",
    "                product *= row[i+j]\n",
    "            row_products.append(product)\n",
    "    \n",
    "    #Find all column products\n",
    "    col_products = []\n",
    "    for i in range(len(grid[0])):\n",
    "        column = [row[i] for row in grid]\n",
    "        for j in range(len(column) - (n-1)):\n",
    "            product = 1\n",
    "            for k in range(n):\n",
    "                product *= column[j+k]\n",
    "            col_products.append(product)\n",
    "            \n",
    "    #Find all diagonals. Use the get diagonals function from above\n",
    "    all_diagonals = get_diagonals(grid)\n",
    "    diagonals_in_play = [diagonal for diagonal in all_diagonals if len(diagonal) >= n]\n",
    "    diagonal_products = []\n",
    "    for diagonal in diagonals_in_play:\n",
    "        for i in range(len(diagonal) - (n-1)):\n",
    "            product = 1\n",
    "            for j in range(n):\n",
    "                product *= diagonal[i+j]\n",
    "            diagonal_products.append(product)        \n",
    "    \n",
    "    return max([max(row_products),max(col_products),max(diagonal_products)])"
   ]
  },
  {
   "cell_type": "code",
   "execution_count": 5,
   "metadata": {},
   "outputs": [
    {
     "data": {
      "text/plain": [
       "70600674"
      ]
     },
     "execution_count": 5,
     "metadata": {},
     "output_type": "execute_result"
    }
   ],
   "source": [
    "greatest_product_of_grid(master_grid, 4)"
   ]
  },
  {
   "cell_type": "markdown",
   "metadata": {},
   "source": [
    "---\n",
    "**Question 12:** The sequence of triangle (or diagonal) numbers is generated by adding the natural numbers. So the 7th triangle number would be 1 + 2 + 3 + 4 + 5 + 6 + 7 = 28. The first ten terms would be: 1, 3, 6, 10, 15, 21, 28, 36, 45, and 55.\n",
    "\n",
    "We can show that 28 is the first triangle number to have over five divisors. What is the value of the first triangle number to have over five hundred divisors?"
   ]
  },
  {
   "cell_type": "code",
   "execution_count": 6,
   "metadata": {},
   "outputs": [],
   "source": [
    "#Create a list of primes for a shorter search!\n",
    "#Prime factorization of all numbers will definitely help us search faster\n",
    "prime_list = [2]\n",
    "number = 3\n",
    "while len(prime_list)<10000:\n",
    "    if is_prime(number):\n",
    "        prime_list.append(number)\n",
    "    \n",
    "    #remember we can skip even numbers\n",
    "    number += 2"
   ]
  },
  {
   "cell_type": "code",
   "execution_count": 7,
   "metadata": {},
   "outputs": [
    {
     "data": {
      "text/plain": [
       "10000"
      ]
     },
     "execution_count": 7,
     "metadata": {},
     "output_type": "execute_result"
    }
   ],
   "source": [
    "#These are the first 1000 prime numbers!\n",
    "len(prime_list)"
   ]
  },
  {
   "cell_type": "code",
   "execution_count": 8,
   "metadata": {},
   "outputs": [],
   "source": [
    "import numpy as np\n",
    "def how_many_divisors(num, list_of_primes):\n",
    "    '''We create a prime factorization of the number and then apply the fact that the number of divisors\n",
    "    is equal to the product of the exponents plus 1 of the prime factors.'''\n",
    "    \n",
    "    #Bound the primes. Note that this will not work with 3 because it's too small.\n",
    "    primes = [prime for prime in list_of_primes if prime <= num // 2 + 1]\n",
    "    prime_factors = [prime for prime in primes if num % prime == 0]\n",
    "    \n",
    "    prime_dict = {}\n",
    "    remainder = num\n",
    "    for prime in prime_factors:\n",
    "        exponent = 0\n",
    "        quotient = num\n",
    "        while quotient % prime == 0:\n",
    "            exponent += 1\n",
    "            quotient = quotient / prime\n",
    "            remainder = remainder / prime\n",
    "        prime_dict[prime] = exponent\n",
    "    done = remainder == 1.0\n",
    "    exponents = [x+1 for x in list(prime_dict.values())]\n",
    "    return np.prod(exponents), done  "
   ]
  },
  {
   "cell_type": "code",
   "execution_count": 9,
   "metadata": {},
   "outputs": [
    {
     "data": {
      "text/plain": [
       "(9, True)"
      ]
     },
     "execution_count": 9,
     "metadata": {},
     "output_type": "execute_result"
    }
   ],
   "source": [
    "how_many_divisors(100, prime_list)"
   ]
  },
  {
   "cell_type": "code",
   "execution_count": 10,
   "metadata": {},
   "outputs": [],
   "source": [
    "def get_diagonal_numbers(n_many):\n",
    "    '''Provide a number \"n_many\" that will provide a list of that many diagonal numbers.'''\n",
    "    \n",
    "    diag_nums = [1]\n",
    "    index = 1\n",
    "    while index < n_many:\n",
    "        diag_nums.append(diag_nums[-1] + (index+1))\n",
    "        index += 1\n",
    "    return diag_nums"
   ]
  },
  {
   "cell_type": "code",
   "execution_count": 11,
   "metadata": {},
   "outputs": [],
   "source": [
    "diagonal_numbers = get_diagonal_numbers(100000)"
   ]
  },
  {
   "cell_type": "code",
   "execution_count": 12,
   "metadata": {},
   "outputs": [],
   "source": [
    "diagonal_divisors = []\n",
    "for number in diagonal_numbers:\n",
    "    diagonal_divisors.append(how_many_divisors(number, prime_list))"
   ]
  },
  {
   "cell_type": "code",
   "execution_count": 13,
   "metadata": {},
   "outputs": [
    {
     "data": {
      "text/plain": [
       "[[1, (1.0, False)]]"
      ]
     },
     "execution_count": 13,
     "metadata": {},
     "output_type": "execute_result"
    }
   ],
   "source": [
    "not_done_factoring = [[i, val] for i, val in enumerate(diagonal_divisors) if val[1] == False]\n",
    "not_done_factoring"
   ]
  },
  {
   "cell_type": "code",
   "execution_count": 14,
   "metadata": {},
   "outputs": [],
   "source": [
    "#Of course, we knew that wouldn't work with 3. But everything else came out fully factored!\n",
    "lots_of_divisors = [[i, val[0]] for i, val in enumerate(diagonal_divisors) if val[0] >= 500]"
   ]
  },
  {
   "cell_type": "code",
   "execution_count": 15,
   "metadata": {},
   "outputs": [
    {
     "data": {
      "text/plain": [
       "76576500"
      ]
     },
     "execution_count": 15,
     "metadata": {},
     "output_type": "execute_result"
    }
   ],
   "source": [
    "diagonal_numbers[lots_of_divisors[0][0]]"
   ]
  },
  {
   "cell_type": "code",
   "execution_count": 16,
   "metadata": {},
   "outputs": [
    {
     "data": {
      "text/plain": [
       "(576, True)"
      ]
     },
     "execution_count": 16,
     "metadata": {},
     "output_type": "execute_result"
    }
   ],
   "source": [
    "#Just check that it is in fact fully factored\n",
    "how_many_divisors(76576500, prime_list)"
   ]
  },
  {
   "cell_type": "markdown",
   "metadata": {},
   "source": [
    "---\n",
    "**Question 13:** Work out the first ten digits of the sum of the following one-hundred 50-digit numbers. (We're going to have to scrape this just to get the numbers.)"
   ]
  },
  {
   "cell_type": "code",
   "execution_count": 17,
   "metadata": {},
   "outputs": [
    {
     "data": {
      "text/plain": [
       "<Response [200]>"
      ]
     },
     "execution_count": 17,
     "metadata": {},
     "output_type": "execute_result"
    }
   ],
   "source": [
    "import requests\n",
    "page = requests.get(\"https://projecteuler.net/problem=13\")\n",
    "page"
   ]
  },
  {
   "cell_type": "code",
   "execution_count": 18,
   "metadata": {},
   "outputs": [],
   "source": [
    "from bs4 import BeautifulSoup\n",
    "soup = BeautifulSoup(page.content, 'html.parser')"
   ]
  },
  {
   "cell_type": "code",
   "execution_count": 19,
   "metadata": {},
   "outputs": [
    {
     "data": {
      "text/plain": [
       "100"
      ]
     },
     "execution_count": 19,
     "metadata": {},
     "output_type": "execute_result"
    }
   ],
   "source": [
    "paragraph = str(soup.find_all('div', class_='monospace center')[0])\n",
    "text = paragraph.replace('\\n', ' ')\n",
    "splitted = text.split()\n",
    "splitted = splitted[3:]\n",
    "numbers = [row[:50] for row in splitted]\n",
    "len(numbers)"
   ]
  },
  {
   "cell_type": "code",
   "execution_count": 20,
   "metadata": {},
   "outputs": [
    {
     "data": {
      "text/plain": [
       "'5537376230'"
      ]
     },
     "execution_count": 20,
     "metadata": {},
     "output_type": "execute_result"
    }
   ],
   "source": [
    "#Since this worked I'm afraid it was almost too easy.....\n",
    "try_ = [int(x) for x in numbers]\n",
    "str(sum(try_))[:10]"
   ]
  },
  {
   "cell_type": "markdown",
   "metadata": {},
   "source": [
    "---\n",
    "**Question 14:** The following iterative sequence is defined for the set of positive integers:\n",
    "$$n \\mapsto n/2 \\text{  (n is even),}$$\n",
    "$$n \\mapsto 3n + 1 \\text{  (n is odd).}$$\n",
    "For example:\n",
    "$$13 \\mapsto 40 \\mapsto 20 \\mapsto 10 \\mapsto 5 \\mapsto 16 \\mapsto 8 \\mapsto 4 \\mapsto 2 \\mapsto 1$$\n",
    "Which starting number, under one million, produces the longest chain? This is called a **Collatz sequence**."
   ]
  },
  {
   "cell_type": "code",
   "execution_count": 21,
   "metadata": {},
   "outputs": [],
   "source": [
    "def collatz_sequence(num):\n",
    "    '''Produces a collatz sequence for a given number.'''\n",
    "    \n",
    "    #Initialize\n",
    "    sequence = [num]\n",
    "    \n",
    "    #Run until condition is met\n",
    "    while num != 1: \n",
    "        #Even\n",
    "        if num % 2 == 0:\n",
    "            num = int(num/2)\n",
    "            sequence.append(num)\n",
    "        #Odd\n",
    "        else: \n",
    "            num = 3 * num + 1\n",
    "            sequence.append(num)\n",
    "    \n",
    "    return sequence"
   ]
  },
  {
   "cell_type": "code",
   "execution_count": 22,
   "metadata": {},
   "outputs": [
    {
     "data": {
      "text/plain": [
       "[13, 40, 20, 10, 5, 16, 8, 4, 2, 1]"
      ]
     },
     "execution_count": 22,
     "metadata": {},
     "output_type": "execute_result"
    }
   ],
   "source": [
    "collatz_sequence(13)"
   ]
  },
  {
   "cell_type": "code",
   "execution_count": 23,
   "metadata": {},
   "outputs": [
    {
     "name": "stdout",
     "output_type": "stream",
     "text": [
      "[5, 16, 8, 4, 2, 1]\n",
      "[5, 16, 8, 4, 2, 1]\n",
      "[5, 16, 8, 4, 2, 1]\n",
      "[5, 16, 8, 4, 2, 1]\n",
      "[32, 16, 8, 4, 2, 1]\n",
      "[32, 16, 8, 4, 2, 1]\n",
      "[5, 16, 8, 4, 2, 1]\n",
      "[5, 16, 8, 4, 2, 1]\n",
      "[5, 16, 8, 4, 2, 1]\n",
      "[5, 16, 8, 4, 2, 1]\n",
      "[5, 16, 8, 4, 2, 1]\n",
      "[5, 16, 8, 4, 2, 1]\n",
      "[5, 16, 8, 4, 2, 1]\n",
      "[5, 16, 8, 4, 2, 1]\n",
      "[5, 16, 8, 4, 2, 1]\n",
      "[5, 16, 8, 4, 2, 1]\n",
      "[5, 16, 8, 4, 2, 1]\n",
      "[5, 16, 8, 4, 2, 1]\n",
      "[5, 16, 8, 4, 2, 1]\n",
      "[5, 16, 8, 4, 2, 1]\n"
     ]
    }
   ],
   "source": [
    "#Take a look at this pattern\n",
    "#We can reduce the ammount of searching by evaluating some end behavior\n",
    "for i in range(80,100):\n",
    "    print(collatz_sequence(i)[-6:])"
   ]
  },
  {
   "cell_type": "code",
   "execution_count": 24,
   "metadata": {},
   "outputs": [],
   "source": [
    "def collatz_number_fast(num):\n",
    "    '''Try to find the number faster with exponents of 2.'''\n",
    "    \n",
    "    counter = 1\n",
    "    \n",
    "    #Arbitrary lenth list for end behavior\n",
    "    five_list = [5]\n",
    "    for i in range(16):\n",
    "        five_list.append(five_list[-1]*2)\n",
    "    two_list = [2]\n",
    "    for i in range(4):\n",
    "        two_list.append(two_list[-1]**2)\n",
    "        \n",
    "\n",
    "    #Run until condition is met\n",
    "    while num != 1:\n",
    "        \n",
    "        #Check end behavior to avoid loops\n",
    "        if num in five_list:\n",
    "            return counter + [i for i, val in enumerate(five_list) if val == num][0] + 5\n",
    "        elif num in two_list:\n",
    "            return counter + [i for i, val in enumerate(two_list) if val == num][0]+1\n",
    "        \n",
    "        #Even\n",
    "        elif num % 2 == 0:\n",
    "            num = int(num/2)\n",
    "            counter += 1\n",
    "        #Odd\n",
    "        else: \n",
    "            num = 3 * num + 1\n",
    "            counter += 1        \n",
    "\n",
    "    return counter"
   ]
  },
  {
   "cell_type": "code",
   "execution_count": 25,
   "metadata": {},
   "outputs": [],
   "source": [
    "collatz_numbers = [collatz_number_fast(i) for i in range(1,1000001)]"
   ]
  },
  {
   "cell_type": "code",
   "execution_count": 26,
   "metadata": {},
   "outputs": [],
   "source": [
    "highest = max(collatz_numbers)\n",
    "index = [i for i, val in enumerate(collatz_numbers) if val == highest][0]+1"
   ]
  },
  {
   "cell_type": "code",
   "execution_count": 27,
   "metadata": {},
   "outputs": [],
   "source": [
    "largest_sequence = collatz_sequence(index)"
   ]
  },
  {
   "cell_type": "code",
   "execution_count": 28,
   "metadata": {},
   "outputs": [
    {
     "data": {
      "text/plain": [
       "525"
      ]
     },
     "execution_count": 28,
     "metadata": {},
     "output_type": "execute_result"
    }
   ],
   "source": [
    "len(largest_sequence)"
   ]
  },
  {
   "cell_type": "code",
   "execution_count": 29,
   "metadata": {},
   "outputs": [
    {
     "data": {
      "text/plain": [
       "837799"
      ]
     },
     "execution_count": 29,
     "metadata": {},
     "output_type": "execute_result"
    }
   ],
   "source": [
    "index"
   ]
  },
  {
   "cell_type": "markdown",
   "metadata": {},
   "source": [
    "---\n",
    "**Question 15:** Starting in the top left corner of a 2 by 2 grid, and only being able to move to the right and down, there are exactly 6 routes to the bottom right corner. Make a function that evaluates the amount of possible routes for a 20 by 20 grid.\n",
    "\n",
    "Make this simple by defining simple actions. We have an initial ordered pair $(0,0)$ and just two actions we can take: add $(1,0)$ or add $(0,1)$ where neither entry can exceed $n$. So the final destination is always $(n, n)$. We flip the problem so it is more intuitive."
   ]
  },
  {
   "cell_type": "code",
   "execution_count": 30,
   "metadata": {},
   "outputs": [],
   "source": [
    "import numpy as np\n",
    "def how_many_paths(n):\n",
    "    '''How many possible paths from one corner to the opposite in an n by n grid \n",
    "    with the only option of up and right.'''\n",
    "    \n",
    "    #Initilize position and define actions\n",
    "    open_position = np.array([0,0])\n",
    "    action_up = np.array([1,0])\n",
    "    action_right = np.array([0,1])\n",
    "    actions = [action_up, action_right]\n",
    "    \n",
    "    #Initialize first action\n",
    "    move_sequences = [[action_up], [action_right]]\n",
    "\n",
    "    while len(move_sequences[0]) != 2 * (n-1):\n",
    "        \n",
    "        #Try to add an action to every sequence\n",
    "        sequence_updates = []\n",
    "        for sequence in move_sequences:\n",
    "            position = open_position.copy()\n",
    "            for move in sequence:\n",
    "                position += move\n",
    "            if position[0] < n-1:\n",
    "                sequence_update = sequence.copy()\n",
    "                sequence_update.append(action_up)\n",
    "                sequence_updates.append(sequence_update)\n",
    "            if position[1] < n-1:\n",
    "                sequence_update = sequence.copy()\n",
    "                sequence_update.append(action_right)\n",
    "                sequence_updates.append(sequence_update)\n",
    "        move_sequences = sequence_updates\n",
    "    return move_sequences"
   ]
  },
  {
   "cell_type": "code",
   "execution_count": 31,
   "metadata": {},
   "outputs": [
    {
     "data": {
      "text/plain": [
       "[[array([1, 0]), array([1, 0]), array([0, 1]), array([0, 1])],\n",
       " [array([1, 0]), array([0, 1]), array([1, 0]), array([0, 1])],\n",
       " [array([1, 0]), array([0, 1]), array([0, 1]), array([1, 0])],\n",
       " [array([0, 1]), array([1, 0]), array([1, 0]), array([0, 1])],\n",
       " [array([0, 1]), array([1, 0]), array([0, 1]), array([1, 0])],\n",
       " [array([0, 1]), array([0, 1]), array([1, 0]), array([1, 0])]]"
      ]
     },
     "execution_count": 31,
     "metadata": {},
     "output_type": "execute_result"
    }
   ],
   "source": [
    "how_many_paths(3)"
   ]
  },
  {
   "cell_type": "markdown",
   "metadata": {},
   "source": [
    "This will certainly not scale. So we can use Pascals Triangle!"
   ]
  },
  {
   "cell_type": "code",
   "execution_count": 32,
   "metadata": {},
   "outputs": [],
   "source": [
    "def grid_paths_triangle(n):\n",
    "    '''Count the same paths as above using pascals triangle!'''\n",
    "    \n",
    "    grid = []\n",
    "    first_row = [1 for i in range(n)]\n",
    "    grid.append(first_row)\n",
    "    for i in range(n-1):\n",
    "        row = [1]\n",
    "        for i in range(n-1):\n",
    "            row.append(0)\n",
    "        grid.append(row)\n",
    "    \n",
    "    for i in range(1,n):\n",
    "        for j in range(1,n):\n",
    "            grid[i][j] = grid[i][j-1] + grid[i-1][j]\n",
    "    return grid[n-1][n-1]\n",
    "    \n",
    "    \n",
    "    "
   ]
  },
  {
   "cell_type": "code",
   "execution_count": 33,
   "metadata": {},
   "outputs": [
    {
     "data": {
      "text/plain": [
       "6"
      ]
     },
     "execution_count": 33,
     "metadata": {},
     "output_type": "execute_result"
    }
   ],
   "source": [
    "grid_paths_triangle(3)"
   ]
  },
  {
   "cell_type": "code",
   "execution_count": 34,
   "metadata": {},
   "outputs": [
    {
     "data": {
      "text/plain": [
       "137846528820"
      ]
     },
     "execution_count": 34,
     "metadata": {},
     "output_type": "execute_result"
    }
   ],
   "source": [
    "grid_paths_triangle(21)"
   ]
  },
  {
   "cell_type": "markdown",
   "metadata": {},
   "source": [
    "---\n",
    "**Question 16:** $2^{15} = 32768$ and the sum of its digits is $3 + 2 + 7 + 6 + 8 = 26$.\n",
    "\n",
    "What is the sum of the digits of the number $2^{1000}$? **STUCK ON THIS**"
   ]
  },
  {
   "cell_type": "code",
   "execution_count": 35,
   "metadata": {},
   "outputs": [],
   "source": [
    "def digit_sum(num):\n",
    "    count = 0\n",
    "    string = str(num)\n",
    "    for i in range(len(string)):\n",
    "        count += int(string[i])\n",
    "    return count"
   ]
  },
  {
   "cell_type": "code",
   "execution_count": 36,
   "metadata": {},
   "outputs": [
    {
     "data": {
      "text/plain": [
       "15"
      ]
     },
     "execution_count": 36,
     "metadata": {},
     "output_type": "execute_result"
    }
   ],
   "source": [
    "digit_sum(12345)"
   ]
  },
  {
   "cell_type": "markdown",
   "metadata": {},
   "source": [
    "---\n",
    "**Question 17:** If all the numbers from 1 to 1000 (one thousand) inclusive were written out in words, how many letters would be used?"
   ]
  },
  {
   "cell_type": "code",
   "execution_count": 37,
   "metadata": {},
   "outputs": [],
   "source": [
    "def number_breakdown(number):\n",
    "    i = 0\n",
    "    j = 0\n",
    "    while number >= 100:\n",
    "        number -= 100\n",
    "        i += 1\n",
    "    while number >= 10:\n",
    "        number -= 10\n",
    "        j += 1\n",
    "    return [i,j,number]"
   ]
  },
  {
   "cell_type": "code",
   "execution_count": 38,
   "metadata": {},
   "outputs": [
    {
     "data": {
      "text/plain": [
       "[2, 8, 7]"
      ]
     },
     "execution_count": 38,
     "metadata": {},
     "output_type": "execute_result"
    }
   ],
   "source": [
    "number_breakdown(287)"
   ]
  },
  {
   "cell_type": "code",
   "execution_count": 39,
   "metadata": {},
   "outputs": [
    {
     "data": {
      "text/plain": [
       "dict_keys([0, 1, 2, 3, 4, 5, 6, 7, 8, 9, 10, 11, 12, 13, 14, 15, 16, 17, 18, 19, 20, 30, 40, 50, 60, 70, 80, 90, 1000])"
      ]
     },
     "execution_count": 39,
     "metadata": {},
     "output_type": "execute_result"
    }
   ],
   "source": [
    "english_dict = {0: '',\n",
    "                1: 'one',\n",
    "               2: 'two',\n",
    "               3: 'three',\n",
    "                4: 'four',\n",
    "               5: 'five',\n",
    "               6: 'six',\n",
    "               7: 'seven',\n",
    "               8: 'eight',\n",
    "               9: 'nine',\n",
    "               10: 'ten',\n",
    "               11: 'eleven',\n",
    "               12: 'twelve',\n",
    "               13: 'thirteen',\n",
    "               14: 'fourteen',\n",
    "               15: 'fifteen',\n",
    "               16: 'sixteen',\n",
    "               17: 'seventeen',\n",
    "               18: 'eighteen',\n",
    "               19: 'nineteen',\n",
    "               20: 'twenty',\n",
    "               30: 'thirty',\n",
    "               40: 'forty',\n",
    "               50: 'fifty',\n",
    "               60: 'sixty',\n",
    "               70: 'seventy',\n",
    "               80: 'eighty',\n",
    "               90: 'ninety',\n",
    "               1000: 'one thousand'}\n",
    "english_dict.keys()"
   ]
  },
  {
   "cell_type": "code",
   "execution_count": 40,
   "metadata": {},
   "outputs": [],
   "source": [
    "def spell_number(number):\n",
    "    '''Use the dictionary and number breakdown function to spell out words up to 1000.'''\n",
    "    \n",
    "    if number in english_dict.keys():\n",
    "        return english_dict[number]\n",
    "    entries = number_breakdown(number)\n",
    "    spelled_out = \"\"\n",
    "    if entries[0] != 0:\n",
    "        spelled_out += english_dict[entries[0]]+' hundred'\n",
    "    if entries[1]+entries[2] == 0:\n",
    "        return spelled_out\n",
    "    elif entries[0] == 0:\n",
    "        return english_dict[entries[1] * 10]+'-'+english_dict[entries[2]]\n",
    "    elif entries[1] == 0:\n",
    "        spelled_out += ' and '+english_dict[entries[2]]\n",
    "        return spelled_out\n",
    "    elif entries[1] == 1:\n",
    "        spelled_out += ' and '+english_dict[entries[1]*10 + entries[2]]\n",
    "        return spelled_out\n",
    "    else:\n",
    "        spelled_out += ' and '+ english_dict[entries[1] * 10]+'-'+english_dict[entries[2]]\n",
    "        return spelled_out   "
   ]
  },
  {
   "cell_type": "code",
   "execution_count": 41,
   "metadata": {},
   "outputs": [
    {
     "data": {
      "text/plain": [
       "('six hundred and eighty-one', 'two hundred and twelve')"
      ]
     },
     "execution_count": 41,
     "metadata": {},
     "output_type": "execute_result"
    }
   ],
   "source": [
    "spell_number(681), spell_number(212)"
   ]
  },
  {
   "cell_type": "code",
   "execution_count": 42,
   "metadata": {},
   "outputs": [],
   "source": [
    "spelled_numbers = [spell_number(i) for i in range(1,1001)]\n",
    "clean1 = [number.replace(' ','') for number in spelled_numbers]\n",
    "clean2 = [number.replace('-','') for number in clean1]"
   ]
  },
  {
   "cell_type": "code",
   "execution_count": 43,
   "metadata": {},
   "outputs": [
    {
     "data": {
      "text/plain": [
       "21124"
      ]
     },
     "execution_count": 43,
     "metadata": {},
     "output_type": "execute_result"
    }
   ],
   "source": [
    "number_counts = [len(num) for num in clean2]\n",
    "sum(number_counts)"
   ]
  },
  {
   "cell_type": "markdown",
   "metadata": {},
   "source": [
    "---\n",
    "**Question 18:** We want to take a triangle and find the maximum sum from top to bottom in an adjacent path. For example:\n",
    "$$\\text{3}$$\n",
    "$$\\text{7 4}$$\n",
    "$$\\text{2 4 6}$$\n",
    "$$\\text{8 5 9 3}$$\n",
    "the greatest sum would be 23 as shown by the path 3-7-4-9.\n",
    "Find the maximum total from top to bottom of the triangle below:\n",
    "$$\\text{75}$$\n",
    "$$\\text{95 64}$$\n",
    "$$\\text{17 47 82}$$\n",
    "$$\\text{18 35 87 10}$$\n",
    "$$\\text{20 04 82 47 65}$$\n",
    "$$\\text{19 01 23 75 03 34}$$\n",
    "$$\\text{88 02 77 73 07 63 67}$$\n",
    "$$\\text{99 65 04 28 06 16 70 92}$$\n",
    "$$\\text{41 41 26 56 83 40 80 70 33}$$\n",
    "$$\\text{41 48 72 33 47 32 37 16 94 29}$$\n",
    "$$\\text{53 71 44 65 25 43 91 52 97 51 14}$$\n",
    "$$\\text{70 11 33 28 77 73 17 78 39 68 17 57}$$\n",
    "$$\\text{91 71 52 38 17 14 91 43 58 50 27 29 48}$$\n",
    "$$\\text{63 66 04 68 89 53 67 30 73 16 69 87 40 31}$$\n",
    "$$\\text{04 62 98 27 23 09 70 98 73 93 38 53 60 04 23}$$\n",
    "---\n",
    "Our function will have an input a list of $k$-lists, $\\Psi = \\{\\ell_{i}\\}_{i=1}^{k}$ where each list $\\ell_{i}$ is composed of integers has exactly one less element than $\\ell_{i+1}$."
   ]
  },
  {
   "cell_type": "code",
   "execution_count": 3,
   "metadata": {},
   "outputs": [],
   "source": [
    "test_triangle = [[3],[7, 4],[2, 4, 6],[8, 5, 9, 3]]"
   ]
  },
  {
   "cell_type": "code",
   "execution_count": 47,
   "metadata": {},
   "outputs": [],
   "source": [
    "def work_backwords_sum(triangle_list):\n",
    "    '''Input a triangle list and return the greatest path sum. We do not care about the specific path.\n",
    "    We efficiently search from the bottom.'''\n",
    "    \n",
    "    while len(triangle_list) > 1:\n",
    "        n = len(triangle_list)\n",
    "        new_bottom = []\n",
    "        bottom = triangle_list[n-2:]\n",
    "        above = triangle_list[:n-2]\n",
    "        \n",
    "        for i in range(len(bottom[0])):\n",
    "            max_sum = max([bottom[0][i]+bottom[1][i],bottom[0][i]+bottom[1][i+1]])\n",
    "            new_bottom.append(max_sum)\n",
    "        above.append(new_bottom)\n",
    "        triangle_list = above\n",
    "        \n",
    "    return triangle_list[0][0] "
   ]
  },
  {
   "cell_type": "code",
   "execution_count": 48,
   "metadata": {},
   "outputs": [
    {
     "data": {
      "text/plain": [
       "23"
      ]
     },
     "execution_count": 48,
     "metadata": {},
     "output_type": "execute_result"
    }
   ],
   "source": [
    "#Check the test case\n",
    "work_backwords_sum(test_triangle)"
   ]
  },
  {
   "cell_type": "code",
   "execution_count": 79,
   "metadata": {},
   "outputs": [
    {
     "data": {
      "text/plain": [
       "[[75],\n",
       " [95, 64],\n",
       " [17, 47, 82],\n",
       " [18, 35, 87, 10],\n",
       " [20, 4, 82, 47, 65],\n",
       " [19, 1, 23, 75, 3, 34],\n",
       " [88, 2, 77, 73, 7, 63, 67],\n",
       " [99, 65, 4, 28, 6, 16, 70, 92],\n",
       " [41, 41, 26, 56, 83, 40, 80, 70, 33],\n",
       " [41, 48, 72, 33, 47, 32, 37, 16, 94, 29],\n",
       " [53, 71, 44, 65, 25, 43, 91, 52, 97, 51, 14],\n",
       " [70, 11, 33, 28, 77, 73, 17, 78, 39, 68, 17, 57],\n",
       " [91, 71, 52, 38, 17, 14, 91, 43, 58, 50, 27, 29, 48],\n",
       " [63, 66, 4, 68, 89, 53, 67, 30, 73, 16, 69, 87, 40, 31],\n",
       " [4, 62, 98, 27, 23, 9, 70, 98, 73, 93, 38, 53, 60, 4, 23]]"
      ]
     },
     "execution_count": 79,
     "metadata": {},
     "output_type": "execute_result"
    }
   ],
   "source": [
    "#Format the big triangle:\n",
    "big_triangle_string = \"75 95 64 17 47 82 18 35 87 10 20 04 82 47 65 19 01 23 75 03 34 88 02 77 73 07 63 67 99 65 04 28 06 16 70 92 41 41 26 56 83 40 80 70 33 41 48 72 33 47 32 37 16 94 29 53 71 44 65 25 43 91 52 97 51 14 70 11 33 28 77 73 17 78 39 68 17 57 91 71 52 38 17 14 91 43 58 50 27 29 48 63 66 04 68 89 53 67 30 73 16 69 87 40 31 04 62 98 27 23 09 70 98 73 93 38 53 60 04 23\"\n",
    "num_list = [int(num) for num in big_triangle_string.split()]\n",
    "big_triangle = []\n",
    "triangle_numbers = [int(i*(i+1)/2) for i in range(1,100)]\n",
    "triangle_len = [i for i, val in enumerate(triangle_numbers) if val == len(num_list)][0] + 1\n",
    "index = 0\n",
    "for i in range(1,triangle_len+1):\n",
    "    row = num_list[index:index + i]\n",
    "    big_triangle.append(row)\n",
    "    index += i\n",
    "big_triangle"
   ]
  },
  {
   "cell_type": "code",
   "execution_count": 80,
   "metadata": {},
   "outputs": [
    {
     "data": {
      "text/plain": [
       "1074"
      ]
     },
     "execution_count": 80,
     "metadata": {},
     "output_type": "execute_result"
    }
   ],
   "source": [
    "work_backwords_sum(big_triangle)"
   ]
  },
  {
   "cell_type": "markdown",
   "metadata": {},
   "source": [
    "---\n",
    "**Question 19:** You are given the following information, but you may prefer to do some research for yourself.\n",
    "\n",
    "1. 1 Jan 1900 was a Monday.\n",
    "2. Thirty days has September,\n",
    "April, June and November.\n",
    "All the rest have thirty-one,\n",
    "Saving February alone,\n",
    "Which has twenty-eight, rain or shine.\n",
    "And on leap years, twenty-nine.\n",
    "3. A leap year occurs on any year evenly divisible by 4, but not on a century unless it is divisible by 400.\n",
    "How many Sundays fell on the first of the month during the twentieth century (1 Jan 1901 to 31 Dec 2000)?"
   ]
  },
  {
   "cell_type": "code",
   "execution_count": null,
   "metadata": {},
   "outputs": [],
   "source": []
  }
 ],
 "metadata": {
  "kernelspec": {
   "display_name": "Python 3",
   "language": "python",
   "name": "python3"
  },
  "language_info": {
   "codemirror_mode": {
    "name": "ipython",
    "version": 3
   },
   "file_extension": ".py",
   "mimetype": "text/x-python",
   "name": "python",
   "nbconvert_exporter": "python",
   "pygments_lexer": "ipython3",
   "version": "3.7.7"
  }
 },
 "nbformat": 4,
 "nbformat_minor": 4
}
