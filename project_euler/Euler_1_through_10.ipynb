{
 "cells": [
  {
   "cell_type": "markdown",
   "metadata": {},
   "source": [
    " ## Project Euler \n",
    " #### First Ten Questions\n",
    " \n",
    "Project Euler is a website providing problems that are mathematical in nature, but require coding to solve. The solutions do not require any packages and are more based on mathematical strategy. They start off pretty easy and become complicated quickly.\n",
    "\n",
    "-----"
   ]
  },
  {
   "cell_type": "code",
   "execution_count": 155,
   "metadata": {},
   "outputs": [],
   "source": [
    "#Used in a lot of problems:\n",
    "def my_factorer(number):\n",
    "    factors = []\n",
    "    for i in range(1, number//2 + 1):\n",
    "        if number % i == 0:\n",
    "            factors.append(i)\n",
    "    return factors\n",
    "def is_prime(number):\n",
    "    for i in range(2, number//2 + 1):\n",
    "        if number % i == 0:\n",
    "            return False\n",
    "    return True"
   ]
  },
  {
   "cell_type": "markdown",
   "metadata": {},
   "source": [
    "**Question 1:** Find the sum of all multiples of 3 and 5 below 1000."
   ]
  },
  {
   "cell_type": "code",
   "execution_count": 1,
   "metadata": {},
   "outputs": [
    {
     "data": {
      "text/plain": [
       "233168"
      ]
     },
     "execution_count": 1,
     "metadata": {},
     "output_type": "execute_result"
    }
   ],
   "source": [
    "sum_ = 0\n",
    "for i in range(1000):\n",
    "    if i % 3 == 0 or i % 5 == 0:\n",
    "        sum_ += i\n",
    "sum_"
   ]
  },
  {
   "cell_type": "markdown",
   "metadata": {},
   "source": [
    "---\n",
    "**Question 2:** Find the sum of even numbers in the fibonacci sequence not exeecding 4 million."
   ]
  },
  {
   "cell_type": "code",
   "execution_count": 14,
   "metadata": {},
   "outputs": [],
   "source": [
    "#First make a list of the fibonacci numbers less than 4 million\n",
    "fib_seq = [1,2]\n",
    "while True:\n",
    "    a = fib_seq[-1] + fib_seq[-2]\n",
    "    fib_seq.append(a)\n",
    "    if a > 4000000:\n",
    "        fib_seq.pop()\n",
    "        break"
   ]
  },
  {
   "cell_type": "code",
   "execution_count": 16,
   "metadata": {},
   "outputs": [
    {
     "data": {
      "text/plain": [
       "32"
      ]
     },
     "execution_count": 16,
     "metadata": {},
     "output_type": "execute_result"
    }
   ],
   "source": [
    "#Note it's fairly small\n",
    "len(fib_seq)"
   ]
  },
  {
   "cell_type": "code",
   "execution_count": 18,
   "metadata": {},
   "outputs": [
    {
     "data": {
      "text/plain": [
       "4613732"
      ]
     },
     "execution_count": 18,
     "metadata": {},
     "output_type": "execute_result"
    }
   ],
   "source": [
    "fib_seq_even = [num for num in fib_seq if num % 2 == 0]\n",
    "sum_ = 0 \n",
    "for num in fib_seq_even:\n",
    "    sum_ += num\n",
    "sum_"
   ]
  },
  {
   "cell_type": "markdown",
   "metadata": {},
   "source": [
    "---\n",
    "**Question 3:** What is the largest prime factor of 600851475143?\n",
    "\n",
    "Notes: We need to make the search space a little smaller. Remember that the smallest prime factor is smaller than the square root of a composite number. So unless this number is prime, we can use that."
   ]
  },
  {
   "cell_type": "code",
   "execution_count": 47,
   "metadata": {},
   "outputs": [],
   "source": [
    "import math\n",
    "num = 600851475143\n",
    "num_sqrt = math.floor(math.sqrt(num))"
   ]
  },
  {
   "cell_type": "code",
   "execution_count": 56,
   "metadata": {},
   "outputs": [],
   "source": [
    "grid_range = [i for i in range(1, num_sqrt + 1)]"
   ]
  },
  {
   "cell_type": "code",
   "execution_count": 57,
   "metadata": {},
   "outputs": [],
   "source": [
    "grid_mod = [num % i for i in grid_range]"
   ]
  },
  {
   "cell_type": "code",
   "execution_count": 64,
   "metadata": {},
   "outputs": [
    {
     "data": {
      "text/plain": [
       "[1, 71, 839, 1471, 6857, 59569, 104441, 486847]"
      ]
     },
     "execution_count": 64,
     "metadata": {},
     "output_type": "execute_result"
    }
   ],
   "source": [
    "indices = [i + 1 for i, val in enumerate(grid_mod) if val == 0]\n",
    "indices"
   ]
  },
  {
   "cell_type": "code",
   "execution_count": 70,
   "metadata": {},
   "outputs": [],
   "source": [
    "prime_factors = [x for x in indices if is_prime(x)]"
   ]
  },
  {
   "cell_type": "code",
   "execution_count": 72,
   "metadata": {},
   "outputs": [
    {
     "data": {
      "text/plain": [
       "6857"
      ]
     },
     "execution_count": 72,
     "metadata": {},
     "output_type": "execute_result"
    }
   ],
   "source": [
    "prime_factors[-1]"
   ]
  },
  {
   "cell_type": "markdown",
   "metadata": {},
   "source": [
    "---\n",
    "**Question 4:** A palindromic number reads the same both ways. The largest palindrome made from the product of two 2-digit numbers is 9009 = 91 × 99.\n",
    "\n",
    "Find the largest palindrome made from the product of two 3-digit numbers."
   ]
  },
  {
   "cell_type": "code",
   "execution_count": 75,
   "metadata": {},
   "outputs": [],
   "source": [
    "#Make a range:\n",
    "lower_bound = 100**2\n",
    "upper_bound = 999**2\n",
    "total_possible_numbers = [i for i in range(lower_bound, upper_bound+1)]"
   ]
  },
  {
   "cell_type": "code",
   "execution_count": 86,
   "metadata": {},
   "outputs": [],
   "source": [
    "def is_palindrome(num):\n",
    "    num_str = str(num)\n",
    "    for i in range(len(num_str)):\n",
    "        if num_str[i] != num_str[-i-1]:\n",
    "            return False\n",
    "    return True "
   ]
  },
  {
   "cell_type": "code",
   "execution_count": 122,
   "metadata": {},
   "outputs": [],
   "source": [
    "palindromes_in_range = [x for x in total_possible_numbers if is_palindrome(x)]"
   ]
  },
  {
   "cell_type": "code",
   "execution_count": 123,
   "metadata": {},
   "outputs": [
    {
     "data": {
      "text/plain": [
       "1798"
      ]
     },
     "execution_count": 123,
     "metadata": {},
     "output_type": "execute_result"
    }
   ],
   "source": [
    "len(palindromes_in_range)"
   ]
  },
  {
   "cell_type": "code",
   "execution_count": 137,
   "metadata": {},
   "outputs": [],
   "source": [
    "def find_the_largest(number):\n",
    "    desired_factors = []\n",
    "    for i in range(100,1000):\n",
    "        if number % i == 0:\n",
    "            desired_factors.append(i)\n",
    "    if len(desired_factors) == 0:\n",
    "        return False\n",
    "    else:\n",
    "        factor_pairs = [int(number/factor) for factor in desired_factors]\n",
    "    for pair in factor_pairs:\n",
    "        if 100 <= pair <= 999:\n",
    "            return True\n",
    "    return False"
   ]
  },
  {
   "cell_type": "code",
   "execution_count": 138,
   "metadata": {},
   "outputs": [
    {
     "name": "stdout",
     "output_type": "stream",
     "text": [
      "906609\n"
     ]
    }
   ],
   "source": [
    "for i in range(len(palindromes_in_range)):\n",
    "    if find_the_largest(palindromes_in_range[-i-1]):\n",
    "        print(palindromes_in_range[-i-1])\n",
    "        break\n",
    "    \n"
   ]
  },
  {
   "cell_type": "markdown",
   "metadata": {},
   "source": [
    "---\n",
    "**Question 5:** 2520 is the smallest number that can be divided by each of the numbers from 1 to 10 without any remainder.\n",
    "\n",
    "What is the smallest positive number that is evenly divisible by all of the numbers from 1 to 20?"
   ]
  },
  {
   "cell_type": "code",
   "execution_count": 204,
   "metadata": {},
   "outputs": [
    {
     "data": {
      "text/plain": [
       "[2, 3, 4, 5, 6, 7, 8, 9, 10, 11, 12, 13, 14, 15, 16, 17, 18, 19, 20]"
      ]
     },
     "execution_count": 204,
     "metadata": {},
     "output_type": "execute_result"
    }
   ],
   "source": [
    "#All possible\n",
    "divisors = [i for i in range(2,21)]\n",
    "divisors"
   ]
  },
  {
   "cell_type": "code",
   "execution_count": 205,
   "metadata": {},
   "outputs": [
    {
     "data": {
      "text/plain": [
       "[2, 3, 5, 7, 11, 13, 17, 19]"
      ]
     },
     "execution_count": 205,
     "metadata": {},
     "output_type": "execute_result"
    }
   ],
   "source": [
    "#This is all about prime factorization:\n",
    "primes_less_than_20 = [x for x in divisors if is_prime(x)]\n",
    "primes_less_than_20"
   ]
  },
  {
   "cell_type": "code",
   "execution_count": 211,
   "metadata": {},
   "outputs": [],
   "source": [
    "#Need to find the max exponent of every prime factorization\n",
    "max_prime_exponent_dic = {}\n",
    "for number in divisors:\n",
    "    for prime in primes_less_than_20:\n",
    "        if number % prime == 0:\n",
    "            exponent = 1\n",
    "            quotient = number/prime\n",
    "            while quotient % prime == 0:\n",
    "                exponent += 1\n",
    "                quotient = quotient/prime\n",
    "            if prime not in max_prime_exponent_dic.keys():\n",
    "                max_prime_exponent_dic[prime] = exponent\n",
    "            else:\n",
    "                if max_prime_exponent_dic[prime] < exponent:\n",
    "                    max_prime_exponent_dic[prime] = exponent  "
   ]
  },
  {
   "cell_type": "code",
   "execution_count": 212,
   "metadata": {},
   "outputs": [
    {
     "data": {
      "text/plain": [
       "{2: 4, 3: 2, 5: 1, 7: 1, 11: 1, 13: 1, 17: 1, 19: 1}"
      ]
     },
     "execution_count": 212,
     "metadata": {},
     "output_type": "execute_result"
    }
   ],
   "source": [
    "max_prime_exponent_dic"
   ]
  },
  {
   "cell_type": "code",
   "execution_count": 213,
   "metadata": {},
   "outputs": [
    {
     "data": {
      "text/plain": [
       "232792560"
      ]
     },
     "execution_count": 213,
     "metadata": {},
     "output_type": "execute_result"
    }
   ],
   "source": [
    "largest_divisible_number = 1\n",
    "for key in max_prime_exponent_dic.keys():\n",
    "    largest_divisible_number *= key ** max_prime_exponent_dic[key]\n",
    "largest_divisible_number    "
   ]
  },
  {
   "cell_type": "markdown",
   "metadata": {},
   "source": [
    "---\n",
    "**Question 6:** Find the difference between the sum of the squares of the first one hundred natural numbers and the square of the sum."
   ]
  },
  {
   "cell_type": "code",
   "execution_count": 223,
   "metadata": {},
   "outputs": [],
   "source": [
    "#example for first 10\n",
    "nums_1 = [i for i in range(1,11)]\n",
    "squares_1 = [x**2 for x in nums_1]"
   ]
  },
  {
   "cell_type": "code",
   "execution_count": 224,
   "metadata": {},
   "outputs": [
    {
     "data": {
      "text/plain": [
       "2640"
      ]
     },
     "execution_count": 224,
     "metadata": {},
     "output_type": "execute_result"
    }
   ],
   "source": [
    "sum_of_squares_1 = sum(squares_1)\n",
    "square_of_sums_1 = (sum(nums_1))**2\n",
    "square_of_sums_1 - sum_of_squares_1"
   ]
  },
  {
   "cell_type": "code",
   "execution_count": 225,
   "metadata": {},
   "outputs": [],
   "source": [
    "nums = [i for i in range(1,101)]"
   ]
  },
  {
   "cell_type": "code",
   "execution_count": 226,
   "metadata": {},
   "outputs": [],
   "source": [
    "sum_of_squares = sum([x**2 for x in nums])"
   ]
  },
  {
   "cell_type": "code",
   "execution_count": 227,
   "metadata": {},
   "outputs": [],
   "source": [
    "square_of_sums = (sum(nums))**2"
   ]
  },
  {
   "cell_type": "code",
   "execution_count": 228,
   "metadata": {},
   "outputs": [
    {
     "data": {
      "text/plain": [
       "25164150"
      ]
     },
     "execution_count": 228,
     "metadata": {},
     "output_type": "execute_result"
    }
   ],
   "source": [
    "square_of_sums - sum_of_squares"
   ]
  },
  {
   "cell_type": "markdown",
   "metadata": {},
   "source": [
    "---\n",
    "**Question 7:** What is the 10,001st prime number?"
   ]
  },
  {
   "cell_type": "code",
   "execution_count": 233,
   "metadata": {},
   "outputs": [],
   "source": [
    "prime_list = [2]\n",
    "number = 3\n",
    "while len(prime_list)<10001:\n",
    "    if is_prime(number):\n",
    "        prime_list.append(number)\n",
    "    \n",
    "    #remember we can skip even numbers\n",
    "    number += 2  "
   ]
  },
  {
   "cell_type": "code",
   "execution_count": 234,
   "metadata": {},
   "outputs": [
    {
     "data": {
      "text/plain": [
       "104743"
      ]
     },
     "execution_count": 234,
     "metadata": {},
     "output_type": "execute_result"
    }
   ],
   "source": [
    "prime_list[-1]"
   ]
  },
  {
   "cell_type": "markdown",
   "metadata": {},
   "source": [
    "---\n",
    "**Question 8:** The largest product of four adjacent numbers in the huge number below is 5832. Find the largest product of 13 adjacent numbers."
   ]
  },
  {
   "cell_type": "code",
   "execution_count": 3,
   "metadata": {},
   "outputs": [
    {
     "data": {
      "text/plain": [
       "1000"
      ]
     },
     "execution_count": 3,
     "metadata": {},
     "output_type": "execute_result"
    }
   ],
   "source": [
    "num_str = \"7316717653133062491922511967442657474235534919493496983520312774506326239578318016984801869478851843858615607891129494954595017379583319528532088055111254069874715852386305071569329096329522744304355766896648950445244523161731856403098711121722383113622298934233803081353362766142828064444866452387493035890729629049156044077239071381051585930796086670172427121883998797908792274921901699720888093776657273330010533678812202354218097512545405947522435258490771167055601360483958644670632441572215539753697817977846174064955149290862569321978468622482839722413756570560574902614079729686524145351004748216637048440319989000889524345065854122758866688116427171479924442928230863465674813919123162824586178664583591245665294765456828489128831426076900422421902267105562632111110937054421750694165896040807198403850962455444362981230987879927244284909188845801561660979191338754992005240636899125607176060588611646710940507754100225698315520005593572972571636269561882670428252483600823257530420752963450\"\n",
    "len(num_str)"
   ]
  },
  {
   "cell_type": "code",
   "execution_count": 6,
   "metadata": {},
   "outputs": [],
   "source": [
    "def max_adjacent_product(string, n):\n",
    "    products = []\n",
    "    for i in range(len(string)-(n+1)):\n",
    "        product = 1\n",
    "        for j in range(n):\n",
    "            product *= int(string[i+j])\n",
    "        products.append(product)\n",
    "    return products"
   ]
  },
  {
   "cell_type": "code",
   "execution_count": 9,
   "metadata": {},
   "outputs": [
    {
     "data": {
      "text/plain": [
       "5832"
      ]
     },
     "execution_count": 9,
     "metadata": {},
     "output_type": "execute_result"
    }
   ],
   "source": [
    "#So we know it works:\n",
    "max(max_adjacent_product(num_str, 4))"
   ]
  },
  {
   "cell_type": "code",
   "execution_count": 10,
   "metadata": {},
   "outputs": [
    {
     "data": {
      "text/plain": [
       "23514624000"
      ]
     },
     "execution_count": 10,
     "metadata": {},
     "output_type": "execute_result"
    }
   ],
   "source": [
    "max(max_adjacent_product(num_str, 13))"
   ]
  },
  {
   "cell_type": "markdown",
   "metadata": {},
   "source": [
    "---\n",
    "**Question 9:** There exists exactly one Pythagorean triplet, $a^2+b^2 = c^2$ for which $a + b + c = 1000$.\n",
    "Find the product $abc$."
   ]
  },
  {
   "cell_type": "code",
   "execution_count": 408,
   "metadata": {},
   "outputs": [],
   "source": [
    "import math\n",
    "def a_to_b(a):\n",
    "    return (1000 ** 2 - 2000 * a) / (2 * (1000-a))\n",
    "\n",
    "def pythagorean_sum(a, b):\n",
    "    return math.sqrt(a ** 2 + b ** 2)"
   ]
  },
  {
   "cell_type": "code",
   "execution_count": 412,
   "metadata": {},
   "outputs": [
    {
     "name": "stdout",
     "output_type": "stream",
     "text": [
      "200 375.0 425.0\n"
     ]
    }
   ],
   "source": [
    "for i in range(1,1000):\n",
    "    a = i\n",
    "    b = a_to_b(a)\n",
    "    if a < b:\n",
    "        c = pythagorean_sum(a, b)\n",
    "        if b % 1 == 0 and c % 1 == 0:\n",
    "            print(a,b,c)"
   ]
  },
  {
   "cell_type": "code",
   "execution_count": 416,
   "metadata": {},
   "outputs": [
    {
     "data": {
      "text/plain": [
       "(True, True)"
      ]
     },
     "execution_count": 416,
     "metadata": {},
     "output_type": "execute_result"
    }
   ],
   "source": [
    "#check conditions\n",
    "200 ** 2 + 375 ** 2 == 425 ** 2, 200 + 375 + 425 == 1000"
   ]
  },
  {
   "cell_type": "code",
   "execution_count": 417,
   "metadata": {},
   "outputs": [
    {
     "data": {
      "text/plain": [
       "31875000"
      ]
     },
     "execution_count": 417,
     "metadata": {},
     "output_type": "execute_result"
    }
   ],
   "source": [
    "200*375*425"
   ]
  },
  {
   "cell_type": "markdown",
   "metadata": {},
   "source": [
    "---\n",
    "**Question 10:** Find the sum of all the primes below two million."
   ]
  },
  {
   "cell_type": "code",
   "execution_count": 24,
   "metadata": {},
   "outputs": [],
   "source": [
    "def sieve_summation(n):\n",
    "    '''This function uses some ideas form the \"Sieve of Eratosthenes\".\n",
    "    We just are worried about the sum, not what any primes may be.\n",
    "    '''\n",
    "    \n",
    "    #Create a bound using the square root\n",
    "    r = int(n ** 0.5)\n",
    "    \n",
    "    \n",
    "    #Check some conditions that may have messed up in rounding.\n",
    "    assert r*r <= n and (r+1)**2 > n\n",
    "    \n",
    "    #Begin dividing\n",
    "    range_list = [n//i for i in range(1,r+1)]\n",
    "    range_list += list(range(range_list[-1]-1,0,-1))\n",
    "    sum_dict = {i:i*(i+1)//2-1 for i in range_list}\n",
    "    for p in range(2,r+1):\n",
    "        if sum_dict[p] > sum_dict[p-1]:\n",
    "            x = sum_dict[p-1] \n",
    "            p_sq = p ** 2\n",
    "            for num in range_list:\n",
    "                if num < p_sq: \n",
    "                    break\n",
    "                sum_dict[num] -= p*(sum_dict[num//p] - x)\n",
    "    \n",
    "    return sum_dict[n]"
   ]
  },
  {
   "cell_type": "code",
   "execution_count": 25,
   "metadata": {},
   "outputs": [
    {
     "data": {
      "text/plain": [
       "142913828922"
      ]
     },
     "execution_count": 25,
     "metadata": {},
     "output_type": "execute_result"
    }
   ],
   "source": [
    "sieve_summation(2000000)"
   ]
  }
 ],
 "metadata": {
  "kernelspec": {
   "display_name": "Python 3",
   "language": "python",
   "name": "python3"
  },
  "language_info": {
   "codemirror_mode": {
    "name": "ipython",
    "version": 3
   },
   "file_extension": ".py",
   "mimetype": "text/x-python",
   "name": "python",
   "nbconvert_exporter": "python",
   "pygments_lexer": "ipython3",
   "version": "3.7.7"
  }
 },
 "nbformat": 4,
 "nbformat_minor": 4
}
