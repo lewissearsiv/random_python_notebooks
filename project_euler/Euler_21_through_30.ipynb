{
 "cells": [
  {
   "cell_type": "markdown",
   "metadata": {},
   "source": [
    " ## Project Euler \n",
    " #### Questions 21-30\n",
    " \n",
    "Project Euler is a website providing problems that are mathematical in nature, but require coding to solve. The solutions do not require any packages and are more based on mathematical strategy. They start off pretty easy and become complicated quickly."
   ]
  },
  {
   "cell_type": "markdown",
   "metadata": {},
   "source": [
    "---\n",
    "**Question 21:** Let d(n) be defined as the sum of proper divisors of n (numbers less than n which divide evenly into n).\n",
    "If d(a) = b and d(b) = a, where a ≠ b, then a and b are an amicable pair and each of a and b are called amicable numbers.\n",
    "\n",
    "For example, the proper divisors of 220 are 1, 2, 4, 5, 10, 11, 20, 22, 44, 55 and 110; therefore d(220) = 284. The proper divisors of 284 are 1, 2, 4, 71 and 142; so d(284) = 220.\n",
    "\n",
    "Evaluate the sum of all the amicable numbers under 10000."
   ]
  },
  {
   "cell_type": "code",
   "execution_count": 1,
   "metadata": {},
   "outputs": [],
   "source": [
    "def d(n):\n",
    "    '''Return sum of divisors'''\n",
    "    divisor_sum = 1\n",
    "    for i in range(2,n//2 + 1):\n",
    "        if n % i == 0:\n",
    "            divisor_sum += i\n",
    "    return divisor_sum"
   ]
  },
  {
   "cell_type": "code",
   "execution_count": 46,
   "metadata": {},
   "outputs": [
    {
     "data": {
      "text/plain": [
       "(284, 220)"
      ]
     },
     "execution_count": 46,
     "metadata": {},
     "output_type": "execute_result"
    }
   ],
   "source": [
    "d(220), d(284)"
   ]
  },
  {
   "cell_type": "code",
   "execution_count": 77,
   "metadata": {},
   "outputs": [],
   "source": [
    "def is_amicable(number):\n",
    "    divisor_sum = d(number)\n",
    "    if number == divisor_sum:\n",
    "        return False\n",
    "    return number == d(divisor_sum)"
   ]
  },
  {
   "cell_type": "code",
   "execution_count": 78,
   "metadata": {},
   "outputs": [],
   "source": [
    "amicable_numbers = [number for number in range(2,10001) if is_amicable(number)]"
   ]
  },
  {
   "cell_type": "code",
   "execution_count": 79,
   "metadata": {},
   "outputs": [
    {
     "data": {
      "text/plain": [
       "31626"
      ]
     },
     "execution_count": 79,
     "metadata": {},
     "output_type": "execute_result"
    }
   ],
   "source": [
    "sum(amicable_numbers)"
   ]
  },
  {
   "cell_type": "markdown",
   "metadata": {},
   "source": [
    "---\n",
    "**Question 22** Using names.txt, a 46K text file containing over five-thousand first names, begin by sorting it into alphabetical order. Then working out the alphabetical value for each name, multiply this value by its alphabetical position in the list to obtain a name score.\n",
    "\n",
    "For example, when the list is sorted into alphabetical order, COLIN, which is worth 3 + 15 + 12 + 9 + 14 = 53, is the 938th name in the list. So, COLIN would obtain a score of 938 × 53 = 49714.\n",
    "\n",
    "What is the total of all the name scores in the file?"
   ]
  },
  {
   "cell_type": "code",
   "execution_count": 80,
   "metadata": {},
   "outputs": [
    {
     "data": {
      "text/plain": [
       "<Response [200]>"
      ]
     },
     "execution_count": 80,
     "metadata": {},
     "output_type": "execute_result"
    }
   ],
   "source": [
    "#Use Beautiful Soup to get names\n",
    "import requests\n",
    "page = requests.get(\"https://projecteuler.net/project/resources/p022_names.txt\")\n",
    "page"
   ]
  },
  {
   "cell_type": "code",
   "execution_count": 111,
   "metadata": {},
   "outputs": [],
   "source": [
    "from bs4 import BeautifulSoup\n",
    "soup = BeautifulSoup(page.content, 'html.parser')\n",
    "text = soup.text.split(\",\")\n",
    "names = [name.replace(\"\\\"\", \"\").lower() for name in text]\n",
    "names.sort()"
   ]
  },
  {
   "cell_type": "code",
   "execution_count": 116,
   "metadata": {},
   "outputs": [],
   "source": [
    "letters = 'abcdefghijklmnopqrstuvwxyz'\n",
    "letter_to_number = {}\n",
    "for i in range(26):\n",
    "    letter_to_number[letters[i]] = i+1\n",
    "def letter_sum(word):\n",
    "    k = 0\n",
    "    for i in range(len(word)):\n",
    "        k += letter_to_number[word[i]]\n",
    "    return k\n",
    "name_numbers = [letter_sum(name) for name in names]\n",
    "scores = [(i + 1) * val for i, val in enumerate(name_numbers)]"
   ]
  },
  {
   "cell_type": "code",
   "execution_count": 127,
   "metadata": {},
   "outputs": [
    {
     "data": {
      "text/plain": [
       "871198282"
      ]
     },
     "execution_count": 127,
     "metadata": {},
     "output_type": "execute_result"
    }
   ],
   "source": [
    "sum(scores)"
   ]
  },
  {
   "cell_type": "markdown",
   "metadata": {},
   "source": [
    "---\n",
    "**Question 23** A perfect number is a number for which the sum of its proper divisors is exactly equal to the number. For example, the sum of the proper divisors of 28 would be 1 + 2 + 4 + 7 + 14 = 28, which means that 28 is a perfect number.\n",
    "\n",
    "A number n is called deficient if the sum of its proper divisors is less than n and it is called abundant if this sum exceeds n.\n",
    "\n",
    "As 12 is the smallest abundant number, 1 + 2 + 3 + 4 + 6 = 16, the smallest number that can be written as the sum of two abundant numbers is 24. By mathematical analysis, it can be shown that all integers greater than 28123 can be written as the sum of two abundant numbers. However, this upper limit cannot be reduced any further by analysis even though it is known that the greatest number that cannot be expressed as the sum of two abundant numbers is less than this limit.\n",
    "\n",
    "Find the sum of all the positive integers which cannot be written as the sum of two abundant numbers."
   ]
  },
  {
   "cell_type": "code",
   "execution_count": 5,
   "metadata": {},
   "outputs": [],
   "source": [
    "#Function from 21\n",
    "abundant_numbers = [i for i in range(1,28124) if d(i) > i]"
   ]
  },
  {
   "cell_type": "code",
   "execution_count": 14,
   "metadata": {},
   "outputs": [
    {
     "data": {
      "text/plain": [
       "6965"
      ]
     },
     "execution_count": 14,
     "metadata": {},
     "output_type": "execute_result"
    }
   ],
   "source": [
    "len(abundant_numbers)"
   ]
  },
  {
   "cell_type": "code",
   "execution_count": 39,
   "metadata": {},
   "outputs": [],
   "source": [
    "search_space = [i for i in range(28124)]"
   ]
  },
  {
   "cell_type": "code",
   "execution_count": 30,
   "metadata": {},
   "outputs": [],
   "source": [
    "pairs = []\n",
    "for num in abundant_numbers:\n",
    "    pairs += [i+num for i in abundant_numbers]\n",
    "are_sum_nums = list(set(pairs))"
   ]
  },
  {
   "cell_type": "code",
   "execution_count": 36,
   "metadata": {},
   "outputs": [
    {
     "data": {
      "text/plain": [
       "26667"
      ]
     },
     "execution_count": 36,
     "metadata": {},
     "output_type": "execute_result"
    }
   ],
   "source": [
    "final_list = [x for x in are_sum_nums if x < 28124]\n",
    "len(final_list)"
   ]
  },
  {
   "cell_type": "code",
   "execution_count": 40,
   "metadata": {},
   "outputs": [],
   "source": [
    "not_a_sum = [x for x in search_space if x not in final_list]"
   ]
  },
  {
   "cell_type": "code",
   "execution_count": 41,
   "metadata": {},
   "outputs": [
    {
     "data": {
      "text/plain": [
       "4179871"
      ]
     },
     "execution_count": 41,
     "metadata": {},
     "output_type": "execute_result"
    }
   ],
   "source": [
    "sum(not_a_sum)"
   ]
  },
  {
   "cell_type": "markdown",
   "metadata": {},
   "source": [
    "---\n",
    "**Question 24:** A permutation is an ordered arrangement of objects. For example, 3124 is one possible permutation of the digits 1, 2, 3 and 4. If all of the permutations are listed numerically or alphabetically, we call it lexicographic order. The lexicographic permutations of 0, 1 and 2 are:\n",
    "\n",
    "012 -  021 -  102 -  120 -  201 -  210\n",
    "\n",
    "What is the millionth lexicographic permutation of the digits 0, 1, 2, 3, 4, 5, 6, 7, 8 and 9?"
   ]
  },
  {
   "cell_type": "code",
   "execution_count": 6,
   "metadata": {},
   "outputs": [
    {
     "data": {
      "text/plain": [
       "3628800"
      ]
     },
     "execution_count": 6,
     "metadata": {},
     "output_type": "execute_result"
    }
   ],
   "source": [
    "import math\n",
    "#All possible combinations\n",
    "math.factorial(10)"
   ]
  },
  {
   "cell_type": "code",
   "execution_count": 218,
   "metadata": {},
   "outputs": [],
   "source": [
    "digits = ['0','1','2','3','4','5','6','7','8','9']"
   ]
  },
  {
   "cell_type": "code",
   "execution_count": 277,
   "metadata": {},
   "outputs": [],
   "source": [
    "import math\n",
    "def lexicographic_permutation(n, values):\n",
    "    '''Find the nth lexicographic permutation of a list of sorted values.'''\n",
    "    \n",
    "    #Search set-up\n",
    "    copy = values.copy()\n",
    "    permutation = []\n",
    "    if math.factorial(len(values)) < n:\n",
    "        return \"There are not that many lexicogrphical permutations of that set.\"\n",
    "        \n",
    "    factorials = [math.factorial(i) for i in range(len(values)-1,0,-1)]\n",
    "    i = 0\n",
    "    while n > 0:\n",
    "        copy.sort()\n",
    "        k = n // factorials[i]\n",
    "        \n",
    "        if len(copy) == 2:\n",
    "            if n == 1:\n",
    "                break\n",
    "            else:\n",
    "                permutation.append(copy[1])\n",
    "                copy.remove(copy[1])\n",
    "                break\n",
    "            \n",
    "        if k == n / factorials[i]:\n",
    "            k = n // factorials[i]-1\n",
    "            permutation.append(copy[k])\n",
    "            copy.remove(copy[k])\n",
    "            n = n - factorials[i]\n",
    "            i += 1\n",
    "        \n",
    "        elif k > 0:\n",
    "            permutation.append(copy[k])\n",
    "            copy.remove(copy[k])\n",
    "            n = n - k * factorials[i]\n",
    "            i += 1\n",
    "        else:\n",
    "            permutation.append(copy[0])\n",
    "            copy.remove(copy[0])\n",
    "            i += 1\n",
    "\n",
    "    #Left over in order:\n",
    "    copy.sort()\n",
    "    for value in copy:\n",
    "        permutation.append(value)\n",
    "    return permutation    "
   ]
  },
  {
   "cell_type": "code",
   "execution_count": 278,
   "metadata": {},
   "outputs": [
    {
     "data": {
      "text/plain": [
       "['2', '7', '8', '3', '9', '1', '5', '4', '6', '0']"
      ]
     },
     "execution_count": 278,
     "metadata": {},
     "output_type": "execute_result"
    }
   ],
   "source": [
    "lexicographic_permutation(1000000, digits)"
   ]
  },
  {
   "cell_type": "markdown",
   "metadata": {},
   "source": [
    "---\n",
    "**Question 25:** What is the index of the first term in the Fibonacci sequence to contain 1000 digits?"
   ]
  },
  {
   "cell_type": "code",
   "execution_count": 1,
   "metadata": {},
   "outputs": [],
   "source": [
    "fib_seq = [1,1]\n",
    "while len(str(fib_seq[-1])) < 1000:\n",
    "    new_term = fib_seq[-1] + fib_seq[-2]\n",
    "    fib_seq.append(new_term)"
   ]
  },
  {
   "cell_type": "code",
   "execution_count": 7,
   "metadata": {},
   "outputs": [
    {
     "name": "stdout",
     "output_type": "stream",
     "text": [
      "The first term to contain 1000 digits has index 4782.\n"
     ]
    }
   ],
   "source": [
    "print(\"The first term to contain 1000 digits has index {}.\".format(len(fib_seq)))"
   ]
  },
  {
   "cell_type": "markdown",
   "metadata": {},
   "source": [
    "---\n",
    "**Question 26:** Find the value of d < 1000 for which 1/d contains the longest recurring cycle in its decimal fraction part.\n",
    "\n",
    "First, we need to have a function that does long division without terminating the quotient."
   ]
  },
  {
   "cell_type": "code",
   "execution_count": 369,
   "metadata": {},
   "outputs": [],
   "source": [
    "def long_string_quotient(divisor):\n",
    "    '''Produce a string truncated at length 200 that is the decimal expansion \n",
    "    for 1 divided by the given number. We then use the dividends of each sub division\n",
    "    problem to find cycles in the quotient.\n",
    "    \n",
    "    Remembering how to do long division is not trivial!'''\n",
    "    \n",
    "    #A couple case errors\n",
    "    if type(divisor) != int:\n",
    "        print(\"Input value must be an integer. {}-type was given.\".format(type(divisor)))\n",
    "        return 'Error.'\n",
    "    if divisor < 1 or divisor >= 1000:\n",
    "        print(\"Value must be an integer between 2 and 999.\")\n",
    "        return 'Error.'\n",
    "    \n",
    "    quotient = \"\"\n",
    "    starting_dividend = {1: 10, 2: 100, 3: 1000}\n",
    "    \n",
    "    #Initialize at ten\n",
    "    dividend = starting_dividend[len(str(divisor))]\n",
    "    dividend_list = [dividend]\n",
    "    \n",
    "    #Cycle through until we are done or have a string 250 characters long\n",
    "    while len(quotient) < 1000:\n",
    "        \n",
    "        partitions = dividend // divisor\n",
    "        remainder = dividend - divisor * partitions\n",
    "        #Update quotient\n",
    "        quotient += str(partitions)\n",
    "        \n",
    "        #Break case for no cycles:\n",
    "        if remainder == 0:\n",
    "            return '{}'.format(1/divisor), 0\n",
    "        \n",
    "        #Update new dividend with remainder: (Recall carrying down the zero)\n",
    "        dividend = remainder * 10\n",
    "        #If we've seen this same dividend before, then we have a cycle!\n",
    "        if dividend in dividend_list:\n",
    "            index = [i for i, val in enumerate(dividend_list) if val == dividend][0]\n",
    "            cycle = quotient[index:]\n",
    "            beginning = quotient[:index]\n",
    "            return \"0.\"+beginning+\"({})\".format(cycle), len(cycle)\n",
    "        \n",
    "        else:\n",
    "            #update the list of dividends    \n",
    "            dividend_list.append(dividend)\n",
    "        \n",
    "    return quotient, \"Not done looking.\""
   ]
  },
  {
   "cell_type": "code",
   "execution_count": 370,
   "metadata": {},
   "outputs": [
    {
     "name": "stdout",
     "output_type": "stream",
     "text": [
      "Input value must be an integer. <class 'str'>-type was given.\n"
     ]
    },
    {
     "data": {
      "text/plain": [
       "'Error.'"
      ]
     },
     "execution_count": 370,
     "metadata": {},
     "output_type": "execute_result"
    }
   ],
   "source": [
    "long_string_quotient('What do I put here?')"
   ]
  },
  {
   "cell_type": "code",
   "execution_count": 371,
   "metadata": {},
   "outputs": [
    {
     "name": "stdout",
     "output_type": "stream",
     "text": [
      "Value must be an integer between 2 and 999.\n"
     ]
    },
    {
     "data": {
      "text/plain": [
       "'Error.'"
      ]
     },
     "execution_count": 371,
     "metadata": {},
     "output_type": "execute_result"
    }
   ],
   "source": [
    "long_string_quotient(2000)"
   ]
  },
  {
   "cell_type": "code",
   "execution_count": 373,
   "metadata": {},
   "outputs": [
    {
     "name": "stdout",
     "output_type": "stream",
     "text": [
      "0.(142857)\n",
      "6\n"
     ]
    }
   ],
   "source": [
    "#From the example:\n",
    "q, cycle_len = long_string_quotient(7)\n",
    "print(q)\n",
    "print(cycle_len)"
   ]
  },
  {
   "cell_type": "code",
   "execution_count": 376,
   "metadata": {},
   "outputs": [],
   "source": [
    "quotients = [long_string_quotient(i)[0] for i in range(1,1000)] \n",
    "cycle_lengths = [long_string_quotient(i)[1] for i in range(1,1000)]"
   ]
  },
  {
   "cell_type": "code",
   "execution_count": 382,
   "metadata": {},
   "outputs": [
    {
     "data": {
      "text/plain": [
       "982"
      ]
     },
     "execution_count": 382,
     "metadata": {},
     "output_type": "execute_result"
    }
   ],
   "source": [
    "number = [i for i, val in enumerate(cycle_lengths) if val == max(cycle_lengths)][0]\n",
    "number"
   ]
  },
  {
   "cell_type": "code",
   "execution_count": 381,
   "metadata": {},
   "outputs": [
    {
     "name": "stdout",
     "output_type": "stream",
     "text": [
      "0.(1017293997965412004069175991861648016276703967446592065106815869786368260427263479145473041709053916581892166836215666327568667344862665310274669379450661241098677517802644964394710071210579857578840284842319430315361139369277721261444557477110885045778229908443540183112919633774160732451678535096642929806714140386571719226856561546286876907426246185147507629704984740590030518819938962360122075279755849440488301119023397761953204476093591047812817904374364191251271617497456765005086469989827060020345879959308240081383519837232960325534079348931841302136317395727365208545269582909460834181078331637843336724313326551373346897253306205493387589013224821973550356052899287894201424211597151576805696846388606307222787385554425228891149542217700915564598168870803662258392675483214649033570701932858596134282807731434384537131230925737538148524923702950152594099694811800610376398779247202441505595116988809766022380467955239064089521871820956256358087487283825025432349949135300)\n"
     ]
    }
   ],
   "source": [
    "#Check this out:\n",
    "print(quotients[number])"
   ]
  },
  {
   "cell_type": "markdown",
   "metadata": {},
   "source": [
    "---\n",
    "**Question 27:** Quadratic Primes (coming soon)"
   ]
  }
 ],
 "metadata": {
  "kernelspec": {
   "display_name": "Python 3",
   "language": "python",
   "name": "python3"
  },
  "language_info": {
   "codemirror_mode": {
    "name": "ipython",
    "version": 3
   },
   "file_extension": ".py",
   "mimetype": "text/x-python",
   "name": "python",
   "nbconvert_exporter": "python",
   "pygments_lexer": "ipython3",
   "version": "3.7.7"
  }
 },
 "nbformat": 4,
 "nbformat_minor": 4
}
