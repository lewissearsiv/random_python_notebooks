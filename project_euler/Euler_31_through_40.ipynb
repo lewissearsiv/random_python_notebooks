{
 "cells": [
  {
   "cell_type": "markdown",
   "id": "d5cbe316",
   "metadata": {},
   "source": [
    "## Project Euler \n",
    "#### Questions 31-40\n",
    "\n",
    "Continuing the quest to solve every Euler question!"
   ]
  },
  {
   "cell_type": "markdown",
   "id": "c72130ec",
   "metadata": {},
   "source": [
    "---\n",
    "**Problem 31:** Coin sums\n",
    "\n",
    "In the United Kingdom the currency is made up of pound (£) and pence (p). There are eight coins in general circulation: 1p, 2p, 5p, 10p, 20p, 50p, £1 (100p), and £2 (200p).\n",
    "\n",
    "How many different ways can £2 be made using any number of coins?"
   ]
  },
  {
   "cell_type": "code",
   "execution_count": 76,
   "id": "ae0d5653",
   "metadata": {},
   "outputs": [],
   "source": [
    "#Make a list of all coins:\n",
    "coins = [200,100,50,20,10,5,2,1]"
   ]
  },
  {
   "cell_type": "code",
   "execution_count": 78,
   "id": "e43db6ec",
   "metadata": {},
   "outputs": [],
   "source": [
    "#This is a classic recursion problem!\n",
    "def ways_possible_change(input_coin_list, amount_to_change):\n",
    "    '''Input a set of coins with set values and any amount of money, \n",
    "    output the number of possible combinations of coins to make that amount.'''\n",
    "    \n",
    "    input_coin_list.sort()\n",
    "    coin_list = input_coin_list[::-1]\n",
    "    coin_list = [coin for coin in coin_list if coin <= amount_to_change]\n",
    "    \n",
    "    #Fully divided ammount\n",
    "    if amount_to_change == 0:\n",
    "        return 1\n",
    "    \n",
    "    #One coin left\n",
    "    elif len(coin_list) == 1:\n",
    "        if amount_to_change % coin_list[0] == 0:\n",
    "            return 1\n",
    "        else:\n",
    "            return 0\n",
    "    \n",
    "    #Coin equals amount to change\n",
    "    elif coin_list[0] == amount_to_change:\n",
    "        return ways_possible_change(coin_list[1:], amount_to_change)+1\n",
    "    \n",
    "    else:\n",
    "        partitions = amount_to_change // coin_list[0]\n",
    "        change_left_over = [amount_to_change - coin_list[0]*(i) for i in range(int(partitions)+1)]\n",
    "        return sum([ways_possible_change(coin_list[1:], amount) for amount in change_left_over])"
   ]
  },
  {
   "cell_type": "code",
   "execution_count": 77,
   "id": "4835823f",
   "metadata": {},
   "outputs": [
    {
     "data": {
      "text/plain": [
       "73682"
      ]
     },
     "execution_count": 77,
     "metadata": {},
     "output_type": "execute_result"
    }
   ],
   "source": [
    "ways_possible_change(coins, 200)"
   ]
  },
  {
   "cell_type": "code",
   "execution_count": 79,
   "id": "50b0a0f7",
   "metadata": {},
   "outputs": [
    {
     "data": {
      "text/plain": [
       "242"
      ]
     },
     "execution_count": 79,
     "metadata": {},
     "output_type": "execute_result"
    }
   ],
   "source": [
    "#For fun, ways to change a dollar:\n",
    "ways_possible_change([25,10,5,1], 100)"
   ]
  },
  {
   "cell_type": "markdown",
   "id": "40611f16",
   "metadata": {},
   "source": [
    "---\n",
    "**Problem 32:** Pandigital Products\n",
    "\n",
    "We shall say that an n-digit number is pandigital if it makes use of all the digits 1 to n exactly once; for example, the 5-digit number, 15234, is 1 through 5 pandigital.\n",
    "\n",
    "The product 7254 is unusual, as the identity, 39 × 186 = 7254, containing multiplicand, multiplier, and product is 1 through 9 pandigital. Find the sum of all products whose multiplicand/multiplier/product identity can be written as a 1 through 9 pandigital.\n",
    "\n",
    "**Some Notation and Notes:** We will use the variables $a,b,c\\in\\mathbb{Z}^{+}$ for the equation $a\\times b = c$ with the text expansion $\\{a_i\\},\\{b_i\\},\\{c_i\\}$ with cardinalities $n_a,n_b,$ and $n_b$, respectively, such that $\\{a_i\\}\\cup\\{b_i\\}\\cup\\{c_i\\} = \\{1,2,\\ldots,8,9\\}.$ First, I will create some algorithms to check if the trio is a successful match. We obviously can't check everything, so the next step will be to intelligently reduce the search space!"
   ]
  },
  {
   "cell_type": "code",
   "execution_count": 64,
   "id": "97c79717",
   "metadata": {},
   "outputs": [
    {
     "data": {
      "text/plain": [
       "(True, False, False)"
      ]
     },
     "execution_count": 64,
     "metadata": {},
     "output_type": "execute_result"
    }
   ],
   "source": [
    "#First define the brute force checkers\n",
    "successful_set = {'1', '2', '3', '4', '5', '6', '7', '8', '9'}\n",
    "def num_len(number):\n",
    "    return len(str(number))\n",
    "def num_to_list(number):\n",
    "    return [str(number)[i] for i in range(len(str(number)))]\n",
    "def possible(number):\n",
    "    if '0' in num_to_list(number):\n",
    "        return False\n",
    "    return len(num_to_list(number)) == len(set(num_to_list(number)))\n",
    "def check_group(pair):\n",
    "    total_digits = num_to_list(pair[0])+num_to_list(pair[1])\n",
    "    return len(total_digits) == len(set(total_digits))\n",
    "def check_abc(a,b,c):\n",
    "    if num_len(a) + num_len(b) + num_len(c) != 9:\n",
    "        return False\n",
    "    if set(num_to_list(a) + num_to_list(b) + num_to_list(c)) != successful_set:\n",
    "        return False\n",
    "    return True\n",
    "check_abc(39,186,7254), possible(1023), check_group([38,173])"
   ]
  },
  {
   "cell_type": "markdown",
   "id": "18a6fbed",
   "metadata": {},
   "source": [
    "First, note that $k_a+k_b > 4$ is a necessary condition since otherwise the product is bounded by $9\\times 999 = 8991$ and $99*99 = 9801$ above, neither of which have the trio $(a,b,c)$ with a sum of 9 digits. Second, $k_a + k_b < 6$ since the lower bound $1\\times 10000 = 10000$ gives a trio of ten digits. So we have $k_a+k_b = 5$.To avoid redundancy, we will say that $a<b$. That gives us $2\\leq a<100$ and $100\\leq b < 10000$  since $k_b \\geq k_a$ shrinking the search space immensely. So now, we will create a list using this range, filter first all $a,b$ that have duplicate digits independently, then filter $a,b$ with duplicate digits, and then create a product and check that it has unique digits. By filtering, we will have less than 6000 trios to check."
   ]
  },
  {
   "cell_type": "code",
   "execution_count": 72,
   "id": "67dba371",
   "metadata": {},
   "outputs": [
    {
     "name": "stdout",
     "output_type": "stream",
     "text": [
      "60480\n",
      "28560\n",
      "5566\n"
     ]
    }
   ],
   "source": [
    "a = [i for i in range(2, 100) if possible(i)]\n",
    "#Filter double numbers\n",
    "four_digits = [num for num in range(1000, 10000) if possible(num)]\n",
    "three_digits = [num for num in range(100, 1000) if possible(num)]\n",
    "First_cut = []\n",
    "for num in a:\n",
    "    if num_len(num) == 1:\n",
    "        First_cut += [[num, num_4] for num_4 in four_digits]\n",
    "    else:\n",
    "        First_cut += [[num, num_3] for num_3 in three_digits]\n",
    "print(len(second_cut))\n",
    "Second_cut = [tuple_ for tuple_ in First_cut if check_pair(tuple_)]\n",
    "print(len(third_cut))\n",
    "final_cut = [[pair[0],pair[1],pair[0]*pair[1]] for pair in Second_cut if possible(pair[0]*pair[1])]\n",
    "print(len(final_cut))\n",
    "#And finally, brute force the rest\n",
    "desired_triplets = [trio for trio in final_cut if check_abc(trio[0],trio[1],trio[2])]"
   ]
  },
  {
   "cell_type": "code",
   "execution_count": 73,
   "id": "44ebbac2",
   "metadata": {},
   "outputs": [
    {
     "name": "stdout",
     "output_type": "stream",
     "text": [
      "Number of Products: 7\n",
      "Sum of Products: 45228\n"
     ]
    },
    {
     "data": {
      "text/plain": [
       "[5346, 5796, 6952, 7852, 4396, 7632, 7254]"
      ]
     },
     "execution_count": 73,
     "metadata": {},
     "output_type": "execute_result"
    }
   ],
   "source": [
    "#We have some more duplicates:\n",
    "final_list_of_c = list(set([trio[2] for trio in desired_triplets]))\n",
    "print(\"Number of Products: {}\".format(len(final_list_of_c)))\n",
    "print(\"Sum of Products: {}\".format(sum(final_list_of_c)))\n",
    "final_list_of_c"
   ]
  },
  {
   "cell_type": "markdown",
   "id": "fe35399f",
   "metadata": {},
   "source": [
    "---\n",
    "**Problem 33:** Curious Fractions\n",
    "\n",
    "The fraction 49/98 is a curious fraction, as an inexperienced mathematician in attempting to simplify it may incorrectly believe that 49/98 = 4/8, which is correct, is obtained by cancelling the 9s.\n",
    "\n",
    "We shall consider fractions like, 30/50 = 3/5, to be trivial examples.\n",
    "\n",
    "There are exactly four non-trivial examples of this type of fraction, less than one in value, and containing two digits in the numerator and denominator. If the product of these four fractions is given in its lowest common terms, find the value of the denominator.\n",
    "\n",
    "**Strategy:** Like every other question, we should first filter out the cases."
   ]
  },
  {
   "cell_type": "code",
   "execution_count": 198,
   "id": "f3083cce",
   "metadata": {},
   "outputs": [
    {
     "name": "stdout",
     "output_type": "stream",
     "text": [
      "       Number of total fractions: 4005\n",
      "          Number after first cut: 1377\n",
      "    Number of cases without zero: 1188\n"
     ]
    }
   ],
   "source": [
    "#Make all fractions with two digits in numerator/demoninator less than 1\n",
    "numerators = [i for i in range(10, 99)]\n",
    "all_fracs = []\n",
    "for num in numerators:\n",
    "    all_fracs += ['{}/{}'.format(num, j) for j in range(num+1, 100)]\n",
    "print(\"       Number of total fractions: {}\".format(len(all_fracs)))\n",
    "\n",
    "#First cut all the fractions which num/den don't share a common digit\n",
    "def duplicate_digits(str_frac):\n",
    "    numerator, denominator = str_frac.split('/')\n",
    "    common_digits = [digit for digit in denominator if numerator.find(digit) != -1]\n",
    "    return len(common_digits) != 0\n",
    "first_cut = [frac for frac in all_fracs if duplicate_digits(frac)]\n",
    "print(\"          Number after first cut: {}\".format(len(first_cut)))\n",
    "\n",
    "#Cut any cases with 0's in num or den.\n",
    "#First, this will cut out all trivial cases\n",
    "#If the fraction isn't trivial, canceling the remaining values in the non-intellegent way\n",
    "        #will leave the fraction either equal to 0, or undefined.\n",
    "def no_zeros(str_frac):\n",
    "    numerator, denominator = str_frac.split('/')\n",
    "    if numerator.find('0') + denominator.find('0') > -2:\n",
    "        return False\n",
    "    return True\n",
    "second_cut = [frac for frac in first_cut if no_zeros(frac)]\n",
    "print(\"    Number of cases without zero: {}\".format(len(second_cut)))"
   ]
  },
  {
   "cell_type": "code",
   "execution_count": 212,
   "id": "f86a99ef",
   "metadata": {},
   "outputs": [
    {
     "data": {
      "text/plain": [
       "['16/64', '19/95', '26/65', '49/98']"
      ]
     },
     "execution_count": 212,
     "metadata": {},
     "output_type": "execute_result"
    }
   ],
   "source": [
    "def condition(a,b,ca,cb):\n",
    "    return (a*cb)/(b*ca) == 1\n",
    "\n",
    "def test_pairs(fraction):\n",
    "    #Split the fraction\n",
    "    a, b = fraction.split('/')\n",
    "    if b.find(a[0]) != -1:\n",
    "        if condition(int(a), int(b), int(a[1]), int(b[(b.find(a[0])+1)%2])):\n",
    "            return True\n",
    "    if b.find(a[1]) != -1:\n",
    "        if condition(int(a), int(b), int(a[0]), int(b[(b.find(a[1])+1)%2])):\n",
    "            return True\n",
    "    return False \n",
    "final_list = [frac for frac in second_cut if test_pairs(frac)]\n",
    "final_list"
   ]
  },
  {
   "cell_type": "code",
   "execution_count": 202,
   "id": "076bb19e",
   "metadata": {},
   "outputs": [
    {
     "data": {
      "text/plain": [
       "(387296, 38729600)"
      ]
     },
     "execution_count": 202,
     "metadata": {},
     "output_type": "execute_result"
    }
   ],
   "source": [
    "num = 1\n",
    "for x in final_list:\n",
    "    num *= int(x[:2])\n",
    "den = 1\n",
    "for x in final_list:\n",
    "    den *= int(x[3:])\n",
    "num, den"
   ]
  },
  {
   "cell_type": "code",
   "execution_count": 213,
   "id": "060c9dda",
   "metadata": {},
   "outputs": [
    {
     "data": {
      "text/plain": [
       "({2: 5, 7: 2, 13: 1, 19: 1}, {2: 7, 5: 2, 7: 2, 13: 1, 19: 1})"
      ]
     },
     "execution_count": 213,
     "metadata": {},
     "output_type": "execute_result"
    }
   ],
   "source": [
    "#We will need this function we've used before:\n",
    "def is_prime(num):\n",
    "    for i in range(2, num//2+1):\n",
    "        if abs(num) % i == 0:\n",
    "            return False\n",
    "    return True  \n",
    "primes_under_100 = [number for number in range(2, 10000) if is_prime(number)]\n",
    "def prime_factorization(number):\n",
    "    '''Take a number, return a prime factorization.'''\n",
    "    \n",
    "    factors = [possible_factor for possible_factor in primes_under_100 if number % possible_factor == 0]\n",
    "    powers = []\n",
    "    for factor in factors:\n",
    "        remainder = number\n",
    "        power = 1\n",
    "        while remainder % factor == 0:\n",
    "            remainder = remainder/factor\n",
    "            if remainder % factor == 0:\n",
    "                power += 1\n",
    "        powers.append(power)  \n",
    "    return {factors[k]: powers[k] for k in range(len(factors))}\n",
    "top = prime_factorization(num)\n",
    "bottom = prime_factorization(den)\n",
    "top, bottom"
   ]
  },
  {
   "cell_type": "code",
   "execution_count": 216,
   "id": "82e5d6c5",
   "metadata": {},
   "outputs": [
    {
     "data": {
      "text/plain": [
       "({2: 0, 7: 0, 13: 0, 19: 0}, {2: 2, 5: 2, 7: 0, 13: 0, 19: 0})"
      ]
     },
     "execution_count": 216,
     "metadata": {},
     "output_type": "execute_result"
    }
   ],
   "source": [
    "factored_top = top.copy()\n",
    "factored_bottom = bottom.copy()\n",
    "for key in top.keys():\n",
    "    if key in bottom.keys():\n",
    "        factored_top[key] = top[key] - min(top[key], bottom[key])\n",
    "        factored_bottom[key] = bottom[key] - min(top[key], bottom[key])\n",
    "factored_top, factored_bottom"
   ]
  },
  {
   "cell_type": "markdown",
   "id": "0d04fabf",
   "metadata": {},
   "source": [
    "So, the final fraction is 1/100!"
   ]
  },
  {
   "cell_type": "markdown",
   "id": "435c9714",
   "metadata": {},
   "source": [
    "---\n",
    "**Problem 34:** Digit Factorials\n",
    "\n",
    "145 is a curious number, as $1! + 4! + 5! = 1 + 24 + 120 = 145$.\n",
    "\n",
    "Find the sum of all numbers which are equal to the sum of the factorial of their digits.\n",
    "\n",
    "Note: As 1! = 1 and 2! = 2 are not sums they are not included.\n",
    "\n",
    "**Strategy:** Get an upper bound for the search space. "
   ]
  },
  {
   "cell_type": "code",
   "execution_count": 83,
   "id": "70f6683c",
   "metadata": {},
   "outputs": [
    {
     "name": "stdout",
     "output_type": "stream",
     "text": [
      "At 10000000, the sum of the factorial of digits cannot be greater than the number itsself,\n",
      "since each digit has a math factorial of 362880 which times the length of digits is less.\n"
     ]
    }
   ],
   "source": [
    "i = 1\n",
    "digits = 10 ** i \n",
    "upper_bound = i * math.factorial(9)\n",
    "while upper_bound > digits:\n",
    "    i += 1\n",
    "    digits = 10 ** i \n",
    "    upper_bound = i * math.factorial(9)\n",
    "print(\"At {}, the sum of the factorial of digits cannot be greater than the number itsself,\\n\\\n",
    "since each digit has a math factorial of {} which times the length of digits is less.\".format(10**i, math.factorial(9)))"
   ]
  },
  {
   "cell_type": "code",
   "execution_count": 11,
   "id": "63276a02",
   "metadata": {},
   "outputs": [],
   "source": [
    "import math\n",
    "def digit_factorial_sum(num):\n",
    "    '''Takes the sum of the factorial of each digit in a number.\n",
    "    '''\n",
    "    string = str(num)\n",
    "    return sum([math.factorial(int(string[i])) for i in range(len(string))])"
   ]
  },
  {
   "cell_type": "code",
   "execution_count": 35,
   "id": "3e86679e",
   "metadata": {},
   "outputs": [],
   "source": [
    "list_to_upper_bound = [i for i in range(3,10**7) if i == digit_factorial_sum(i)]"
   ]
  },
  {
   "cell_type": "code",
   "execution_count": 38,
   "id": "b535f202",
   "metadata": {},
   "outputs": [
    {
     "data": {
      "text/plain": [
       "([145, 40585], 40730)"
      ]
     },
     "execution_count": 38,
     "metadata": {},
     "output_type": "execute_result"
    }
   ],
   "source": [
    "list_to_upper_bound, sum(list_to_upper_bound)"
   ]
  },
  {
   "cell_type": "markdown",
   "id": "2b54411d",
   "metadata": {},
   "source": [
    "---\n",
    "**Problem 35:** Circular Primes\n",
    "    \n",
    "The number, 197, is called a circular prime because all rotations of the digits: 197, 971, and 719, are themselves prime.\n",
    "\n",
    "There are thirteen such primes below 100: 2, 3, 5, 7, 11, 13, 17, 31, 37, 71, 73, 79, and 97.\n",
    "\n",
    "How many circular primes are there below one million?\n",
    "\n",
    "**Strategy:** First filter out any numbers which have an even numbers (including 0) since at least one rotation will be divisible by 2. Apply this same logic with the number 5 since one rotation will be divisible by 5. Second, we will check if the first number is prime before we check all rotations. "
   ]
  },
  {
   "cell_type": "code",
   "execution_count": 84,
   "id": "18f9cf9c",
   "metadata": {},
   "outputs": [],
   "source": [
    "def is_prime(num):\n",
    "    for i in range(2, num//2+1):\n",
    "        if num % i == 0:\n",
    "            return False\n",
    "    return True"
   ]
  },
  {
   "cell_type": "code",
   "execution_count": 53,
   "id": "30247fe6",
   "metadata": {},
   "outputs": [
    {
     "data": {
      "text/plain": [
       "[0, 2, 4, 5, 6, 8]"
      ]
     },
     "execution_count": 53,
     "metadata": {},
     "output_type": "execute_result"
    }
   ],
   "source": [
    "bad_nums = [2*i for i in range(5)]\n",
    "bad_nums.append(5)\n",
    "bad_nums.sort()\n",
    "bad_nums"
   ]
  },
  {
   "cell_type": "code",
   "execution_count": 80,
   "id": "7f96794c",
   "metadata": {},
   "outputs": [
    {
     "data": {
      "text/plain": [
       "5440"
      ]
     },
     "execution_count": 80,
     "metadata": {},
     "output_type": "execute_result"
    }
   ],
   "source": [
    "def no_bad_nums(number):\n",
    "    '''Input number and return boolean if number has bad digit from above.\n",
    "    '''\n",
    "    string_number = str(number)\n",
    "    finder_sum = sum([string_number.find(str(num)) for num in bad_nums])\n",
    "    return finder_sum == -6\n",
    "filtered_search_space = [i for i in range(100,1000001) if no_bad_nums(i)]\n",
    "#The seach space decreased by 99.5%!\n",
    "len(filtered_search_space)"
   ]
  },
  {
   "cell_type": "code",
   "execution_count": 118,
   "id": "67b2fa99",
   "metadata": {},
   "outputs": [
    {
     "name": "stdout",
     "output_type": "stream",
     "text": [
      "1099\n"
     ]
    },
    {
     "data": {
      "text/plain": [
       "[113, 131, 137, 139, 173]"
      ]
     },
     "execution_count": 118,
     "metadata": {},
     "output_type": "execute_result"
    }
   ],
   "source": [
    "#Clean some more\n",
    "more_filtered = [num for num in filtered_search_space if is_prime(num)]\n",
    "print(len(more_filtered))\n",
    "more_filtered[:5]"
   ]
  },
  {
   "cell_type": "code",
   "execution_count": 119,
   "id": "38787219",
   "metadata": {},
   "outputs": [],
   "source": [
    "def circulate_numbers(number):\n",
    "    '''Takes a k-digit number and gives all rotation of it's digits with the correct order\n",
    "       in a list. Since we have already checked the number itsself, we only need the\n",
    "       rotations.\n",
    "    '''\n",
    "    digits = len(str(number))\n",
    "    number_squared = str(number)*2\n",
    "    return [int(number_squared[i:i+digits]) for i in range(1,digits)]\n",
    "rotations_of_possible_numbers = [circulate_numbers(num) for num in more_filtered]"
   ]
  },
  {
   "cell_type": "code",
   "execution_count": 128,
   "id": "c5fa37a1",
   "metadata": {},
   "outputs": [],
   "source": [
    "def all_elements_prime(rotation_list):\n",
    "    for rotation in rotation_list:\n",
    "        if not is_prime(rotation):\n",
    "            return False\n",
    "    return True\n",
    "rotations_are_prime_bool = [all_elements_prime(rotation) for rotation in rotations_of_possible_numbers]"
   ]
  },
  {
   "cell_type": "code",
   "execution_count": 129,
   "id": "05a8f6d3",
   "metadata": {},
   "outputs": [],
   "source": [
    "final_list = [more_filtered[i] for i in range(len(more_filtered)) if rotations_are_prime_bool[i]]"
   ]
  },
  {
   "cell_type": "code",
   "execution_count": 132,
   "id": "787c6198",
   "metadata": {},
   "outputs": [
    {
     "name": "stdout",
     "output_type": "stream",
     "text": [
      "The number of circular primes under 1 million is 55.\n"
     ]
    }
   ],
   "source": [
    "print(\"The number of circular primes under 1 million is {}.\".format(len(final_list)+13))"
   ]
  },
  {
   "cell_type": "markdown",
   "id": "e1c1c5c7",
   "metadata": {},
   "source": [
    "---\n",
    "**Problem 36:** Double-base Palindromes\n",
    "    \n",
    "The decimal number, $585 = 1001001001_{2}$ (binary), is palindromic in both bases.\n",
    "\n",
    "Find the sum of all numbers, less than one million, which are palindromic in base 10 and base 2.\n",
    "\n",
    "(Please note that the palindromic number, in either base, may not include leading zeros.)\n",
    "\n",
    "**Strategy:** First filter the base ten palindromes (the standard way we write numbers) since it is computationally fast. Then figure out how the hell to convert to binary and check those."
   ]
  },
  {
   "cell_type": "code",
   "execution_count": 9,
   "id": "93dad49f",
   "metadata": {},
   "outputs": [],
   "source": [
    "#Simple checker to see if a number is a base ten palindrome\n",
    "def palindrome_number(num):\n",
    "    return str(num) == str(num)[::-1]"
   ]
  },
  {
   "cell_type": "code",
   "execution_count": 10,
   "id": "4ac17d69",
   "metadata": {},
   "outputs": [
    {
     "data": {
      "text/plain": [
       "1998"
      ]
     },
     "execution_count": 10,
     "metadata": {},
     "output_type": "execute_result"
    }
   ],
   "source": [
    "all_palindromes_base_10 = [i for i in range(1, 1000000) if palindrome_number(i)]\n",
    "len(all_palindromes_base_10)"
   ]
  },
  {
   "cell_type": "code",
   "execution_count": 15,
   "id": "94ec4249",
   "metadata": {},
   "outputs": [
    {
     "name": "stdout",
     "output_type": "stream",
     "text": [
      "The upper bound for digits in base two for our search space is 2 to the 19 power.\n"
     ]
    }
   ],
   "source": [
    "k = 1\n",
    "while 2**k < 1000000:\n",
    "    k+=1\n",
    "print(\"The upper bound for digits in base two for our search space is 2 to the {} power.\".format(k-1))"
   ]
  },
  {
   "cell_type": "code",
   "execution_count": 40,
   "id": "e292c6d4",
   "metadata": {},
   "outputs": [
    {
     "data": {
      "text/plain": [
       "(True, False)"
      ]
     },
     "execution_count": 40,
     "metadata": {},
     "output_type": "execute_result"
    }
   ],
   "source": [
    "powers_of_two = [2**i for i in range(19,-1, -1)]\n",
    "def base_2_palindrome(num):\n",
    "    '''Take a base ten number and make it a binary base 2.\n",
    "    '''\n",
    "    #Make list of all possible powers of 2\n",
    "    relevant_powers = [power_two for power_two in powers_of_two if power_two <= num]\n",
    "    \n",
    "    #Make a string of the binary format\n",
    "    base_2_string = \"\"\n",
    "    remainder = num\n",
    "    for power in relevant_powers:\n",
    "        if remainder >= power:\n",
    "            base_2_string += \"1\"\n",
    "            remainder -= power\n",
    "        else:\n",
    "            base_2_string += \"0\"\n",
    "    \n",
    "    return palindrome_number(base_2_string)\n",
    "#Check:\n",
    "base_2_palindrome(585), base_2_palindrome(586)"
   ]
  },
  {
   "cell_type": "code",
   "execution_count": 42,
   "id": "3cc498cc",
   "metadata": {},
   "outputs": [
    {
     "name": "stdout",
     "output_type": "stream",
     "text": [
      "There are 19 numbers that are palindromes in base 2 and 10 under 1 million.\n",
      "Their sum is: 872187\n"
     ]
    }
   ],
   "source": [
    "all_palindromes = [num for num in all_palindromes_base_10 if base_2_palindrome(num)]\n",
    "print(\"There are {} numbers that are palindromes in base 2 and 10 under 1 million.\".format(len(all_palindromes)))\n",
    "print(\"Their sum is: {}\".format(sum(all_palindromes)))"
   ]
  },
  {
   "cell_type": "markdown",
   "id": "f4ad378c",
   "metadata": {},
   "source": [
    "---\n",
    "**Problem 37:** Truncatable primes\n",
    "\n",
    "The number 3797 has an interesting property. Being prime itself, it is possible to continuously remove digits from left to right, and remain prime at each stage: 3797, 797, 97, and 7. Similarly we can work from right to left: 3797, 379, 37, and 3.\n",
    "\n",
    "Find the sum of the only eleven primes that are both truncatable from left to right and right to left.\n",
    "\n",
    "NOTE: 2, 3, 5, and 7 are not considered to be truncatable primes.\n",
    "\n",
    "**Strategy:** Find a way to bound this question in some way. Then filter out all numbers that contain one of $\\{0, 2, 4, 5, 6, 8\\}$ in any digit but the first and any number that starts or ends with one of $\\{4, 6, 8, 9\\}$. "
   ]
  },
  {
   "cell_type": "code",
   "execution_count": 74,
   "id": "2c7cfaf1",
   "metadata": {},
   "outputs": [],
   "source": [
    "bad_nums = ['0','2','4','5','6','8']\n",
    "bad_first_nums = ['4', '6', '8', '9']\n",
    "def filter_function(num):\n",
    "    '''Input a number > 10 as a string. Will filter on our stated conditions.\n",
    "    '''\n",
    "    if sum([num_string[1:].find(i) for i in bad_nums]) != -6:\n",
    "        return False\n",
    "    if num_string[0] in bad_first_nums:\n",
    "        return False\n",
    "    if num_string[-1] == '9':\n",
    "        return False\n",
    "    return True"
   ]
  },
  {
   "cell_type": "code",
   "execution_count": 81,
   "id": "6223f659",
   "metadata": {},
   "outputs": [],
   "source": [
    "#See how many are between 10 and 1 million\n",
    "filtered_numbers = [num for num in range(10, 1000001) if filter_function(num)]\n",
    "len(filtered_numbers)"
   ]
  },
  {
   "cell_type": "code",
   "execution_count": 89,
   "id": "647a35ea",
   "metadata": {},
   "outputs": [
    {
     "data": {
      "text/plain": [
       "1076"
      ]
     },
     "execution_count": 89,
     "metadata": {},
     "output_type": "execute_result"
    }
   ],
   "source": [
    "def is_prime_semi_fast(num):\n",
    "    '''No need to search for even numbers.\n",
    "    '''\n",
    "    for i in range(3, num//2+2, 2):\n",
    "        if num % i == 0:\n",
    "            return False\n",
    "    return True\n",
    "filtered_and_prime = [num for num in filtered_numbers if is_prime_semi_fast(num)]\n",
    "len(filtered_and_prime)"
   ]
  },
  {
   "cell_type": "code",
   "execution_count": null,
   "id": "eba86857",
   "metadata": {},
   "outputs": [],
   "source": []
  }
 ],
 "metadata": {
  "kernelspec": {
   "display_name": "Python 3",
   "language": "python",
   "name": "python3"
  },
  "language_info": {
   "codemirror_mode": {
    "name": "ipython",
    "version": 3
   },
   "file_extension": ".py",
   "mimetype": "text/x-python",
   "name": "python",
   "nbconvert_exporter": "python",
   "pygments_lexer": "ipython3",
   "version": "3.7.7"
  }
 },
 "nbformat": 4,
 "nbformat_minor": 5
}
