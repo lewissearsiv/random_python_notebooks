{
 "cells": [
  {
   "cell_type": "markdown",
   "id": "d5cbe316",
   "metadata": {},
   "source": [
    "## Project Euler \n",
    "#### Questions 31-40\n",
    "\n",
    "Continuing the quest to solve every Euler question!"
   ]
  },
  {
   "cell_type": "markdown",
   "id": "c72130ec",
   "metadata": {},
   "source": [
    "---\n",
    "**Problem 31:** Coin sums\n",
    "\n",
    "In the United Kingdom the currency is made up of pound (£) and pence (p). There are eight coins in general circulation: 1p, 2p, 5p, 10p, 20p, 50p, £1 (100p), and £2 (200p).\n",
    "\n",
    "How many different ways can £2 be made using any number of coins?"
   ]
  },
  {
   "cell_type": "code",
   "execution_count": 76,
   "id": "ae0d5653",
   "metadata": {},
   "outputs": [],
   "source": [
    "#Make a list of all coins:\n",
    "coins = [200,100,50,20,10,5,2,1]"
   ]
  },
  {
   "cell_type": "code",
   "execution_count": 78,
   "id": "e43db6ec",
   "metadata": {},
   "outputs": [],
   "source": [
    "#This is a classic recursion problem!\n",
    "def ways_possible_change(input_coin_list, amount_to_change):\n",
    "    '''Input a set of coins with set values and any amount of money, \n",
    "    output the number of possible combinations of coins to make that amount.'''\n",
    "    \n",
    "    input_coin_list.sort()\n",
    "    coin_list = input_coin_list[::-1]\n",
    "    coin_list = [coin for coin in coin_list if coin <= amount_to_change]\n",
    "    \n",
    "    #Fully divided ammount\n",
    "    if amount_to_change == 0:\n",
    "        return 1\n",
    "    \n",
    "    #One coin left\n",
    "    elif len(coin_list) == 1:\n",
    "        if amount_to_change % coin_list[0] == 0:\n",
    "            return 1\n",
    "        else:\n",
    "            return 0\n",
    "    \n",
    "    #Coin equals amount to change\n",
    "    elif coin_list[0] == amount_to_change:\n",
    "        return ways_possible_change(coin_list[1:], amount_to_change)+1\n",
    "    \n",
    "    else:\n",
    "        partitions = amount_to_change // coin_list[0]\n",
    "        change_left_over = [amount_to_change - coin_list[0]*(i) for i in range(int(partitions)+1)]\n",
    "        return sum([ways_possible_change(coin_list[1:], amount) for amount in change_left_over])"
   ]
  },
  {
   "cell_type": "code",
   "execution_count": 77,
   "id": "4835823f",
   "metadata": {},
   "outputs": [
    {
     "data": {
      "text/plain": [
       "73682"
      ]
     },
     "execution_count": 77,
     "metadata": {},
     "output_type": "execute_result"
    }
   ],
   "source": [
    "ways_possible_change(coins, 200)"
   ]
  },
  {
   "cell_type": "code",
   "execution_count": 79,
   "id": "50b0a0f7",
   "metadata": {},
   "outputs": [
    {
     "data": {
      "text/plain": [
       "242"
      ]
     },
     "execution_count": 79,
     "metadata": {},
     "output_type": "execute_result"
    }
   ],
   "source": [
    "#For fun, ways to change a dollar:\n",
    "ways_possible_change([25,10,5,1], 100)"
   ]
  },
  {
   "cell_type": "markdown",
   "id": "40611f16",
   "metadata": {},
   "source": [
    "---\n",
    "**Problem 32:** Pandigital Products\n",
    "\n",
    "We shall say that an n-digit number is pandigital if it makes use of all the digits 1 to n exactly once; for example, the 5-digit number, 15234, is 1 through 5 pandigital.\n",
    "\n",
    "The product 7254 is unusual, as the identity, 39 × 186 = 7254, containing multiplicand, multiplier, and product is 1 through 9 pandigital. Find the sum of all products whose multiplicand/multiplier/product identity can be written as a 1 through 9 pandigital.\n",
    "\n",
    "**Some Notation and Notes:** We will use the variables $a,b,c\\in\\mathbb{Z}^{+}$ for the equation $a\\times b = c$ with the text expansion $\\{a_i\\},\\{b_i\\},\\{c_i\\}$ with cardinalities $n_a,n_b,$ and $n_b$, respectively, such that $\\{a_i\\}\\cup\\{b_i\\}\\cup\\{c_i\\} = \\{1,2,\\ldots,8,9\\}.$ First, I will create some algorithms to check if the trio is a successful match. We obviously can't check everything, so the next step will be to intelligently reduce the search space!"
   ]
  },
  {
   "cell_type": "code",
   "execution_count": 64,
   "id": "97c79717",
   "metadata": {},
   "outputs": [
    {
     "data": {
      "text/plain": [
       "(True, False, False)"
      ]
     },
     "execution_count": 64,
     "metadata": {},
     "output_type": "execute_result"
    }
   ],
   "source": [
    "#First define the brute force checkers\n",
    "successful_set = {'1', '2', '3', '4', '5', '6', '7', '8', '9'}\n",
    "def num_len(number):\n",
    "    return len(str(number))\n",
    "def num_to_list(number):\n",
    "    return [str(number)[i] for i in range(len(str(number)))]\n",
    "def possible(number):\n",
    "    if '0' in num_to_list(number):\n",
    "        return False\n",
    "    return len(num_to_list(number)) == len(set(num_to_list(number)))\n",
    "def check_group(pair):\n",
    "    total_digits = num_to_list(pair[0])+num_to_list(pair[1])\n",
    "    return len(total_digits) == len(set(total_digits))\n",
    "def check_abc(a,b,c):\n",
    "    if num_len(a) + num_len(b) + num_len(c) != 9:\n",
    "        return False\n",
    "    if set(num_to_list(a) + num_to_list(b) + num_to_list(c)) != successful_set:\n",
    "        return False\n",
    "    return True\n",
    "check_abc(39,186,7254), possible(1023), check_group([38,173])"
   ]
  },
  {
   "cell_type": "markdown",
   "id": "18a6fbed",
   "metadata": {},
   "source": [
    "First, note that $k_a+k_b > 4$ is a necessary condition since otherwise the product is bounded by $9\\times 999 = 8991$ and $99*99 = 9801$ above, neither of which have the trio $(a,b,c)$ with a sum of 9 digits. Second, $k_a + k_b < 6$ since the lower bound $1\\times 10000 = 10000$ gives a trio of ten digits. So we have $k_a+k_b = 5$.To avoid redundancy, we will say that $a<b$. That gives us $2\\leq a<100$ and $100\\leq b < 10000$  since $k_b \\geq k_a$ shrinking the search space immensely. So now, we will create a list using this range, filter first all $a,b$ that have duplicate digits independently, then filter $a,b$ with duplicate digits, and then create a product and check that it has unique digits. By filtering, we will have less than 6000 trios to check."
   ]
  },
  {
   "cell_type": "code",
   "execution_count": 72,
   "id": "67dba371",
   "metadata": {},
   "outputs": [
    {
     "name": "stdout",
     "output_type": "stream",
     "text": [
      "60480\n",
      "28560\n",
      "5566\n"
     ]
    }
   ],
   "source": [
    "a = [i for i in range(2, 100) if possible(i)]\n",
    "#Filter double numbers\n",
    "four_digits = [num for num in range(1000, 10000) if possible(num)]\n",
    "three_digits = [num for num in range(100, 1000) if possible(num)]\n",
    "First_cut = []\n",
    "for num in a:\n",
    "    if num_len(num) == 1:\n",
    "        First_cut += [[num, num_4] for num_4 in four_digits]\n",
    "    else:\n",
    "        First_cut += [[num, num_3] for num_3 in three_digits]\n",
    "print(len(second_cut))\n",
    "Second_cut = [tuple_ for tuple_ in First_cut if check_pair(tuple_)]\n",
    "print(len(third_cut))\n",
    "final_cut = [[pair[0],pair[1],pair[0]*pair[1]] for pair in Second_cut if possible(pair[0]*pair[1])]\n",
    "print(len(final_cut))\n",
    "#And finally, brute force the rest\n",
    "desired_triplets = [trio for trio in final_cut if check_abc(trio[0],trio[1],trio[2])]"
   ]
  },
  {
   "cell_type": "code",
   "execution_count": 73,
   "id": "44ebbac2",
   "metadata": {},
   "outputs": [
    {
     "name": "stdout",
     "output_type": "stream",
     "text": [
      "Number of Products: 7\n",
      "Sum of Products: 45228\n"
     ]
    },
    {
     "data": {
      "text/plain": [
       "[5346, 5796, 6952, 7852, 4396, 7632, 7254]"
      ]
     },
     "execution_count": 73,
     "metadata": {},
     "output_type": "execute_result"
    }
   ],
   "source": [
    "#We have some more duplicates:\n",
    "final_list_of_c = list(set([trio[2] for trio in desired_triplets]))\n",
    "print(\"Number of Products: {}\".format(len(final_list_of_c)))\n",
    "print(\"Sum of Products: {}\".format(sum(final_list_of_c)))\n",
    "final_list_of_c"
   ]
  },
  {
   "cell_type": "markdown",
   "id": "fe35399f",
   "metadata": {},
   "source": [
    "---\n",
    "**Problem 33:** Curious Fractions\n",
    "\n",
    "The fraction 49/98 is a curious fraction, as an inexperienced mathematician in attempting to simplify it may incorrectly believe that 49/98 = 4/8, which is correct, is obtained by cancelling the 9s.\n",
    "\n",
    "We shall consider fractions like, 30/50 = 3/5, to be trivial examples.\n",
    "\n",
    "There are exactly four non-trivial examples of this type of fraction, less than one in value, and containing two digits in the numerator and denominator. If the product of these four fractions is given in its lowest common terms, find the value of the denominator.\n",
    "\n",
    "**Strategy:** Like every other question, we should first filter out the cases."
   ]
  },
  {
   "cell_type": "code",
   "execution_count": 198,
   "id": "f3083cce",
   "metadata": {},
   "outputs": [
    {
     "name": "stdout",
     "output_type": "stream",
     "text": [
      "       Number of total fractions: 4005\n",
      "          Number after first cut: 1377\n",
      "    Number of cases without zero: 1188\n"
     ]
    }
   ],
   "source": [
    "#Make all fractions with two digits in numerator/demoninator less than 1\n",
    "numerators = [i for i in range(10, 99)]\n",
    "all_fracs = []\n",
    "for num in numerators:\n",
    "    all_fracs += ['{}/{}'.format(num, j) for j in range(num+1, 100)]\n",
    "print(\"       Number of total fractions: {}\".format(len(all_fracs)))\n",
    "\n",
    "#First cut all the fractions which num/den don't share a common digit\n",
    "def duplicate_digits(str_frac):\n",
    "    numerator, denominator = str_frac.split('/')\n",
    "    common_digits = [digit for digit in denominator if numerator.find(digit) != -1]\n",
    "    return len(common_digits) != 0\n",
    "first_cut = [frac for frac in all_fracs if duplicate_digits(frac)]\n",
    "print(\"          Number after first cut: {}\".format(len(first_cut)))\n",
    "\n",
    "#Cut any cases with 0's in num or den.\n",
    "#First, this will cut out all trivial cases\n",
    "#If the fraction isn't trivial, canceling the remaining values in the non-intellegent way\n",
    "        #will leave the fraction either equal to 0, or undefined.\n",
    "def no_zeros(str_frac):\n",
    "    numerator, denominator = str_frac.split('/')\n",
    "    if numerator.find('0') + denominator.find('0') > -2:\n",
    "        return False\n",
    "    return True\n",
    "second_cut = [frac for frac in first_cut if no_zeros(frac)]\n",
    "print(\"    Number of cases without zero: {}\".format(len(second_cut)))"
   ]
  },
  {
   "cell_type": "code",
   "execution_count": 212,
   "id": "f86a99ef",
   "metadata": {},
   "outputs": [
    {
     "data": {
      "text/plain": [
       "['16/64', '19/95', '26/65', '49/98']"
      ]
     },
     "execution_count": 212,
     "metadata": {},
     "output_type": "execute_result"
    }
   ],
   "source": [
    "def condition(a,b,ca,cb):\n",
    "    return (a*cb)/(b*ca) == 1\n",
    "\n",
    "def test_pairs(fraction):\n",
    "    #Split the fraction\n",
    "    a, b = fraction.split('/')\n",
    "    if b.find(a[0]) != -1:\n",
    "        if condition(int(a), int(b), int(a[1]), int(b[(b.find(a[0])+1)%2])):\n",
    "            return True\n",
    "    if b.find(a[1]) != -1:\n",
    "        if condition(int(a), int(b), int(a[0]), int(b[(b.find(a[1])+1)%2])):\n",
    "            return True\n",
    "    return False \n",
    "final_list = [frac for frac in second_cut if test_pairs(frac)]\n",
    "final_list"
   ]
  },
  {
   "cell_type": "code",
   "execution_count": 202,
   "id": "076bb19e",
   "metadata": {},
   "outputs": [
    {
     "data": {
      "text/plain": [
       "(387296, 38729600)"
      ]
     },
     "execution_count": 202,
     "metadata": {},
     "output_type": "execute_result"
    }
   ],
   "source": [
    "num = 1\n",
    "for x in final_list:\n",
    "    num *= int(x[:2])\n",
    "den = 1\n",
    "for x in final_list:\n",
    "    den *= int(x[3:])\n",
    "num, den"
   ]
  },
  {
   "cell_type": "code",
   "execution_count": 213,
   "id": "060c9dda",
   "metadata": {},
   "outputs": [
    {
     "data": {
      "text/plain": [
       "({2: 5, 7: 2, 13: 1, 19: 1}, {2: 7, 5: 2, 7: 2, 13: 1, 19: 1})"
      ]
     },
     "execution_count": 213,
     "metadata": {},
     "output_type": "execute_result"
    }
   ],
   "source": [
    "#We will need this function we've used before:\n",
    "def is_prime(num):\n",
    "    for i in range(2, num//2+1):\n",
    "        if abs(num) % i == 0:\n",
    "            return False\n",
    "    return True  \n",
    "primes_under_100 = [number for number in range(2, 10000) if is_prime(number)]\n",
    "def prime_factorization(number):\n",
    "    '''Take a number, return a prime factorization.'''\n",
    "    \n",
    "    factors = [possible_factor for possible_factor in primes_under_100 if number % possible_factor == 0]\n",
    "    powers = []\n",
    "    for factor in factors:\n",
    "        remainder = number\n",
    "        power = 1\n",
    "        while remainder % factor == 0:\n",
    "            remainder = remainder/factor\n",
    "            if remainder % factor == 0:\n",
    "                power += 1\n",
    "        powers.append(power)  \n",
    "    return {factors[k]: powers[k] for k in range(len(factors))}\n",
    "top = prime_factorization(num)\n",
    "bottom = prime_factorization(den)\n",
    "top, bottom"
   ]
  },
  {
   "cell_type": "code",
   "execution_count": 216,
   "id": "82e5d6c5",
   "metadata": {},
   "outputs": [
    {
     "data": {
      "text/plain": [
       "({2: 0, 7: 0, 13: 0, 19: 0}, {2: 2, 5: 2, 7: 0, 13: 0, 19: 0})"
      ]
     },
     "execution_count": 216,
     "metadata": {},
     "output_type": "execute_result"
    }
   ],
   "source": [
    "factored_top = top.copy()\n",
    "factored_bottom = bottom.copy()\n",
    "for key in top.keys():\n",
    "    if key in bottom.keys():\n",
    "        factored_top[key] = top[key] - min(top[key], bottom[key])\n",
    "        factored_bottom[key] = bottom[key] - min(top[key], bottom[key])\n",
    "factored_top, factored_bottom"
   ]
  },
  {
   "cell_type": "markdown",
   "id": "0d04fabf",
   "metadata": {},
   "source": [
    "So, the final fraction is 1/100!"
   ]
  }
 ],
 "metadata": {
  "kernelspec": {
   "display_name": "Python 3",
   "language": "python",
   "name": "python3"
  },
  "language_info": {
   "codemirror_mode": {
    "name": "ipython",
    "version": 3
   },
   "file_extension": ".py",
   "mimetype": "text/x-python",
   "name": "python",
   "nbconvert_exporter": "python",
   "pygments_lexer": "ipython3",
   "version": "3.7.7"
  }
 },
 "nbformat": 4,
 "nbformat_minor": 5
}
