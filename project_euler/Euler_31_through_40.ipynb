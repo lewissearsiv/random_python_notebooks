{
 "cells": [
  {
   "cell_type": "markdown",
   "id": "15b6e680",
   "metadata": {},
   "source": [
    "## Project Euler \n",
    "#### Questions 31-40\n",
    "\n",
    "Continuing the quest to solve every Euler question!"
   ]
  },
  {
   "cell_type": "markdown",
   "id": "0425abb2",
   "metadata": {},
   "source": [
    "---\n",
    "**Problem 31:** Coin sums\n",
    "\n",
    "In the United Kingdom the currency is made up of pound (£) and pence (p). There are eight coins in general circulation: 1p, 2p, 5p, 10p, 20p, 50p, £1 (100p), and £2 (200p).\n",
    "\n",
    "How many different ways can £2 be made using any number of coins?"
   ]
  },
  {
   "cell_type": "code",
   "execution_count": 76,
   "id": "4eac1a02",
   "metadata": {},
   "outputs": [],
   "source": [
    "#Make a list of all coins:\n",
    "coins = [200,100,50,20,10,5,2,1]"
   ]
  },
  {
   "cell_type": "code",
   "execution_count": 78,
   "id": "cc21d3e4",
   "metadata": {},
   "outputs": [],
   "source": [
    "#This is a classic recursion problem!\n",
    "def ways_possible_change(input_coin_list, amount_to_change):\n",
    "    '''Input a set of coins with set values and any amount of money, \n",
    "    output the number of possible combinations of coins to make that amount.'''\n",
    "    \n",
    "    input_coin_list.sort()\n",
    "    coin_list = input_coin_list[::-1]\n",
    "    coin_list = [coin for coin in coin_list if coin <= amount_to_change]\n",
    "    \n",
    "    #Fully divided ammount\n",
    "    if amount_to_change == 0:\n",
    "        return 1\n",
    "    \n",
    "    #One coin left\n",
    "    elif len(coin_list) == 1:\n",
    "        if amount_to_change % coin_list[0] == 0:\n",
    "            return 1\n",
    "        else:\n",
    "            return 0\n",
    "    \n",
    "    #Coin equals amount to change\n",
    "    elif coin_list[0] == amount_to_change:\n",
    "        return ways_possible_change(coin_list[1:], amount_to_change)+1\n",
    "    \n",
    "    else:\n",
    "        partitions = amount_to_change // coin_list[0]\n",
    "        change_left_over = [amount_to_change - coin_list[0]*(i) for i in range(int(partitions)+1)]\n",
    "        return sum([ways_possible_change(coin_list[1:], amount) for amount in change_left_over])"
   ]
  },
  {
   "cell_type": "code",
   "execution_count": 77,
   "id": "22e90f30",
   "metadata": {},
   "outputs": [
    {
     "data": {
      "text/plain": [
       "73682"
      ]
     },
     "execution_count": 77,
     "metadata": {},
     "output_type": "execute_result"
    }
   ],
   "source": [
    "ways_possible_change(coins, 200)"
   ]
  },
  {
   "cell_type": "code",
   "execution_count": 79,
   "id": "e84a20f6",
   "metadata": {},
   "outputs": [
    {
     "data": {
      "text/plain": [
       "242"
      ]
     },
     "execution_count": 79,
     "metadata": {},
     "output_type": "execute_result"
    }
   ],
   "source": [
    "#For fun, ways to change a dollar:\n",
    "ways_possible_change([25,10,5,1], 100)"
   ]
  },
  {
   "cell_type": "markdown",
   "id": "31d6f00e",
   "metadata": {},
   "source": [
    "---\n",
    "**Problem 32:** Pandigital Products\n",
    "We shall say that an n-digit number is pandigital if it makes use of all the digits 1 to n exactly once; for example, the 5-digit number, 15234, is 1 through 5 pandigital.\n",
    "\n",
    "The product 7254 is unusual, as the identity, 39 × 186 = 7254, containing multiplicand, multiplier, and product is 1 through 9 pandigital.\n",
    "\n",
    "Find the sum of all products whose multiplicand/multiplier/product identity can be written as a 1 through 9 pandigital.\n",
    "\n",
    "HINT: Some products can be obtained in more than one way so be sure to only include it once in your sum."
   ]
  }
 ],
 "metadata": {
  "kernelspec": {
   "display_name": "Python 3",
   "language": "python",
   "name": "python3"
  },
  "language_info": {
   "codemirror_mode": {
    "name": "ipython",
    "version": 3
   },
   "file_extension": ".py",
   "mimetype": "text/x-python",
   "name": "python",
   "nbconvert_exporter": "python",
   "pygments_lexer": "ipython3",
   "version": "3.7.7"
  }
 },
 "nbformat": 4,
 "nbformat_minor": 5
}
