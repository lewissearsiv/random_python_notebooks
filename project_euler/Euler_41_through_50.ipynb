{
 "cells": [
  {
   "cell_type": "markdown",
   "id": "e5fe7b92",
   "metadata": {},
   "source": [
    "## Project Euler \n",
    "#### Questions 41-50\n",
    "\n",
    "Continuing the quest to solve every Euler question!"
   ]
  },
  {
   "cell_type": "markdown",
   "id": "0d7bb91e",
   "metadata": {},
   "source": [
    "---\n",
    "**Problem 41:** Pandigital Prime \n",
    "\n",
    "We shall say that an $n$-digit number is pandigital if it makes use of all the digits $1$ to $n$ exactly once. For example, 2143 is a 4-digit pandigital and is also prime.\n",
    "\n",
    "What is the largest $n$-digit pandigital prime that exists?"
   ]
  },
  {
   "cell_type": "code",
   "execution_count": 22,
   "id": "14bec0f8",
   "metadata": {},
   "outputs": [],
   "source": [
    "import itertools\n",
    "import math\n",
    "from tqdm import tqdm\n",
    "\n",
    "#Formatting tool\n",
    "def compactor(list_):\n",
    "    string = \"\"\n",
    "    for digit in list_:\n",
    "        string += str(digit)\n",
    "    return int(string)\n",
    "\n",
    "def get_n_digit_pandigital_ints(n):\n",
    "    '''Gets all pandigital nums of size n, sorts them, and filters them logically.\n",
    "    '''\n",
    "    \n",
    "    #Get list\n",
    "    pandigital_list = [list(list_) for list_ in list(itertools.permutations([i for i in range(1,n+1)]))]\n",
    "    pan_ints = [compactor(list_) for list_ in pandigital_list]\n",
    "\n",
    "    #Sort them so in our search we can stop early if applicable\n",
    "    pan_ints.sort(reverse = True)\n",
    "\n",
    "    #Remove integers that are even or divisible by 5\n",
    "    purified_ints = [num for num in pan_ints if str(num)[-1] not in ['2','4','5','6','8']]\n",
    "    return purified_ints\n",
    "\n",
    "def is_prime_speedy(number):\n",
    "    '''Returns boolean if int is prime. Optimized speed using upper bound of square root.\n",
    "    '''\n",
    "    upper_bound = math.ceil(math.sqrt(number))+1\n",
    "    for i in range(3, upper_bound, 2):\n",
    "        if number % i == 0:\n",
    "            return False\n",
    "    return True"
   ]
  },
  {
   "cell_type": "code",
   "execution_count": 60,
   "id": "d32c683c",
   "metadata": {},
   "outputs": [
    {
     "name": "stdout",
     "output_type": "stream",
     "text": [
      "The largest prime 9-digit pandigital integer is:    7652413\n"
     ]
    },
    {
     "data": {
      "text/plain": [
       "'Got it!'"
      ]
     },
     "execution_count": 60,
     "metadata": {},
     "output_type": "execute_result"
    }
   ],
   "source": [
    "#Start at biggest n and go down from there\n",
    "def get_largest_prime():\n",
    "    for n_ in range(9,1, -1):\n",
    "        n_pandigital = get_n_digit_pandigital_ints(n_)\n",
    "        for pandigital in n_pandigital:\n",
    "            if is_prime_speedy(pandigital):\n",
    "                print(\"The largest prime 9-digit pandigital integer is:    {}\".format(pandigital))\n",
    "                return \"Got it!\"\n",
    "get_largest_prime()"
   ]
  },
  {
   "cell_type": "markdown",
   "id": "ef264952",
   "metadata": {},
   "source": [
    "---\n",
    "**Problem 42:** Coded Triangle Numbers \n",
    "\n",
    "The nth term of the sequence of triangle numbers is given by, $t_n = \\frac{1}{2}n(n+1)$; so the first ten triangle numbers are:\n",
    "\n",
    "$$1, 3, 6, 10, 15, 21, 28, 36, 45, 55, \\ldots$$\n",
    "\n",
    "By converting each letter in a word to a number corresponding to its alphabetical position and adding these values we form a word value. For example, the word value for SKY is $19 + 11 + 25 = 55 = t10$. If the word value is a triangle number then we shall call the word a triangle word.\n",
    "\n",
    "Using words.txt (right click and 'Save Link/Target As...'), a 16K text file containing nearly two-thousand common English words, how many are triangle words?"
   ]
  },
  {
   "cell_type": "code",
   "execution_count": 23,
   "id": "fe2994fd",
   "metadata": {},
   "outputs": [
    {
     "data": {
      "text/plain": [
       "192"
      ]
     },
     "execution_count": 23,
     "metadata": {},
     "output_type": "execute_result"
    }
   ],
   "source": [
    "#read in file\n",
    "txt_file = open(\"required_data/euler_problem_42.txt\", \"rt\") \n",
    "words = txt_file.read()         \n",
    "txt_file.close()\n",
    "\n",
    "#Some cleaning \n",
    "separate_words = words.split(',')\n",
    "clean_words = [word[1:-1] for word in separate_words]\n",
    "final_words = [word.lower() for word in clean_words]\n",
    "\n",
    "#Make a dictionary to encode letters\n",
    "alphabet = 'abcdefghijklmnopqrstuvwxyz'\n",
    "letter_to_number = {}\n",
    "for i in range(len(alphabet)):\n",
    "    letter_to_number[alphabet[i]] = i+1\n",
    "    \n",
    "#Get word values\n",
    "def word_to_number(word):\n",
    "    count = 0\n",
    "    for letter in word:\n",
    "        count += letter_to_number[letter]\n",
    "    return count\n",
    "word_values = [word_to_number(word) for word in final_words]\n",
    "max(word_values)"
   ]
  },
  {
   "cell_type": "code",
   "execution_count": 30,
   "id": "76a88bfc",
   "metadata": {},
   "outputs": [
    {
     "name": "stdout",
     "output_type": "stream",
     "text": [
      "There are 162 triangle words in the .txt file.\n"
     ]
    }
   ],
   "source": [
    "#So we only need triangle numbers up to that max word value\n",
    "#Solve 0 = n^2+n-384 (from formula)\n",
    "i = 1\n",
    "while i**2+i - 384 < 0:\n",
    "    i += 1\n",
    "upper_bound = i+1\n",
    "\n",
    "#Now get just the triangle numbers needed\n",
    "triangle_numbers = [int(i*(i+1)/2) for i in range(1, upper_bound)]\n",
    "\n",
    "#And search the word_values\n",
    "triangle_words = [word for word in word_values if word in triangle_numbers]\n",
    "print(\"There are {} triangle words in the .txt file.\".format(len(triangle_words)))"
   ]
  },
  {
   "cell_type": "markdown",
   "id": "25a3b807",
   "metadata": {},
   "source": [
    "**Problem 43:** Sub-String Divisibility\n",
    "\n",
    "The number, 1406357289, is a 0 to 9 pandigital number because it is made up of each of the digits 0 to 9 in some order, but it also has a rather interesting sub-string divisibility property.\n",
    "\n",
    "Let $d_n$ be the $n$-th digit of a number. In this way, we note the following:\n",
    "\n",
    "$$d_2 d_3 d_4=406 \\pmod 2 = 0$$ \n",
    "$$d_3 d_4 d_5=063 \\pmod 3 = 0$$ \n",
    "$$d_4 d_5 d_6=635 \\pmod 5 = 0$$\n",
    "$$d_5 d_6 d_7=357 \\pmod 7 = 0$$ \n",
    "$$d_6 d_7 d_8=572 \\pmod{11} = 0$$ \n",
    "$$d_7 d_8 d_9=728 \\pmod{13} = 0$$ \n",
    "$$d_8 d_9 d_10=289 \\pmod{17} = 0$$\n",
    "Find the sum of all 0 to 9 pandigital numbers with this property."
   ]
  },
  {
   "cell_type": "code",
   "execution_count": 4,
   "id": "c1774990",
   "metadata": {},
   "outputs": [
    {
     "name": "stdout",
     "output_type": "stream",
     "text": [
      "There are 3628800 pandigital numbers 0 to 9.\n"
     ]
    }
   ],
   "source": [
    "import itertools\n",
    "import math\n",
    "\n",
    "#Formatting tool\n",
    "def compactor(list_):\n",
    "    string = \"\"\n",
    "    for digit in list_:\n",
    "        string += str(digit)\n",
    "    return string\n",
    "\n",
    "def get_n_digit_pandigital_ints(n):\n",
    "    '''Gets all pandigital nums of size n+1, sorts them, and filters them logically.\n",
    "    '''\n",
    "    \n",
    "    #Get list\n",
    "    pandigital_list = [list(list_) for list_ in list(itertools.permutations([i for i in range(0,n+1)]))]\n",
    "    pan_ints_str = [compactor(list_) for list_ in pandigital_list]\n",
    "    return pan_ints_str\n",
    "pandigital_10 = get_n_digit_pandigital_ints(9)\n",
    "print(\"There are {} pandigital numbers 0 to 9.\".format(len(pandigital_10)))"
   ]
  },
  {
   "cell_type": "code",
   "execution_count": 8,
   "id": "db919916",
   "metadata": {},
   "outputs": [
    {
     "name": "stdout",
     "output_type": "stream",
     "text": [
      "There are 6 positive cases.\n",
      "The numbers are:\n",
      "['1406357289', '1430952867', '1460357289', '4106357289', '4130952867', '4160357289']\n",
      "The sum is 16695334890.\n"
     ]
    }
   ],
   "source": [
    "check_list = [2,3,5,7,11,13,17]\n",
    "def check_string_condition(num_string):\n",
    "    '''Checks the string for the desired condition.\n",
    "    '''\n",
    "    for i in range(1,len(num_string)-2):\n",
    "        if int(num_string[i:i+3]) % check_list[i-1] != 0:\n",
    "            return False\n",
    "    return True\n",
    "positive_cases = [string for string in pandigital_10 if check_string_condition(string)]\n",
    "print(\"There are {} positive cases.\".format(len(positive_cases)))\n",
    "print(\"The numbers are:\")\n",
    "print(positive_cases)\n",
    "print(\"The sum is {}.\".format(sum([int(x) for x in positive_cases])))"
   ]
  },
  {
   "cell_type": "markdown",
   "id": "7d0fda4b",
   "metadata": {},
   "source": [
    "---\n",
    "**Problem 44:** Pentagon Numbers **(IN PROGRESS)**\n",
    "\n",
    "Pentagonal numbers are generated by the formula, $P_n=n(3n−1)/2$. The first ten pentagonal numbers are:\n",
    "\n",
    "$$1, 5, 12, 22, 35, 51, 70, 92, 117, 145, \\ldots$$\n",
    "\n",
    "It can be seen that $P_4 + P_7 = 22 + 70 = 92 = P_8$. However, their difference, $70 − 22 = 48$, is not pentagonal.\n",
    "\n",
    "Find the pair of pentagonal numbers, $P_j$ and $P_k$, for which their sum and difference are pentagonal and $D = |P_k − P_j|$ is minimised; what is the value of D?\n",
    "\n",
    "**Note:** Note that from the quadratic equation a number $N$ is only a pentagonal number if and only if $1+24N$ is a perfect square and $\\sqrt{1+24N} +1 \\equiv 0 \\pmod{6}$. This will make it *way* faster to check if a number is a pentagon number. To show why this is true, if we have a number $x$ that is a pentagon number:\n",
    "\\begin{align}\n",
    "    x &= \\frac{n(3n-1)}{2} \\\\\n",
    "    0 &= 3n^2-n-2x\\\\\n",
    "\\rightarrow n &= \\frac{1+\\sqrt{1+24x}}{6} \\textit{(by the quadratic equation)}.\n",
    "\\end{align}"
   ]
  },
  {
   "cell_type": "code",
   "execution_count": 249,
   "id": "d3333220",
   "metadata": {},
   "outputs": [],
   "source": [
    "#Checker\n",
    "def isPentagon(n):\n",
    "    conj = math.sqrt(1+24*n)\n",
    "    return int(conj % 6 == 5)\n",
    "#Get first million pentagon numbers:\n",
    "pentagons = [i*(3*i-1)/2 for i in range(1, 1000001)]"
   ]
  },
  {
   "cell_type": "markdown",
   "id": "1d5a4c2c",
   "metadata": {},
   "source": [
    "---\n",
    "**Problem 45:** Triangle, Pentagonal, and Hexagonal\n",
    "\n",
    "Triangle, pentagonal, and hexagonal numbers are generated by the following formula, respectively:\n",
    "\\begin{align}\n",
    "    T_{n} &= \\frac{n(n+1)}{2},\\\\\n",
    "    P_{n} &= \\frac{n(3n−1)}{2},\\\\\n",
    "    H_{n} &= n(2n−1).\n",
    "\\end{align}\n",
    "It can be verified that $T_{285} = P_{165} = H_{143} = 40755$.\n",
    "\n",
    "Find the next triangle number that is also pentagonal and hexagonal."
   ]
  },
  {
   "cell_type": "code",
   "execution_count": 232,
   "id": "21ac51e8",
   "metadata": {},
   "outputs": [],
   "source": [
    "#Three condition checkers built from solving the quadratic equation\n",
    "            #This was shown in the previous problem.\n",
    "def isTriangle(n):\n",
    "    conj = math.sqrt(1+8*n)\n",
    "    return int(conj % 2 == 1)\n",
    "def isPentagon(n):\n",
    "    conj = math.sqrt(1+24*n)\n",
    "    return int(conj % 6 == 5)\n",
    "def isHexagon(n):\n",
    "    conj = math.sqrt(1+8*n)\n",
    "    return int(conj % 4 == 3)"
   ]
  },
  {
   "cell_type": "code",
   "execution_count": 244,
   "id": "013f4840",
   "metadata": {},
   "outputs": [],
   "source": [
    "triangle_to_one_million = [int(i*(i+1)/2) for i in range(286, 1000001)]"
   ]
  },
  {
   "cell_type": "code",
   "execution_count": 248,
   "id": "3e5f260c",
   "metadata": {},
   "outputs": [
    {
     "name": "stdout",
     "output_type": "stream",
     "text": [
      "The next Triangle/Pentagon/Hexagonal number is 1533776805\n"
     ]
    }
   ],
   "source": [
    "#Start at given value\n",
    "triangle_to_one_million = [int(i*(i+1)/2) for i in range(286, 1000001)]\n",
    "\n",
    "#Find remaining conditions\n",
    "desired_numbers = [k for k in triangle_to_one_million if isPentagon(k) * isHexagon(k) == 1]\n",
    "print(\"The next Triangle/Pentagon/Hexagonal number is {}\".format(desired_numbers[0]))"
   ]
  },
  {
   "cell_type": "markdown",
   "id": "c1e363c4",
   "metadata": {},
   "source": [
    "---\n",
    "**Problem 46:** Goldbach's other conjecture\n",
    "\n",
    "It was proposed by Christian Goldbach that every odd composite number can be written as the sum of a prime and twice a square.\n",
    "\\begin{align}\n",
    "9 &= 7 + 2\\times 1^2\\\\\n",
    "15 &= 7 + 2\\times 2^2\\\\\n",
    "21 &= 3 + 2\\times 3^2\\\\\n",
    "25 &= 7 + 2\\times 3^2\\\\\n",
    "27 &= 19 + 2\\times 2^2\\\\\n",
    "33 &= 31 + 2\\times 1^2\\\\\n",
    "\\end{align}\n",
    "It turns out that the conjecture was false. What is the smallest odd composite that cannot be written as the sum of a prime and twice a square?"
   ]
  },
  {
   "cell_type": "code",
   "execution_count": 27,
   "id": "cea4e294",
   "metadata": {},
   "outputs": [],
   "source": [
    "import numpy as np\n",
    "import math\n",
    "odd_nums = np.array([3+2*i for i in range(100)])"
   ]
  },
  {
   "cell_type": "code",
   "execution_count": 28,
   "id": "4fd38f6b",
   "metadata": {},
   "outputs": [
    {
     "name": "stdout",
     "output_type": "stream",
     "text": [
      "Let's try to bound this subset we are checking: Max is 40401.\n"
     ]
    }
   ],
   "source": [
    "odd_composites = []\n",
    "for odd in list(odd_nums):\n",
    "    composites = odd * odd_nums\n",
    "    odd_composites += list(composites)\n",
    "filtered = list(set(odd_composites))\n",
    "limit = max(filtered)\n",
    "print(\"Let's try to bound this subset we are checking: Max is {}.\".format(limit))"
   ]
  },
  {
   "cell_type": "code",
   "execution_count": 29,
   "id": "5477216d",
   "metadata": {},
   "outputs": [
    {
     "name": "stdout",
     "output_type": "stream",
     "text": [
      "143\n"
     ]
    }
   ],
   "source": [
    "#Find upper bound for squares:\n",
    "k = 0\n",
    "while 2* k**2 < limit:\n",
    "    k+=1\n",
    "print(k)\n",
    "two_times_squares = [2*i**2 for i in range(1, k+1)]\n",
    "#See if remainder is prime\n",
    "def isPrime(n):\n",
    "    for i in range(3, int(math.sqrt(n))+1, 2):\n",
    "        if n % i == 0:\n",
    "            return False\n",
    "    return True        "
   ]
  },
  {
   "cell_type": "code",
   "execution_count": 37,
   "id": "d391f73b",
   "metadata": {},
   "outputs": [
    {
     "name": "stdout",
     "output_type": "stream",
     "text": [
      "The smallest number to disprove Goldbach's other conjecture is 5777.\n"
     ]
    }
   ],
   "source": [
    "for composite in odd_composites:\n",
    "    squares_in_range = [sq for sq in two_times_squares if sq < composite]\n",
    "    differences = [composite - sq for sq in squares_in_range]\n",
    "    prime_remainders = [dif for dif in differences if isPrime(dif)]\n",
    "    \n",
    "    #If there is no remainder that is prime, then we are done.\n",
    "    if len(prime_remainders) == 0:\n",
    "        print(\"The smallest number to disprove Goldbach's other conjecture is {}.\".format(composite))\n",
    "        break"
   ]
  },
  {
   "cell_type": "markdown",
   "id": "df0bf08d",
   "metadata": {},
   "source": [
    "---\n",
    "**Problem 47:** Distinct Prime Factors\n",
    "\n",
    "The first two consecutive numbers to have two distinct prime factors are:\n",
    "\n",
    "$$14 = 2 × 7$$\n",
    "$$15 = 3 × 5$$\n",
    "\n",
    "The first three consecutive numbers to have three distinct prime factors are:\n",
    "\n",
    "$$644 = 2^2 × 7 × 23$$\n",
    "$$645 = 3 × 5 × 43$$\n",
    "$$646 = 2 × 17 × 19.$$\n",
    "\n",
    "Find the first four consecutive integers to have four distinct prime factors each. What is the first of these numbers?"
   ]
  },
  {
   "cell_type": "code",
   "execution_count": 18,
   "id": "10ac5be0",
   "metadata": {},
   "outputs": [],
   "source": [
    "import math\n",
    "def isPrime(n):\n",
    "    if n % 2 == 0:\n",
    "        return False\n",
    "    for i in range(3, int(math.sqrt(n))+1, 2):\n",
    "        if n % i == 0:\n",
    "            return False\n",
    "    return True\n",
    "\n",
    "def get_prime_factors(number):\n",
    "    '''Get all distinct prime factors of a number.\n",
    "    '''\n",
    "    \n",
    "    if isPrime(number):\n",
    "        return [number]\n",
    "        \n",
    "    prime_list = []\n",
    "    #Check for one even prime\n",
    "    if number % 2 == 0:\n",
    "        prime_list.append(2)\n",
    "        while number % 2 == 0:\n",
    "            number = number//2\n",
    "    \n",
    "    #Some special cases\n",
    "    if number == 1:\n",
    "        return prime_list\n",
    "    if isPrime(number):\n",
    "        prime_list.append(number)\n",
    "        return prime_list\n",
    "    \n",
    "    #Now sift through the others\n",
    "    for i in range(3, int(math.sqrt(number))+1, 2):\n",
    "        if number % i == 0:\n",
    "            prime_list.append(i)\n",
    "            while number % i == 0:\n",
    "                number = number//i\n",
    "        if number == 1:\n",
    "            return prime_list\n",
    "        if isPrime(number):\n",
    "            prime_list.append(number)\n",
    "            return prime_list\n",
    "        \n",
    "    return prime_list"
   ]
  },
  {
   "cell_type": "code",
   "execution_count": 36,
   "id": "920acc0b",
   "metadata": {},
   "outputs": [],
   "source": [
    "num_prime_factors = [len(get_prime_factors(n)) for n in range(647, 150000)]"
   ]
  },
  {
   "cell_type": "code",
   "execution_count": 41,
   "id": "62c0a19d",
   "metadata": {},
   "outputs": [
    {
     "name": "stdout",
     "output_type": "stream",
     "text": [
      "The number is 134043!\n"
     ]
    }
   ],
   "source": [
    "for i in range(len(num_prime_factors)-4):\n",
    "    how_many_fours = [i for i, val in enumerate(num_prime_factors[i:i+4]) if val == 4]\n",
    "    if len(how_many_fours) == 4:\n",
    "        index = i\n",
    "        break\n",
    "number = [n for n in range(647, 150000)][index]\n",
    "print(\"The number is {}!\".format(number))"
   ]
  },
  {
   "cell_type": "code",
   "execution_count": 42,
   "id": "fa5b504c",
   "metadata": {},
   "outputs": [
    {
     "name": "stdout",
     "output_type": "stream",
     "text": [
      "Number: 134043   |   Factors: [3, 7, 13, 491]\n",
      "Number: 134044   |   Factors: [2, 23, 31, 47]\n",
      "Number: 134045   |   Factors: [5, 17, 19, 83]\n",
      "Number: 134046   |   Factors: [2, 3, 11, 677]\n"
     ]
    }
   ],
   "source": [
    "for i in range(4):\n",
    "    print(\"Number: {}   |   Factors: {}\".format(number+i, get_prime_factors(number+i)))"
   ]
  },
  {
   "cell_type": "markdown",
   "id": "c2ba14c0",
   "metadata": {},
   "source": [
    "---\n",
    "**Problem 48:** Self Powers\n",
    "\n",
    "The series, $1^1 + 2^2 + 3^3 + \\ldots + 10^{10} = 10405071317$.\n",
    "\n",
    "Find the last ten digits of the series, $1^1 + 2^2 + 3^3 + ... + 1000^{1000}$.\n",
    "\n",
    "**Note:** The last ten digits of this sum is the same as the sum of the last ten digits of each element of the sum."
   ]
  },
  {
   "cell_type": "code",
   "execution_count": 9,
   "id": "626f70bb",
   "metadata": {},
   "outputs": [],
   "source": [
    "self_powers = [i**i for i in range(1, 1001)]"
   ]
  },
  {
   "cell_type": "code",
   "execution_count": 13,
   "id": "79ff49b0",
   "metadata": {},
   "outputs": [
    {
     "name": "stdout",
     "output_type": "stream",
     "text": [
      "The final ten digits of the series are: 9110846700\n"
     ]
    }
   ],
   "source": [
    "def last_ten_digits(num):\n",
    "    return num % 10000000000\n",
    "\n",
    "#Get last ten digits of each self power\n",
    "truncated_self_powers = [last_ten_digits(power) for power in self_powers]\n",
    "final_ten_digits = last_ten_digits(sum(truncated_self_powers))\n",
    "print(\"The final ten digits of the series are: {}\".format(final_ten_digits))"
   ]
  },
  {
   "cell_type": "markdown",
   "id": "bb95d27b",
   "metadata": {},
   "source": [
    "---\n",
    "**Problem 49:** Prime Permutations **IN PROGRESS**\n",
    "\n",
    "The arithmetic sequence, 1487, 4817, 8147, in which each of the terms increases by 3330, is unusual in two ways:\n",
    "1. Each of the three terms are prime\n",
    "2. Each of the 4-digit numbers are permutations of one another.\n",
    "\n",
    "There are no arithmetic sequences made up of three 1-, 2-, or 3-digit primes, exhibiting this property, but there is one other 4-digit increasing sequence. What 12-digit number do you form by concatenating the three terms in this sequence?"
   ]
  },
  {
   "cell_type": "code",
   "execution_count": 6,
   "id": "2870e741",
   "metadata": {},
   "outputs": [
    {
     "data": {
      "text/plain": [
       "1058"
      ]
     },
     "execution_count": 6,
     "metadata": {},
     "output_type": "execute_result"
    }
   ],
   "source": [
    "def isPrime_slow(n):\n",
    "    if n == 2:\n",
    "        return True\n",
    "    for i in range(2, n):\n",
    "        if n % i == 0:\n",
    "            return False\n",
    "    return True\n",
    "prime_list = [i for i in range(2, 101) if isPrime_slow(i)]\n",
    "\n",
    "#Use the fact that a number is only prime if it is divisible by the primes before it.\n",
    "for number in range(101, 10000):\n",
    "    remainders = [number % prime for prime in prime_list]\n",
    "    if min(remainders) != 0:\n",
    "        prime_list.append(number)\n",
    "four_digit_primes = [prime for prime in prime_list if len(str(prime)) == 4]\n",
    "four_digit_primes = [prime for prime in four_digit_primes if prime not in [1487,4817,8147]]\n",
    "len(four_digit_primes)"
   ]
  },
  {
   "cell_type": "code",
   "execution_count": 38,
   "id": "912197f3",
   "metadata": {},
   "outputs": [],
   "source": [
    "#Get the digits into the same form.\n",
    "str_primes = [str(num) for num in four_digit_primes]\n",
    "ordered_lists = [[int(num[0]), int(num[1]),int(num[2]),int(num[3])] for num in str_primes]\n",
    "for list_ in ordered_lists:\n",
    "    list_.sort()\n",
    "num_elements = [str(x[0])+str(x[1])+str(x[2])+str(x[3]) for x in ordered_lists]\n",
    "\n",
    "#Get unique digits per number\n",
    "same_digits_dict = {}\n",
    "for unique_ in list(set(num_elements)):\n",
    "    same_digits_dict[unique_] = [i for i, val in enumerate(num_elements) if val == unique_] \n",
    "    \n",
    "#Remove unique strings if there are less than 2 primes with those digits\n",
    "possible_numbers = {}\n",
    "for key in same_digits_dict.keys():\n",
    "    if len(same_digits_dict[key])>2:\n",
    "        possible_numbers[key] = same_digits_dict[key]\n",
    "\n",
    "#Make a list of primes with same digits from the indices obtained above\n",
    "final_list = []\n",
    "for key in possible_numbers.keys():\n",
    "    indices = possible_numbers[key]\n",
    "    primes = [four_digit_primes[i] for i in indices]\n",
    "    final_list.append(primes)"
   ]
  },
  {
   "cell_type": "code",
   "execution_count": 50,
   "id": "dfc468f0",
   "metadata": {},
   "outputs": [
    {
     "data": {
      "text/plain": [
       "[[2383, 2833, 3823, 8233],\n",
       " [3947, 4397, 4793, 4937, 4973, 7349, 9437, 9473, 9743],\n",
       " [5737, 7537, 7573, 7753],\n",
       " [3779, 3797, 7793, 7937, 9377],\n",
       " [1123, 1213, 1231, 1321, 2113, 2131, 2311, 3121],\n",
       " [4861, 6481, 6841, 8461, 8641],\n",
       " [2837, 7283, 7823, 8237, 8273],\n",
       " [6997, 7699, 9679, 9697, 9769, 9967],\n",
       " [3469, 4639, 9463, 9643],\n",
       " [1193, 1319, 1913, 1931, 3119, 3191, 3911, 9311],\n",
       " [2467, 2647, 6247, 6427],\n",
       " [1217, 1721, 2711, 7121, 7211],\n",
       " [1801, 8011, 8101],\n",
       " [3449, 4349, 4493, 4943],\n",
       " [2399, 2939, 3299, 3929, 9239, 9293, 9923],\n",
       " [2851, 5281, 5821, 8521],\n",
       " [2069, 2609, 6029],\n",
       " [3373, 3733, 7333],\n",
       " [1367, 1637, 3167, 3617, 3671, 3761, 6173, 6317],\n",
       " [1049, 1409, 4019, 4091, 9041],\n",
       " [1627, 2617, 2671, 6217, 6271, 7621],\n",
       " [1553, 5153, 5351, 5531],\n",
       " [3499, 4993, 9349, 9439],\n",
       " [2389, 8293, 8329, 8923, 9283],\n",
       " [2543, 4253, 4523],\n",
       " [2579, 2957, 5279, 5297, 5927, 7529, 9257],\n",
       " [1229, 2129, 9221],\n",
       " [3407, 4073, 4703, 7043],\n",
       " [2633, 3623, 6323],\n",
       " [2797, 7297, 7927, 9277],\n",
       " [1237, 1327, 1723, 2137, 2371, 2713, 2731, 3217, 3271, 7213, 7321],\n",
       " [4799, 7499, 7949, 9479, 9497, 9749],\n",
       " [2099, 2909, 9029, 9209],\n",
       " [1187, 1871, 8117, 8171],\n",
       " [6089, 8069, 8609],\n",
       " [5563, 5653, 6553],\n",
       " [1567, 1657, 5167, 6571, 7561],\n",
       " [2689, 6829, 8269, 8629],\n",
       " [5399, 5939, 9539],\n",
       " [6679, 6967, 7669],\n",
       " [1787, 1877, 7187, 7817],\n",
       " [1933, 3319, 3391, 3931, 9133],\n",
       " [2347, 2437, 2473, 4273, 4327, 4723, 7243],\n",
       " [1483, 4813, 4831, 8431],\n",
       " [4157, 4517, 4751, 5147, 5417, 5471, 5741, 7451, 7541],\n",
       " [2789, 2879, 2897, 7829, 8297],\n",
       " [4969, 6949, 9649],\n",
       " [1619, 6911, 9161],\n",
       " [1571, 5171, 5711, 7151],\n",
       " [3163, 3361, 3613, 3631, 6133],\n",
       " [2699, 2969, 6299, 9629],\n",
       " [1153, 1531, 3511, 5113],\n",
       " [3089, 8039, 8093, 9803],\n",
       " [3253, 5233, 5323],\n",
       " [6779, 6977, 9677, 9767],\n",
       " [2377, 3727, 7237, 7723],\n",
       " [1399, 1993, 3919, 9319, 9391, 9931],\n",
       " [5081, 5801, 8501],\n",
       " [2707, 7027, 7207],\n",
       " [1021, 1201, 2011],\n",
       " [2297, 2729, 2927, 7229, 9227],\n",
       " [4561, 4651, 5641, 6451],\n",
       " [2857, 5827, 8527],\n",
       " [6367, 6637, 6673, 6763],\n",
       " [5879, 5897, 5987, 7589, 8597, 9587, 9857],\n",
       " [1777, 7177, 7717],\n",
       " [7993, 9397, 9739, 9973],\n",
       " [1867, 6781, 6871, 7681, 8167, 8761],\n",
       " [2677, 2767, 6277],\n",
       " [5189, 5981, 8951, 9851],\n",
       " [5387, 5783, 7583, 7853, 8537, 8573, 8753],\n",
       " [1289, 2819, 8219, 8291, 9281],\n",
       " [1381, 1831, 3181, 8311],\n",
       " [3659, 5639, 5693, 6359],\n",
       " [1489, 8419, 8941],\n",
       " [4789, 4987, 7489],\n",
       " [1063, 3061, 6301],\n",
       " [1223, 2213, 3221],\n",
       " [2459, 2549, 4259],\n",
       " [1471, 1741, 7411],\n",
       " [1669, 6619, 6691, 6961, 9661],\n",
       " [2053, 2503, 5023],\n",
       " [6689, 6869, 8669],\n",
       " [5477, 7457, 7547],\n",
       " [4787, 4877, 7487, 8747],\n",
       " [2693, 2963, 6329, 9623],\n",
       " [4583, 5483, 5843, 8543],\n",
       " [1583, 3581, 3851, 5381, 5813, 8513],\n",
       " [1069, 1609, 6091, 9601],\n",
       " [8191, 9181, 9811],\n",
       " [2441, 4241, 4421],\n",
       " [5039, 5309, 5903],\n",
       " [1427, 2417, 2741, 4127, 4217, 4271, 4721],\n",
       " [1019, 1091, 1109, 1901, 9011],\n",
       " [3079, 3709, 3907, 7039, 7309],\n",
       " [3067, 3607, 6037, 6073, 6703, 7603],\n",
       " [1663, 6163, 6361],\n",
       " [3863, 6833, 8363],\n",
       " [2141, 2411, 4211],\n",
       " [1279, 1297, 2179, 2719, 2791, 2917, 2971, 7129, 7219, 9127, 9721],\n",
       " [1061, 1601, 6011, 6101],\n",
       " [1747, 4177, 7417, 7741],\n",
       " [4597, 4759, 4957, 5479, 5749, 7459, 7549, 9547],\n",
       " [4261, 4621, 6421],\n",
       " [1307, 3701, 7013, 7103],\n",
       " [2843, 4283, 8243, 8423],\n",
       " [1579, 1597, 1759, 5179, 5197, 5791, 7159, 7591, 7951, 9157],\n",
       " [1033, 1303, 3301],\n",
       " [2039, 2309, 2903, 3209, 9203],\n",
       " [1423, 2143, 2341, 4231],\n",
       " [6079, 6709, 6907, 7069, 9067],\n",
       " [4057, 4507, 5407],\n",
       " [1013, 1031, 1103, 1301, 3011],\n",
       " [4691, 6491, 9461],\n",
       " [1433, 3413, 4133],\n",
       " [3457, 3547, 4357, 5347, 5437, 5743],\n",
       " [3637, 3673, 6337, 6373, 6733],\n",
       " [1789, 1879, 1987, 8179, 8719, 8971, 9187, 9781, 9817, 9871],\n",
       " [3877, 7873, 8377, 8737],\n",
       " [7883, 8387, 8783, 8837],\n",
       " [1249, 1429, 4129, 4219, 9241, 9421],\n",
       " [3697, 3769, 3967, 6379, 6397, 6793, 7369, 7639, 7963],\n",
       " [7687, 7867, 8677],\n",
       " [3347, 4337, 4373, 4733, 7433],\n",
       " [4567, 4657, 5647, 6547],\n",
       " [1951, 5119, 9151, 9511],\n",
       " [2539, 2593, 2953, 3259, 3529, 5923],\n",
       " [3739, 3793, 7393, 7933, 9337, 9733],\n",
       " [6899, 8699, 8969, 9689],\n",
       " [2749, 4297, 4729],\n",
       " [1693, 3169, 3691, 9613, 9631],\n",
       " [1753, 3517, 3571, 7351],\n",
       " [1523, 2153, 2351, 2531, 3251, 5231],\n",
       " [1973, 3719, 3917, 7193, 9137, 9173, 9371],\n",
       " [3677, 3767, 6737, 7673],\n",
       " [2687, 6287, 6827, 8627],\n",
       " [1439, 1493, 3491, 4139, 4391, 4931, 9341, 9413, 9431],\n",
       " [1039, 1093, 3019, 3109, 9013, 9103],\n",
       " [3943, 4339, 4933, 9343, 9433],\n",
       " [4679, 4967, 6947, 7649, 9467],\n",
       " [3389, 8933, 9833],\n",
       " [1181, 1811, 8111],\n",
       " [3467, 4637, 4673, 6473, 7643],\n",
       " [1699, 6199, 6991, 9619],\n",
       " [3463, 3643, 4363, 6343],\n",
       " [1373, 1733, 3137, 3371, 7331],\n",
       " [1453, 1543, 3541, 4153, 4513, 5413, 5431],\n",
       " [1697, 6197, 6719, 6791, 6917, 6971, 7691],\n",
       " [3889, 8389, 8839, 8893, 9883],\n",
       " [2339, 2393, 3329, 3923, 9323],\n",
       " [4099, 4909, 9049],\n",
       " [2239, 2293, 3229],\n",
       " [9091, 9109, 9901],\n",
       " [5669, 6569, 6659],\n",
       " [3583, 3853, 8353],\n",
       " [1621, 2161, 6121, 6211],\n",
       " [1783, 1873, 3187, 8317, 8713, 8731],\n",
       " [1559, 5519, 5591, 9551],\n",
       " [2357, 2753, 3257, 3527, 5237, 5273, 7253, 7523],\n",
       " [7789, 7879, 8779, 9787],\n",
       " [1163, 1361, 1613, 6113, 6131, 6311],\n",
       " [1051, 5011, 5101],\n",
       " [3049, 4093, 4903, 9043, 9403],\n",
       " [5077, 7057, 7507],\n",
       " [1499, 1949, 4919, 9419, 9491, 9941],\n",
       " [1097, 1709, 1907, 7019, 7109, 7901],\n",
       " [1979, 1997, 7919, 9719, 9791],\n",
       " [1283, 1823, 2381, 3821, 8123, 8231],\n",
       " [2683, 6823, 8263, 8623],\n",
       " [1259, 2591, 9521],\n",
       " [6389, 6983, 8369, 8693, 8963],\n",
       " [1847, 4871, 7481, 7841, 8741],\n",
       " [1459, 1549, 4159, 4519, 4591, 4951, 5419],\n",
       " [3359, 3539, 3593, 5393, 9533]]"
      ]
     },
     "execution_count": 50,
     "metadata": {},
     "output_type": "execute_result"
    }
   ],
   "source": [
    "final_list"
   ]
  },
  {
   "cell_type": "code",
   "execution_count": 48,
   "id": "66fce60e",
   "metadata": {},
   "outputs": [
    {
     "name": "stdout",
     "output_type": "stream",
     "text": [
      "1583\n",
      "3581\n",
      "3851\n",
      "5381\n",
      "5813\n",
      "8513\n"
     ]
    }
   ],
   "source": [
    "x = possible_numbers['1358']\n",
    "for i in x:\n",
    "    print(four_digit_primes[i])"
   ]
  },
  {
   "cell_type": "code",
   "execution_count": null,
   "id": "aebe73f6",
   "metadata": {},
   "outputs": [],
   "source": []
  }
 ],
 "metadata": {
  "kernelspec": {
   "display_name": "Python 3",
   "language": "python",
   "name": "python3"
  },
  "language_info": {
   "codemirror_mode": {
    "name": "ipython",
    "version": 3
   },
   "file_extension": ".py",
   "mimetype": "text/x-python",
   "name": "python",
   "nbconvert_exporter": "python",
   "pygments_lexer": "ipython3",
   "version": "3.7.7"
  }
 },
 "nbformat": 4,
 "nbformat_minor": 5
}
