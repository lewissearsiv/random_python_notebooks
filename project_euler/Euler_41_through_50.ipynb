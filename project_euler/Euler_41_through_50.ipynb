{
 "cells": [
  {
   "cell_type": "markdown",
   "id": "e5fe7b92",
   "metadata": {},
   "source": [
    "## Project Euler \n",
    "#### Questions 41-50\n",
    "\n",
    "Continuing the quest to solve every Euler question!"
   ]
  },
  {
   "cell_type": "markdown",
   "id": "0d7bb91e",
   "metadata": {},
   "source": [
    "---\n",
    "**Problem 41:** Pandigital Prime \n",
    "\n",
    "We shall say that an $n$-digit number is pandigital if it makes use of all the digits $1$ to $n$ exactly once. For example, 2143 is a 4-digit pandigital and is also prime.\n",
    "\n",
    "What is the largest $n$-digit pandigital prime that exists?"
   ]
  },
  {
   "cell_type": "code",
   "execution_count": 53,
   "id": "14bec0f8",
   "metadata": {},
   "outputs": [],
   "source": [
    "import itertools\n",
    "import math\n",
    "\n",
    "#Formatting tool\n",
    "def compactor(list_):\n",
    "    string = \"\"\n",
    "    for digit in list_:\n",
    "        string += str(digit)\n",
    "    return int(string)\n",
    "\n",
    "def get_n_digit_pandigital_ints(n):\n",
    "    '''Gets all pandigital nums of size n, sorts them, and filters them logically.\n",
    "    '''\n",
    "    \n",
    "    #Get list\n",
    "    pandigital_list = [list(list_) for list_ in list(itertools.permutations([i for i in range(1,n+1)]))]\n",
    "    pan_ints = [compactor(list_) for list_ in pandigital_list]\n",
    "\n",
    "    #Sort them so in our search we can stop early if applicable\n",
    "    pan_ints.sort(reverse = True)\n",
    "\n",
    "    #Remove integers that are even or divisible by 5\n",
    "    purified_ints = [num for num in pan_ints if str(num)[-1] not in ['2','4','5','6','8']]\n",
    "    return purified_ints\n",
    "\n",
    "def is_prime_speedy(number):\n",
    "    '''Returns boolean if int is prime. Optimized speed using upper bound of square root.\n",
    "    '''\n",
    "    upper_bound = math.ceil(math.sqrt(number))+1\n",
    "    for i in range(3, upper_bound, 2):\n",
    "        if number % i == 0:\n",
    "            return False\n",
    "    return True"
   ]
  },
  {
   "cell_type": "code",
   "execution_count": 60,
   "id": "d32c683c",
   "metadata": {},
   "outputs": [
    {
     "name": "stdout",
     "output_type": "stream",
     "text": [
      "The largest prime 9-digit pandigital integer is:    7652413\n"
     ]
    },
    {
     "data": {
      "text/plain": [
       "'Got it!'"
      ]
     },
     "execution_count": 60,
     "metadata": {},
     "output_type": "execute_result"
    }
   ],
   "source": [
    "#Start at biggest n and go down from there\n",
    "def get_largest_prime():\n",
    "    for n_ in range(9,1, -1):\n",
    "        n_pandigital = get_n_digit_pandigital_ints(n_)\n",
    "        for pandigital in n_pandigital:\n",
    "            if is_prime_speedy(pandigital):\n",
    "                print(\"The largest prime 9-digit pandigital integer is:    {}\".format(pandigital))\n",
    "                return \"Got it!\"\n",
    "get_largest_prime()"
   ]
  },
  {
   "cell_type": "markdown",
   "id": "ef264952",
   "metadata": {},
   "source": [
    "---\n",
    "**Problem 42:** Coded Triangle Numbers \n",
    "\n",
    "The nth term of the sequence of triangle numbers is given by, $t_n = \\frac{1}{2}n(n+1)$; so the first ten triangle numbers are:\n",
    "\n",
    "$$1, 3, 6, 10, 15, 21, 28, 36, 45, 55, \\ldots$$\n",
    "\n",
    "By converting each letter in a word to a number corresponding to its alphabetical position and adding these values we form a word value. For example, the word value for SKY is $19 + 11 + 25 = 55 = t10$. If the word value is a triangle number then we shall call the word a triangle word.\n",
    "\n",
    "Using words.txt (right click and 'Save Link/Target As...'), a 16K text file containing nearly two-thousand common English words, how many are triangle words?"
   ]
  },
  {
   "cell_type": "code",
   "execution_count": 23,
   "id": "fe2994fd",
   "metadata": {},
   "outputs": [
    {
     "data": {
      "text/plain": [
       "192"
      ]
     },
     "execution_count": 23,
     "metadata": {},
     "output_type": "execute_result"
    }
   ],
   "source": [
    "#read in file\n",
    "txt_file = open(\"required_data/euler_problem_42.txt\", \"rt\") \n",
    "words = txt_file.read()         \n",
    "txt_file.close()\n",
    "\n",
    "#Some cleaning \n",
    "separate_words = words.split(',')\n",
    "clean_words = [word[1:-1] for word in separate_words]\n",
    "final_words = [word.lower() for word in clean_words]\n",
    "\n",
    "#Make a dictionary to encode letters\n",
    "alphabet = 'abcdefghijklmnopqrstuvwxyz'\n",
    "letter_to_number = {}\n",
    "for i in range(len(alphabet)):\n",
    "    letter_to_number[alphabet[i]] = i+1\n",
    "    \n",
    "#Get word values\n",
    "def word_to_number(word):\n",
    "    count = 0\n",
    "    for letter in word:\n",
    "        count += letter_to_number[letter]\n",
    "    return count\n",
    "word_values = [word_to_number(word) for word in final_words]\n",
    "max(word_values)"
   ]
  },
  {
   "cell_type": "code",
   "execution_count": 30,
   "id": "76a88bfc",
   "metadata": {},
   "outputs": [
    {
     "name": "stdout",
     "output_type": "stream",
     "text": [
      "There are 162 triangle words in the .txt file.\n"
     ]
    }
   ],
   "source": [
    "#So we only need triangle numbers up to that max word value\n",
    "#Solve 0 = n^2+n-384 (from formula)\n",
    "i = 1\n",
    "while i**2+i - 384 < 0:\n",
    "    i += 1\n",
    "upper_bound = i+1\n",
    "\n",
    "#Now get just the triangle numbers needed\n",
    "triangle_numbers = [int(i*(i+1)/2) for i in range(1, upper_bound)]\n",
    "\n",
    "#And search the word_values\n",
    "triangle_words = [word for word in word_values if word in triangle_numbers]\n",
    "print(\"There are {} triangle words in the .txt file.\".format(len(triangle_words)))"
   ]
  },
  {
   "cell_type": "markdown",
   "id": "25a3b807",
   "metadata": {},
   "source": [
    "**Problem 43:** Sub-String Divisibility\n",
    "\n",
    "The number, 1406357289, is a 0 to 9 pandigital number because it is made up of each of the digits 0 to 9 in some order, but it also has a rather interesting sub-string divisibility property.\n",
    "\n",
    "Let $d_n$ be the $n$-th digit of a number. In this way, we note the following:\n",
    "\n",
    "$$d_2 d_3 d_4=406 \\pmod 2 = 0$$ \n",
    "$$d_3 d_4 d_5=063 \\pmod 3 = 0$$ \n",
    "$$d_4 d_5 d_6=635 \\pmod 5 = 0$$\n",
    "$$d_5 d_6 d_7=357 \\pmod 7 = 0$$ \n",
    "$$d_6 d_7 d_8=572 \\pmod{11} = 0$$ \n",
    "$$d_7 d_8 d_9=728 \\pmod{13} = 0$$ \n",
    "$$d_8 d_9 d_10=289 \\pmod{17} = 0$$\n",
    "Find the sum of all 0 to 9 pandigital numbers with this property."
   ]
  },
  {
   "cell_type": "code",
   "execution_count": 4,
   "id": "c1774990",
   "metadata": {},
   "outputs": [
    {
     "name": "stdout",
     "output_type": "stream",
     "text": [
      "There are 3628800 pandigital numbers 0 to 9.\n"
     ]
    }
   ],
   "source": [
    "import itertools\n",
    "import math\n",
    "\n",
    "#Formatting tool\n",
    "def compactor(list_):\n",
    "    string = \"\"\n",
    "    for digit in list_:\n",
    "        string += str(digit)\n",
    "    return string\n",
    "\n",
    "def get_n_digit_pandigital_ints(n):\n",
    "    '''Gets all pandigital nums of size n+1, sorts them, and filters them logically.\n",
    "    '''\n",
    "    \n",
    "    #Get list\n",
    "    pandigital_list = [list(list_) for list_ in list(itertools.permutations([i for i in range(0,n+1)]))]\n",
    "    pan_ints_str = [compactor(list_) for list_ in pandigital_list]\n",
    "    return pan_ints_str\n",
    "pandigital_10 = get_n_digit_pandigital_ints(9)\n",
    "print(\"There are {} pandigital numbers 0 to 9.\".format(len(pandigital_10)))"
   ]
  },
  {
   "cell_type": "code",
   "execution_count": 8,
   "id": "db919916",
   "metadata": {},
   "outputs": [
    {
     "name": "stdout",
     "output_type": "stream",
     "text": [
      "There are 6 positive cases.\n",
      "The numbers are:\n",
      "['1406357289', '1430952867', '1460357289', '4106357289', '4130952867', '4160357289']\n",
      "The sum is 16695334890.\n"
     ]
    }
   ],
   "source": [
    "check_list = [2,3,5,7,11,13,17]\n",
    "def check_string_condition(num_string):\n",
    "    '''Checks the string for the desired condition.\n",
    "    '''\n",
    "    for i in range(1,len(num_string)-2):\n",
    "        if int(num_string[i:i+3]) % check_list[i-1] != 0:\n",
    "            return False\n",
    "    return True\n",
    "positive_cases = [string for string in pandigital_10 if check_string_condition(string)]\n",
    "print(\"There are {} positive cases.\".format(len(positive_cases)))\n",
    "print(\"The numbers are:\")\n",
    "print(positive_cases)\n",
    "print(\"The sum is {}.\".format(sum([int(x) for x in positive_cases])))"
   ]
  },
  {
   "cell_type": "markdown",
   "id": "7d0fda4b",
   "metadata": {},
   "source": [
    "---\n",
    "**Problem 44:** Pentagon Numbers\n",
    "\n",
    "Pentagonal numbers are generated by the formula, $P_n=n(3n−1)/2$. The first ten pentagonal numbers are:\n",
    "\n",
    "$$1, 5, 12, 22, 35, 51, 70, 92, 117, 145, \\ldots$$\n",
    "\n",
    "It can be seen that $P_4 + P_7 = 22 + 70 = 92 = P_8$. However, their difference, $70 − 22 = 48$, is not pentagonal.\n",
    "\n",
    "Find the pair of pentagonal numbers, $P_j$ and $P_k$, for which their sum and difference are pentagonal and $D = |P_k − P_j|$ is minimised; what is the value of D?"
   ]
  },
  {
   "cell_type": "code",
   "execution_count": 39,
   "id": "bfdeda2f",
   "metadata": {},
   "outputs": [],
   "source": [
    "check_list = [int(i*(3*i - 1)/2) for i in range(1, 100000)]\n",
    "def condition(x, y, list_):\n",
    "    return x+y in list_ and abs(y-x) in list_"
   ]
  },
  {
   "cell_type": "code",
   "execution_count": null,
   "id": "4ff6619f",
   "metadata": {},
   "outputs": [],
   "source": []
  },
  {
   "cell_type": "markdown",
   "id": "1d5a4c2c",
   "metadata": {},
   "source": [
    "Triangle, pentagonal, and hexagonal numbers are generated by the following formulae:\n",
    "\n",
    "Triangle\t \tTn=n(n+1)/2\t \t1, 3, 6, 10, 15, ...\n",
    "Pentagonal\t \tPn=n(3n−1)/2\t \t1, 5, 12, 22, 35, ...\n",
    "Hexagonal\t \tHn=n(2n−1)\t \t1, 6, 15, 28, 45, ...\n",
    "It can be verified that T285 = P165 = H143 = 40755.\n",
    "\n",
    "Find the next triangle number that is also pentagonal and hexagonal."
   ]
  },
  {
   "cell_type": "code",
   "execution_count": null,
   "id": "21ac51e8",
   "metadata": {},
   "outputs": [],
   "source": []
  }
 ],
 "metadata": {
  "kernelspec": {
   "display_name": "Python 3",
   "language": "python",
   "name": "python3"
  },
  "language_info": {
   "codemirror_mode": {
    "name": "ipython",
    "version": 3
   },
   "file_extension": ".py",
   "mimetype": "text/x-python",
   "name": "python",
   "nbconvert_exporter": "python",
   "pygments_lexer": "ipython3",
   "version": "3.7.7"
  }
 },
 "nbformat": 4,
 "nbformat_minor": 5
}
